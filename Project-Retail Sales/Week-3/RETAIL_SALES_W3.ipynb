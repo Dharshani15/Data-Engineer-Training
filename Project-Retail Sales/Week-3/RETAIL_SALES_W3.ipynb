{
  "nbformat": 4,
  "nbformat_minor": 0,
  "metadata": {
    "colab": {
      "provenance": []
    },
    "kernelspec": {
      "name": "python3",
      "display_name": "Python 3"
    },
    "language_info": {
      "name": "python"
    }
  },
  "cells": [
    {
      "cell_type": "code",
      "execution_count": null,
      "metadata": {
        "colab": {
          "base_uri": "https://localhost:8080/",
          "height": 108
        },
        "id": "EiFdEGq2Lc-W",
        "outputId": "90729b64-885e-43bc-89e4-970841eaeb9f"
      },
      "outputs": [
        {
          "output_type": "display_data",
          "data": {
            "text/plain": [
              "<IPython.core.display.HTML object>"
            ],
            "text/html": [
              "\n",
              "     <input type=\"file\" id=\"files-534e998a-ce35-4fc0-8597-a9e202a1e3ac\" name=\"files[]\" multiple disabled\n",
              "        style=\"border:none\" />\n",
              "     <output id=\"result-534e998a-ce35-4fc0-8597-a9e202a1e3ac\">\n",
              "      Upload widget is only available when the cell has been executed in the\n",
              "      current browser session. Please rerun this cell to enable.\n",
              "      </output>\n",
              "      <script>// Copyright 2017 Google LLC\n",
              "//\n",
              "// Licensed under the Apache License, Version 2.0 (the \"License\");\n",
              "// you may not use this file except in compliance with the License.\n",
              "// You may obtain a copy of the License at\n",
              "//\n",
              "//      http://www.apache.org/licenses/LICENSE-2.0\n",
              "//\n",
              "// Unless required by applicable law or agreed to in writing, software\n",
              "// distributed under the License is distributed on an \"AS IS\" BASIS,\n",
              "// WITHOUT WARRANTIES OR CONDITIONS OF ANY KIND, either express or implied.\n",
              "// See the License for the specific language governing permissions and\n",
              "// limitations under the License.\n",
              "\n",
              "/**\n",
              " * @fileoverview Helpers for google.colab Python module.\n",
              " */\n",
              "(function(scope) {\n",
              "function span(text, styleAttributes = {}) {\n",
              "  const element = document.createElement('span');\n",
              "  element.textContent = text;\n",
              "  for (const key of Object.keys(styleAttributes)) {\n",
              "    element.style[key] = styleAttributes[key];\n",
              "  }\n",
              "  return element;\n",
              "}\n",
              "\n",
              "// Max number of bytes which will be uploaded at a time.\n",
              "const MAX_PAYLOAD_SIZE = 100 * 1024;\n",
              "\n",
              "function _uploadFiles(inputId, outputId) {\n",
              "  const steps = uploadFilesStep(inputId, outputId);\n",
              "  const outputElement = document.getElementById(outputId);\n",
              "  // Cache steps on the outputElement to make it available for the next call\n",
              "  // to uploadFilesContinue from Python.\n",
              "  outputElement.steps = steps;\n",
              "\n",
              "  return _uploadFilesContinue(outputId);\n",
              "}\n",
              "\n",
              "// This is roughly an async generator (not supported in the browser yet),\n",
              "// where there are multiple asynchronous steps and the Python side is going\n",
              "// to poll for completion of each step.\n",
              "// This uses a Promise to block the python side on completion of each step,\n",
              "// then passes the result of the previous step as the input to the next step.\n",
              "function _uploadFilesContinue(outputId) {\n",
              "  const outputElement = document.getElementById(outputId);\n",
              "  const steps = outputElement.steps;\n",
              "\n",
              "  const next = steps.next(outputElement.lastPromiseValue);\n",
              "  return Promise.resolve(next.value.promise).then((value) => {\n",
              "    // Cache the last promise value to make it available to the next\n",
              "    // step of the generator.\n",
              "    outputElement.lastPromiseValue = value;\n",
              "    return next.value.response;\n",
              "  });\n",
              "}\n",
              "\n",
              "/**\n",
              " * Generator function which is called between each async step of the upload\n",
              " * process.\n",
              " * @param {string} inputId Element ID of the input file picker element.\n",
              " * @param {string} outputId Element ID of the output display.\n",
              " * @return {!Iterable<!Object>} Iterable of next steps.\n",
              " */\n",
              "function* uploadFilesStep(inputId, outputId) {\n",
              "  const inputElement = document.getElementById(inputId);\n",
              "  inputElement.disabled = false;\n",
              "\n",
              "  const outputElement = document.getElementById(outputId);\n",
              "  outputElement.innerHTML = '';\n",
              "\n",
              "  const pickedPromise = new Promise((resolve) => {\n",
              "    inputElement.addEventListener('change', (e) => {\n",
              "      resolve(e.target.files);\n",
              "    });\n",
              "  });\n",
              "\n",
              "  const cancel = document.createElement('button');\n",
              "  inputElement.parentElement.appendChild(cancel);\n",
              "  cancel.textContent = 'Cancel upload';\n",
              "  const cancelPromise = new Promise((resolve) => {\n",
              "    cancel.onclick = () => {\n",
              "      resolve(null);\n",
              "    };\n",
              "  });\n",
              "\n",
              "  // Wait for the user to pick the files.\n",
              "  const files = yield {\n",
              "    promise: Promise.race([pickedPromise, cancelPromise]),\n",
              "    response: {\n",
              "      action: 'starting',\n",
              "    }\n",
              "  };\n",
              "\n",
              "  cancel.remove();\n",
              "\n",
              "  // Disable the input element since further picks are not allowed.\n",
              "  inputElement.disabled = true;\n",
              "\n",
              "  if (!files) {\n",
              "    return {\n",
              "      response: {\n",
              "        action: 'complete',\n",
              "      }\n",
              "    };\n",
              "  }\n",
              "\n",
              "  for (const file of files) {\n",
              "    const li = document.createElement('li');\n",
              "    li.append(span(file.name, {fontWeight: 'bold'}));\n",
              "    li.append(span(\n",
              "        `(${file.type || 'n/a'}) - ${file.size} bytes, ` +\n",
              "        `last modified: ${\n",
              "            file.lastModifiedDate ? file.lastModifiedDate.toLocaleDateString() :\n",
              "                                    'n/a'} - `));\n",
              "    const percent = span('0% done');\n",
              "    li.appendChild(percent);\n",
              "\n",
              "    outputElement.appendChild(li);\n",
              "\n",
              "    const fileDataPromise = new Promise((resolve) => {\n",
              "      const reader = new FileReader();\n",
              "      reader.onload = (e) => {\n",
              "        resolve(e.target.result);\n",
              "      };\n",
              "      reader.readAsArrayBuffer(file);\n",
              "    });\n",
              "    // Wait for the data to be ready.\n",
              "    let fileData = yield {\n",
              "      promise: fileDataPromise,\n",
              "      response: {\n",
              "        action: 'continue',\n",
              "      }\n",
              "    };\n",
              "\n",
              "    // Use a chunked sending to avoid message size limits. See b/62115660.\n",
              "    let position = 0;\n",
              "    do {\n",
              "      const length = Math.min(fileData.byteLength - position, MAX_PAYLOAD_SIZE);\n",
              "      const chunk = new Uint8Array(fileData, position, length);\n",
              "      position += length;\n",
              "\n",
              "      const base64 = btoa(String.fromCharCode.apply(null, chunk));\n",
              "      yield {\n",
              "        response: {\n",
              "          action: 'append',\n",
              "          file: file.name,\n",
              "          data: base64,\n",
              "        },\n",
              "      };\n",
              "\n",
              "      let percentDone = fileData.byteLength === 0 ?\n",
              "          100 :\n",
              "          Math.round((position / fileData.byteLength) * 100);\n",
              "      percent.textContent = `${percentDone}% done`;\n",
              "\n",
              "    } while (position < fileData.byteLength);\n",
              "  }\n",
              "\n",
              "  // All done.\n",
              "  yield {\n",
              "    response: {\n",
              "      action: 'complete',\n",
              "    }\n",
              "  };\n",
              "}\n",
              "\n",
              "scope.google = scope.google || {};\n",
              "scope.google.colab = scope.google.colab || {};\n",
              "scope.google.colab._files = {\n",
              "  _uploadFiles,\n",
              "  _uploadFilesContinue,\n",
              "};\n",
              "})(self);\n",
              "</script> "
            ]
          },
          "metadata": {}
        },
        {
          "output_type": "stream",
          "name": "stdout",
          "text": [
            "Saving cleaned_products.csv to cleaned_products.csv\n",
            "Saving cleaned_sales .csv to cleaned_sales .csv\n"
          ]
        }
      ],
      "source": [
        "from google.colab import files\n",
        "uploaded = files.upload()"
      ]
    },
    {
      "cell_type": "code",
      "source": [
        "from pyspark.sql import SparkSession\n",
        "from pyspark.sql.functions import col, month, year, to_date, avg, sum as spark_sum\n",
        "\n",
        "spark = SparkSession.builder.appName(\"Retail_Sales\").getOrCreate()\n",
        "\n",
        "sales_df = spark.read.csv(\"cleaned_sales .csv\", header=True, inferSchema=True)\n",
        "products_df = spark.read.csv(\"cleaned_products.csv\", header=True, inferSchema=True)"
      ],
      "metadata": {
        "id": "7M8bkOIsLiOf"
      },
      "execution_count": null,
      "outputs": []
    },
    {
      "cell_type": "code",
      "source": [
        "df = sales_df.join(products_df, on=\"product_id\", how=\"left\")\n",
        "\n",
        "df = df.withColumn(\"sale_date\", to_date(col(\"sale_date\").cast(\"string\"), \"yyyy-MM-dd\"))\n",
        "\n",
        "df = df.withColumn(\"revenue\", col(\"quantity\") * col(\"price\")) \\\n",
        "       .withColumn(\"discount_amount\", col(\"price\") * (col(\"discount\") / 100) * col(\"quantity\")) \\\n",
        "       .withColumn(\"profit\", col(\"revenue\") - col(\"discount_amount\"))\n",
        "\n",
        "df.printSchema()\n",
        "df.show()"
      ],
      "metadata": {
        "colab": {
          "base_uri": "https://localhost:8080/"
        },
        "id": "cgo68qnWLnFo",
        "outputId": "3e0d6bf5-055c-45e6-80d7-d1e8f37f9cfa"
      },
      "execution_count": null,
      "outputs": [
        {
          "output_type": "stream",
          "name": "stdout",
          "text": [
            "root\n",
            " |-- product_id: integer (nullable = true)\n",
            " |-- sale_id: integer (nullable = true)\n",
            " |-- store_id: integer (nullable = true)\n",
            " |-- quantity: double (nullable = true)\n",
            " |-- sale_date: date (nullable = true)\n",
            " |-- discount: double (nullable = true)\n",
            " |-- product_name: string (nullable = true)\n",
            " |-- category: string (nullable = true)\n",
            " |-- price: double (nullable = true)\n",
            " |-- revenue: double (nullable = true)\n",
            " |-- discount_amount: double (nullable = true)\n",
            " |-- profit: double (nullable = true)\n",
            "\n",
            "+----------+-------+--------+--------+----------+--------+--------------------+----------------+-----+-------+---------------+------+\n",
            "|product_id|sale_id|store_id|quantity| sale_date|discount|        product_name|        category|price|revenue|discount_amount|profit|\n",
            "+----------+-------+--------+--------+----------+--------+--------------------+----------------+-----+-------+---------------+------+\n",
            "|         1|   1001|       1|    10.0|2022-03-15|    10.0|  Parachute Hair Oil| Health & Beauty| 90.0|  900.0|           90.0| 810.0|\n",
            "|         2|   1002|       2|     5.0|2023-06-20|     5.0|     Dettol Handwash|Health & Hygiene|120.0|  600.0|           30.0| 570.0|\n",
            "|         3|   1003|       3|    20.0|2024-01-05|    10.0|  Britannia Biscuits|            Food| 35.0|  700.0|           70.0| 630.0|\n",
            "|         4|   1004|       4|    15.0|2023-11-12|     5.0|         Amul Butter|           Dairy| 50.0|  750.0|           37.5| 712.5|\n",
            "|         5|   1005|       5|    25.0|2022-12-30|    10.0|       Maggi Noodles|            Food| 15.0|  375.0|           37.5| 337.5|\n",
            "|         6|   1006|       6|    18.0|2024-07-10|     0.0|  Colgate Toothpaste|Health & Hygiene| 40.0|  720.0|            0.0| 720.0|\n",
            "|         7|   1007|       7|    22.0|2025-04-18|     0.0|Surf Excel Detergent|        Cleaning|180.0| 3960.0|            0.0|3960.0|\n",
            "|         1|   1008|       2|     5.0|2025-05-22|     0.0|  Parachute Hair Oil| Health & Beauty| 90.0|  450.0|            0.0| 450.0|\n",
            "|         3|   1009|       1|    10.0|2024-09-14|     0.0|  Britannia Biscuits|            Food| 35.0|  350.0|            0.0| 350.0|\n",
            "|         5|   1010|       3|    30.0|2023-02-28|     0.0|       Maggi Noodles|            Food| 15.0|  450.0|            0.0| 450.0|\n",
            "|         6|   1011|       4|     8.0|2022-10-09|     0.0|  Colgate Toothpaste|Health & Hygiene| 40.0|  320.0|            0.0| 320.0|\n",
            "|         8|   1012|       1|     1.0|2024-06-01|     0.0|             Unknown|            Food| 20.0|   20.0|            0.0|  20.0|\n",
            "|         9|   1013|       2|    10.0|      NULL|     0.0|             Cheese |           DAIRY| 50.0|  500.0|            0.0| 500.0|\n",
            "|        10|   1014|       3|     5.0|      NULL|     0.0|               Maggi|    NotAvailable| 15.0|   75.0|            0.0|  75.0|\n",
            "|        11|   1015|       2|     0.0|2025-01-01|     0.0|Invalid Price Pro...|            Misc|  0.0|    0.0|            0.0|   0.0|\n",
            "|        12|   1016|       0|    12.0|2024-08-15|     0.0|                NULL|            NULL| NULL|   NULL|           NULL|  NULL|\n",
            "+----------+-------+--------+--------+----------+--------+--------------------+----------------+-----+-------+---------------+------+\n",
            "\n"
          ]
        }
      ]
    },
    {
      "cell_type": "code",
      "source": [
        "from pyspark.sql import functions as F\n",
        "\n",
        "avg_revenue = df.select(F.avg(\"revenue\")).collect()[0][0]\n",
        "avg_profit = df.select(F.avg(\"profit\")).collect()[0][0]\n",
        "avg_quantity = df.select(F.avg(\"quantity\")).collect()[0][0]\n",
        "\n",
        "print(f\"Overall Avg Revenue: {avg_revenue:.2f}\")\n",
        "print(f\"Overall Avg Profit: {avg_profit:.2f}\")\n",
        "print(f\"Overall Avg Quantity: {avg_quantity:.2f}\")\n",
        "\n",
        "underperforming_products = df.filter(\n",
        "    (F.col(\"revenue\") < avg_revenue) |\n",
        "    (F.col(\"profit\") < avg_profit) |\n",
        "    (F.col(\"quantity\") < avg_quantity)\n",
        ")\n",
        "\n",
        "underperforming_products.select(\"product_id\", \"product_name\", \"revenue\", \"profit\", \"quantity\").show()"
      ],
      "metadata": {
        "colab": {
          "base_uri": "https://localhost:8080/"
        },
        "id": "Meokf7ZWLqiM",
        "outputId": "0f5bdd61-99bb-419d-dd87-ef202d5a9ab8"
      },
      "execution_count": null,
      "outputs": [
        {
          "output_type": "stream",
          "name": "stdout",
          "text": [
            "Overall Avg Revenue: 678.00\n",
            "Overall Avg Profit: 660.33\n",
            "Overall Avg Quantity: 12.25\n",
            "+----------+--------------------+-------+------+--------+\n",
            "|product_id|        product_name|revenue|profit|quantity|\n",
            "+----------+--------------------+-------+------+--------+\n",
            "|         1|  Parachute Hair Oil|  900.0| 810.0|    10.0|\n",
            "|         2|     Dettol Handwash|  600.0| 570.0|     5.0|\n",
            "|         3|  Britannia Biscuits|  700.0| 630.0|    20.0|\n",
            "|         5|       Maggi Noodles|  375.0| 337.5|    25.0|\n",
            "|         1|  Parachute Hair Oil|  450.0| 450.0|     5.0|\n",
            "|         3|  Britannia Biscuits|  350.0| 350.0|    10.0|\n",
            "|         5|       Maggi Noodles|  450.0| 450.0|    30.0|\n",
            "|         6|  Colgate Toothpaste|  320.0| 320.0|     8.0|\n",
            "|         8|             Unknown|   20.0|  20.0|     1.0|\n",
            "|         9|             Cheese |  500.0| 500.0|    10.0|\n",
            "|        10|               Maggi|   75.0|  75.0|     5.0|\n",
            "|        11|Invalid Price Pro...|    0.0|   0.0|     0.0|\n",
            "|        12|                NULL|   NULL|  NULL|    12.0|\n",
            "+----------+--------------------+-------+------+--------+\n",
            "\n"
          ]
        }
      ]
    },
    {
      "cell_type": "code",
      "source": [
        "from pyspark.sql.functions import to_date, year, month, sum as spark_sum, avg\n",
        "from pyspark.sql.functions import round\n",
        "\n",
        "df = df.withColumn(\"year\", year(\"sale_date\")).withColumn(\"month\", month(\"sale_date\"))\n",
        "\n",
        "monthly_revenue = df.groupBy(\"store_id\", \"year\", \"month\") \\\n",
        "    .agg(spark_sum(\"revenue\").alias(\"monthly_revenue\"))\n",
        "\n",
        "\n",
        "avg_monthly_revenue = monthly_revenue.groupBy(\"store_id\") \\\n",
        "    .agg(round(avg(\"monthly_revenue\"), 2).alias(\"avg_monthly_revenue\")) \\\n",
        "    .orderBy(\"store_id\")\n",
        "\n",
        "avg_monthly_revenue.show()"
      ],
      "metadata": {
        "colab": {
          "base_uri": "https://localhost:8080/"
        },
        "id": "TDUazVTsLrM6",
        "outputId": "e47881f5-c458-4fa7-f475-57c88d026837"
      },
      "execution_count": null,
      "outputs": [
        {
          "output_type": "stream",
          "name": "stdout",
          "text": [
            "+--------+-------------------+\n",
            "|store_id|avg_monthly_revenue|\n",
            "+--------+-------------------+\n",
            "|       0|               NULL|\n",
            "|       1|             423.33|\n",
            "|       2|              387.5|\n",
            "|       3|             408.33|\n",
            "|       4|              535.0|\n",
            "|       5|              375.0|\n",
            "|       6|              720.0|\n",
            "|       7|             3960.0|\n",
            "+--------+-------------------+\n",
            "\n"
          ]
        }
      ]
    },
    {
      "cell_type": "code",
      "source": [
        "from google.colab import files\n",
        "underperforming_products.toPandas().to_csv(\"underperforming_products.csv\", index=False)\n",
        "files.download(\"underperforming_products.csv\")"
      ],
      "metadata": {
        "id": "Y3wEvQ81LuEe"
      },
      "execution_count": null,
      "outputs": []
    }
  ]
}