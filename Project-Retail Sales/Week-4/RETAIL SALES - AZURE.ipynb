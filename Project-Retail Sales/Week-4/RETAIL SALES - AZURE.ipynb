{
 "cells": [
  {
   "cell_type": "code",
   "execution_count": 0,
   "metadata": {
    "application/vnd.databricks.v1+cell": {
     "cellMetadata": {
      "byteLimit": 2048000,
      "rowLimit": 10000
     },
     "inputWidgets": {},
     "nuid": "6aecdcc4-2881-4005-b319-465c09f88503",
     "showTitle": false,
     "tableResultSettingsMap": {},
     "title": ""
    }
   },
   "outputs": [
    {
     "output_type": "stream",
     "name": "stdout",
     "output_type": "stream",
     "text": [
      "+-------+----------+--------+--------+----------+--------+\n|sale_id|product_id|store_id|quantity| sale_date|discount|\n+-------+----------+--------+--------+----------+--------+\n|   1001|         1|       1|    10.0|2022-03-15|    10.0|\n|   1002|         2|       2|     5.0|2023-06-20|     5.0|\n|   1003|         3|       3|    20.0|2024-01-05|    10.0|\n|   1004|         4|       4|    15.0|2023-11-12|     5.0|\n|   1005|         5|       5|    25.0|2022-12-30|    10.0|\n|   1006|         6|       6|    18.0|2024-07-10|     0.0|\n|   1007|         7|       7|    22.0|2025-04-18|     0.0|\n|   1008|         1|       2|     5.0|2025-05-22|     0.0|\n|   1009|         3|       1|    10.0|2024-09-14|     0.0|\n|   1010|         5|       3|    30.0|2023-02-28|     0.0|\n|   1011|         6|       4|     8.0|2022-10-09|     0.0|\n|   1012|         8|       1|     1.0|2024-06-01|     0.0|\n|   1013|         9|       2|    10.0|0000-00-00|     0.0|\n|   1014|        10|       3|     5.0|0000-00-00|     0.0|\n|   1015|        11|       2|     0.0|2025-01-01|     0.0|\n|   1016|        12|       0|    12.0|2024-08-15|     0.0|\n+-------+----------+--------+--------+----------+--------+\n\n+----------+--------------------+----------------+-----+\n|product_id|        product_name|        category|price|\n+----------+--------------------+----------------+-----+\n|         1|  Parachute Hair Oil| Health & Beauty| 90.0|\n|         2|     Dettol Handwash|Health & Hygiene|120.0|\n|         3|  Britannia Biscuits|            Food| 35.0|\n|         4|         Amul Butter|           Dairy| 50.0|\n|         5|       Maggi Noodles|            Food| 15.0|\n|         6|  Colgate Toothpaste|Health & Hygiene| 40.0|\n|         7|Surf Excel Detergent|        Cleaning|180.0|\n|         8|             Unknown|            Food| 20.0|\n|         9|             Cheese |           DAIRY| 50.0|\n|        10|               Maggi|    NotAvailable| 15.0|\n|        11|Invalid Price Pro...|            Misc|  0.0|\n+----------+--------------------+----------------+-----+\n\n"
     ]
    }
   ],
   "source": [
    "csv_path1 = \"/Volumes/workspace/default/product/cleaned_sales .csv\"  \n",
    "csv_path2= \"/Volumes/workspace/default/product/cleaned_products.csv\"\n",
    "sales_df = spark.read.option(\"header\", \"true\").option(\"inferSchema\", \"true\").csv(csv_path1)\n",
    "products_df = spark.read.option(\"header\", \"true\").option(\"inferSchema\", \"true\").csv(csv_path2)\n",
    "sales_df.show()\n",
    "products_df.show()\n"
   ]
  },
  {
   "cell_type": "code",
   "execution_count": 0,
   "metadata": {
    "application/vnd.databricks.v1+cell": {
     "cellMetadata": {
      "byteLimit": 2048000,
      "rowLimit": 10000
     },
     "inputWidgets": {},
     "nuid": "ee42a404-6fb2-4b62-b582-a7a0625a66d6",
     "showTitle": false,
     "tableResultSettingsMap": {},
     "title": ""
    }
   },
   "outputs": [
    {
     "output_type": "stream",
     "name": "stdout",
     "output_type": "stream",
     "text": [
      "+----------+-------+--------+--------+----------+--------+--------------------+----------------+-----+-------+---------------+------+\n|product_id|sale_id|store_id|quantity| sale_date|discount|        product_name|        category|price|revenue|discount_amount|profit|\n+----------+-------+--------+--------+----------+--------+--------------------+----------------+-----+-------+---------------+------+\n|         1|   1001|       1|    10.0|2022-03-15|    10.0|  Parachute Hair Oil| Health & Beauty| 90.0|  900.0|           90.0| 810.0|\n|         2|   1002|       2|     5.0|2023-06-20|     5.0|     Dettol Handwash|Health & Hygiene|120.0|  600.0|           30.0| 570.0|\n|         3|   1003|       3|    20.0|2024-01-05|    10.0|  Britannia Biscuits|            Food| 35.0|  700.0|           70.0| 630.0|\n|         4|   1004|       4|    15.0|2023-11-12|     5.0|         Amul Butter|           Dairy| 50.0|  750.0|           37.5| 712.5|\n|         5|   1005|       5|    25.0|2022-12-30|    10.0|       Maggi Noodles|            Food| 15.0|  375.0|           37.5| 337.5|\n|         6|   1006|       6|    18.0|2024-07-10|     0.0|  Colgate Toothpaste|Health & Hygiene| 40.0|  720.0|            0.0| 720.0|\n|         7|   1007|       7|    22.0|2025-04-18|     0.0|Surf Excel Detergent|        Cleaning|180.0| 3960.0|            0.0|3960.0|\n|         1|   1008|       2|     5.0|2025-05-22|     0.0|  Parachute Hair Oil| Health & Beauty| 90.0|  450.0|            0.0| 450.0|\n|         3|   1009|       1|    10.0|2024-09-14|     0.0|  Britannia Biscuits|            Food| 35.0|  350.0|            0.0| 350.0|\n|         5|   1010|       3|    30.0|2023-02-28|     0.0|       Maggi Noodles|            Food| 15.0|  450.0|            0.0| 450.0|\n|         6|   1011|       4|     8.0|2022-10-09|     0.0|  Colgate Toothpaste|Health & Hygiene| 40.0|  320.0|            0.0| 320.0|\n|         8|   1012|       1|     1.0|2024-06-01|     0.0|             Unknown|            Food| 20.0|   20.0|            0.0|  20.0|\n|         9|   1013|       2|    10.0|0000-00-00|     0.0|             Cheese |           DAIRY| 50.0|  500.0|            0.0| 500.0|\n|        10|   1014|       3|     5.0|0000-00-00|     0.0|               Maggi|    NotAvailable| 15.0|   75.0|            0.0|  75.0|\n|        11|   1015|       2|     0.0|2025-01-01|     0.0|Invalid Price Pro...|            Misc|  0.0|    0.0|            0.0|   0.0|\n|        12|   1016|       0|    12.0|2024-08-15|     0.0|                NULL|            NULL| NULL|   NULL|           NULL|  NULL|\n+----------+-------+--------+--------+----------+--------+--------------------+----------------+-----+-------+---------------+------+\n\n"
     ]
    }
   ],
   "source": [
    "from pyspark.sql.functions import col, to_date\n",
    "df = sales_df.join(products_df, on=\"product_id\", how=\"left\")\n",
    "\n",
    "df = df.withColumn(\"revenue\", col(\"quantity\") * col(\"price\")) \\\n",
    "       .withColumn(\"discount_amount\", col(\"price\") * (col(\"discount\") / 100) * col(\"quantity\")) \\\n",
    "       .withColumn(\"profit\", col(\"revenue\") - col(\"discount_amount\"))\n",
    "\n",
    "df.show()\n"
   ]
  },
  {
   "cell_type": "code",
   "execution_count": 0,
   "metadata": {
    "application/vnd.databricks.v1+cell": {
     "cellMetadata": {
      "byteLimit": 2048000,
      "rowLimit": 10000
     },
     "inputWidgets": {},
     "nuid": "975541bb-904b-4a3e-b259-dbf0ac5ef7d8",
     "showTitle": false,
     "tableResultSettingsMap": {},
     "title": ""
    }
   },
   "outputs": [],
   "source": [
    "from pyspark.sql.functions import sum as spark_sum, round, col, when\n",
    "import time\n",
    "\n",
    "profit_margin_df = df.groupBy(\"category\") \\\n",
    "    .agg(\n",
    "        spark_sum(\"revenue\").alias(\"total_revenue\"),\n",
    "        spark_sum(\"profit\").alias(\"total_profit\")\n",
    "    ) \\\n",
    "    .withColumn(\n",
    "        \"profit_margin_percent\",\n",
    "        round(\n",
    "            when(col(\"total_revenue\") != 0,\n",
    "                 (col(\"total_profit\") / col(\"total_revenue\")) * 100\n",
    "            ).otherwise(None), 2\n",
    "        )\n",
    "    )\n",
    "\n",
    "# Save as Delta table\n",
    "profit_margin_df.write.format(\"delta\") \\\n",
    "    .mode(\"overwrite\") \\\n",
    "    .saveAsTable(\"profit_margin_by_category\")\n"
   ]
  },
  {
   "cell_type": "code",
   "execution_count": 0,
   "metadata": {
    "application/vnd.databricks.v1+cell": {
     "cellMetadata": {
      "byteLimit": 2048000,
      "implicitDf": true,
      "rowLimit": 10000
     },
     "inputWidgets": {},
     "nuid": "2964903c-3066-42c7-9d99-0fe1ea84a4b2",
     "showTitle": false,
     "tableResultSettingsMap": {},
     "title": ""
    }
   },
   "outputs": [
    {
     "output_type": "display_data",
     "data": {
      "text/html": [
       "<style scoped>\n",
       "  .table-result-container {\n",
       "    max-height: 300px;\n",
       "    overflow: auto;\n",
       "  }\n",
       "  table, th, td {\n",
       "    border: 1px solid black;\n",
       "    border-collapse: collapse;\n",
       "  }\n",
       "  th, td {\n",
       "    padding: 5px;\n",
       "  }\n",
       "  th {\n",
       "    text-align: left;\n",
       "  }\n",
       "</style><div class='table-result-container'><table class='table-result'><thead style='background-color: white'><tr><th>product_id</th><th>product_name</th><th>sale_id</th><th>total_sold</th></tr></thead><tbody><tr><td>5</td><td>Maggi Noodles</td><td>1010</td><td>30.0</td></tr><tr><td>5</td><td>Maggi Noodles</td><td>1005</td><td>25.0</td></tr><tr><td>7</td><td>Surf Excel Detergent</td><td>1007</td><td>22.0</td></tr></tbody></table></div>"
      ]
     },
     "metadata": {
      "application/vnd.databricks.v1+output": {
       "addedWidgets": {},
       "aggData": [],
       "aggError": "",
       "aggOverflow": false,
       "aggSchema": [],
       "aggSeriesLimitReached": false,
       "aggType": "",
       "arguments": {},
       "columnCustomDisplayInfos": {},
       "data": [
        [
         5,
         "Maggi Noodles",
         1010,
         30.0
        ],
        [
         5,
         "Maggi Noodles",
         1005,
         25.0
        ],
        [
         7,
         "Surf Excel Detergent",
         1007,
         22.0
        ]
       ],
       "datasetInfos": [],
       "dbfsResultPath": null,
       "isJsonSchema": true,
       "metadata": {},
       "overflow": false,
       "plotOptions": {
        "customPlotOptions": {},
        "displayType": "table",
        "pivotAggregation": null,
        "pivotColumns": null,
        "xColumns": null,
        "yColumns": null
       },
       "removedWidgets": [],
       "schema": [
        {
         "metadata": "{}",
         "name": "product_id",
         "type": "\"integer\""
        },
        {
         "metadata": "{}",
         "name": "product_name",
         "type": "\"string\""
        },
        {
         "metadata": "{}",
         "name": "sale_id",
         "type": "\"integer\""
        },
        {
         "metadata": "{}",
         "name": "total_sold",
         "type": "\"double\""
        }
       ],
       "type": "table"
      }
     },
     "output_type": "display_data"
    }
   ],
   "source": [
    "df.createOrReplaceTempView(\"sales_cleaned\")\n",
    "\n",
    "query = \"\"\"\n",
    "SELECT \n",
    "    product_id,\n",
    "    product_name,\n",
    "    sale_id,\n",
    "    SUM(quantity) AS total_sold\n",
    "FROM sales_cleaned\n",
    "GROUP BY product_id, sale_id,product_name\n",
    "ORDER BY total_sold DESC\n",
    "LIMIT 3;\n",
    "\"\"\"\n",
    "result = spark.sql(query)\n",
    "display(result)"
   ]
  },
  {
   "cell_type": "code",
   "execution_count": 0,
   "metadata": {
    "application/vnd.databricks.v1+cell": {
     "cellMetadata": {
      "byteLimit": 2048000,
      "rowLimit": 10000
     },
     "inputWidgets": {},
     "nuid": "2e63bfa5-a8a2-4e37-a7d1-f3b2800f0b99",
     "showTitle": false,
     "tableResultSettingsMap": {},
     "title": ""
    }
   },
   "outputs": [],
   "source": [
    "result.write.format(\"delta\") \\\n",
    "    .mode(\"overwrite\") \\\n",
    "    .saveAsTable(\"top_3\")\n"
   ]
  }
 ],
 "metadata": {
  "application/vnd.databricks.v1+notebook": {
   "computePreferences": {
    "hardware": {
     "accelerator": null,
     "gpuPoolId": null,
     "memory": null
    }
   },
   "dashboards": [],
   "environmentMetadata": {
    "base_environment": "",
    "environment_version": "2"
   },
   "inputWidgetPreferences": null,
   "language": "python",
   "notebookMetadata": {
    "mostRecentlyExecutedCommandWithImplicitDF": {
     "commandId": -1,
     "dataframes": [
      "_sqldf"
     ]
    },
    "pythonIndentUnit": 4
   },
   "notebookName": "RETAIL SALES - AZURE",
   "widgets": {}
  },
  "language_info": {
   "name": "python"
  }
 },
 "nbformat": 4,
 "nbformat_minor": 0
}