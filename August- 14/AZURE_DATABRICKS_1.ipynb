{
  "nbformat": 4,
  "nbformat_minor": 0,
  "metadata": {
    "colab": {
      "provenance": []
    },
    "kernelspec": {
      "name": "python3",
      "display_name": "Python 3"
    },
    "language_info": {
      "name": "python"
    }
  },
  "cells": [
    {
      "cell_type": "code",
      "source": [
        "!pip install pyspark==3.5.0 delta-spark==3.1.0"
      ],
      "metadata": {
        "colab": {
          "base_uri": "https://localhost:8080/",
          "height": 512
        },
        "collapsed": true,
        "id": "ptEBn8BP1qxf",
        "outputId": "1800cd28-26e2-4b0f-a1ac-f89b0167aa67"
      },
      "execution_count": null,
      "outputs": [
        {
          "output_type": "stream",
          "name": "stdout",
          "text": [
            "Collecting pyspark==3.5.0\n",
            "  Downloading pyspark-3.5.0.tar.gz (316.9 MB)\n",
            "\u001b[2K     \u001b[90m━━━━━━━━━━━━━━━━━━━━━━━━━━━━━━━━━━━━━━━\u001b[0m \u001b[32m316.9/316.9 MB\u001b[0m \u001b[31m5.0 MB/s\u001b[0m eta \u001b[36m0:00:00\u001b[0m\n",
            "\u001b[?25h  Preparing metadata (setup.py) ... \u001b[?25l\u001b[?25hdone\n",
            "Collecting delta-spark==3.1.0\n",
            "  Downloading delta_spark-3.1.0-py3-none-any.whl.metadata (1.9 kB)\n",
            "Requirement already satisfied: py4j==0.10.9.7 in /usr/local/lib/python3.11/dist-packages (from pyspark==3.5.0) (0.10.9.7)\n",
            "Requirement already satisfied: importlib-metadata>=1.0.0 in /usr/local/lib/python3.11/dist-packages (from delta-spark==3.1.0) (8.7.0)\n",
            "Requirement already satisfied: zipp>=3.20 in /usr/local/lib/python3.11/dist-packages (from importlib-metadata>=1.0.0->delta-spark==3.1.0) (3.23.0)\n",
            "Downloading delta_spark-3.1.0-py3-none-any.whl (21 kB)\n",
            "Building wheels for collected packages: pyspark\n",
            "  Building wheel for pyspark (setup.py) ... \u001b[?25l\u001b[?25hdone\n",
            "  Created wheel for pyspark: filename=pyspark-3.5.0-py2.py3-none-any.whl size=317425346 sha256=631a3a60eb024730a1c5a73c708f0c9dde64140907dfc4382ef476894ee6a1d1\n",
            "  Stored in directory: /root/.cache/pip/wheels/38/df/61/8c121f50c3cffd77f8178180dd232d90b3b99d1bd61fb6d6be\n",
            "Successfully built pyspark\n",
            "Installing collected packages: pyspark, delta-spark\n",
            "  Attempting uninstall: pyspark\n",
            "    Found existing installation: pyspark 3.5.1\n",
            "    Uninstalling pyspark-3.5.1:\n",
            "      Successfully uninstalled pyspark-3.5.1\n",
            "\u001b[31mERROR: pip's dependency resolver does not currently take into account all the packages that are installed. This behaviour is the source of the following dependency conflicts.\n",
            "dataproc-spark-connect 0.8.3 requires pyspark[connect]~=3.5.1, but you have pyspark 3.5.0 which is incompatible.\u001b[0m\u001b[31m\n",
            "\u001b[0mSuccessfully installed delta-spark-3.1.0 pyspark-3.5.0\n"
          ]
        },
        {
          "output_type": "display_data",
          "data": {
            "application/vnd.colab-display-data+json": {
              "pip_warning": {
                "packages": [
                  "pyspark"
                ]
              },
              "id": "3f1ccbeb0314455597f2b0606605db50"
            }
          },
          "metadata": {}
        }
      ]
    },
    {
      "cell_type": "code",
      "execution_count": null,
      "metadata": {
        "colab": {
          "base_uri": "https://localhost:8080/"
        },
        "id": "3NRCAoyh0hJ0",
        "outputId": "74d60ec9-d875-438a-e888-2c7162a11859"
      },
      "outputs": [
        {
          "output_type": "stream",
          "name": "stdout",
          "text": [
            "+--------+-------------+-----------+--------+------+\n",
            "|order_id|customer_name|   category|quantity|amount|\n",
            "+--------+-------------+-----------+--------+------+\n",
            "|       1|         John|Electronics|       2|   300|\n",
            "|       2|         Sara|   Clothing|       1|    50|\n",
            "|       3|         Mike|Electronics|       4|   600|\n",
            "|       4|         Nina|   Clothing|       3|   150|\n",
            "+--------+-------------+-----------+--------+------+\n",
            "\n"
          ]
        }
      ],
      "source": [
        "from pyspark.sql import SparkSession\n",
        "from delta import configure_spark_with_delta_pip\n",
        "builder = (\n",
        "SparkSession.builder.appName(\"DeltaDemo\")\n",
        ".config(\"spark.sql.extensions\", \"io.delta.sql.DeltaSparkSessionExtension\")\n",
        ".config(\"spark.sql.catalog.spark_catalog\",\n",
        "\"org.apache.spark.sql.delta.catalog.DeltaCatalog\")\n",
        ")\n",
        "spark = configure_spark_with_delta_pip(builder).getOrCreate()\n",
        "\n",
        "data = [\n",
        "(1, \"John\", \"Electronics\", 2, 300),\n",
        "(2, \"Sara\", \"Clothing\", 1, 50),\n",
        "(3, \"Mike\", \"Electronics\", 4, 600),\n",
        "(4, \"Nina\", \"Clothing\", 3, 150),\n",
        "]\n",
        "columns = [\"order_id\", \"customer_name\", \"category\", \"quantity\", \"amount\"]\n",
        "df = spark.createDataFrame(data, columns)\n",
        "\n",
        "df.write.format(\"delta\").mode(\"overwrite\").save(\"/tmp/orders_delta\")\n",
        "spark.read.format(\"delta\").load(\"/tmp/orders_delta\").show()"
      ]
    },
    {
      "cell_type": "markdown",
      "source": [
        "#1. Managed vs Unmanaged Tables"
      ],
      "metadata": {
        "id": "qVuqQKLWefEl"
      }
    },
    {
      "cell_type": "code",
      "source": [
        "spark.sql(\"drop table if exists orders_unmanaged\")\n",
        "spark.sql(\"drop table if exists orders_managed\")\n",
        "\n",
        "spark.sql(\"create table orders_unmanaged using delta location '/tmp/orders_delta' \")\n",
        "spark.sql(\"create table orders_managed using delta as select * from delta.`/tmp/orders_delta`\")\n",
        "\n",
        "print(\"Tables created.\")\n",
        "spark.sql(\"DESCRIBE EXTENDED orders_managed\").filter(\"col_name = 'Location'\").show(truncate=False)\n",
        "spark.sql(\"DESCRIBE EXTENDED orders_unmanaged\").filter(\"col_name = 'Location'\").show(truncate=False)\n"
      ],
      "metadata": {
        "colab": {
          "base_uri": "https://localhost:8080/"
        },
        "id": "ECVg0R_12-Xo",
        "outputId": "420efbaf-b61c-47ee-de76-776c79f33448"
      },
      "execution_count": null,
      "outputs": [
        {
          "output_type": "stream",
          "name": "stdout",
          "text": [
            "Tables created.\n",
            "+--------+--------------------------------------------+-------+\n",
            "|col_name|data_type                                   |comment|\n",
            "+--------+--------------------------------------------+-------+\n",
            "|Location|file:/content/spark-warehouse/orders_managed|       |\n",
            "+--------+--------------------------------------------+-------+\n",
            "\n",
            "+--------+----------------------+-------+\n",
            "|col_name|data_type             |comment|\n",
            "+--------+----------------------+-------+\n",
            "|Location|file:/tmp/orders_delta|       |\n",
            "+--------+----------------------+-------+\n",
            "\n"
          ]
        }
      ]
    },
    {
      "cell_type": "markdown",
      "source": [
        "#2. CRUD Operations"
      ],
      "metadata": {
        "id": "26fPoyrVej9n"
      }
    },
    {
      "cell_type": "code",
      "source": [
        "path = \"/tmp/orders_delta\"\n",
        "df = spark.read.format(\"delta\").load(path)\n",
        "df.show()"
      ],
      "metadata": {
        "colab": {
          "base_uri": "https://localhost:8080/"
        },
        "id": "t0QYiHJs5nd8",
        "outputId": "4d8daa9b-fc81-436a-957e-434a20a5b542"
      },
      "execution_count": null,
      "outputs": [
        {
          "output_type": "stream",
          "name": "stdout",
          "text": [
            "+--------+-------------+-----------+--------+------+\n",
            "|order_id|customer_name|   category|quantity|amount|\n",
            "+--------+-------------+-----------+--------+------+\n",
            "|       1|         John|Electronics|       2|   300|\n",
            "|       2|         Sara|   Clothing|       1|    50|\n",
            "|       3|         Mike|Electronics|       4|   600|\n",
            "|       4|         Nina|   Clothing|       3|   150|\n",
            "+--------+-------------+-----------+--------+------+\n",
            "\n"
          ]
        }
      ]
    },
    {
      "cell_type": "code",
      "source": [
        "from delta.tables import DeltaTable\n",
        "orders_delta = DeltaTable.forPath(spark, path)\n",
        "orders_delta.update( condition=\"category = 'Clothing'\", set={\"amount\": \"amount + 20\"})\n",
        "orders_delta.toDF().show()"
      ],
      "metadata": {
        "colab": {
          "base_uri": "https://localhost:8080/"
        },
        "id": "EKn9EjxI5-7N",
        "outputId": "3843e2ce-78c5-4cd7-b581-f8bb3d2484ce"
      },
      "execution_count": null,
      "outputs": [
        {
          "output_type": "stream",
          "name": "stdout",
          "text": [
            "+--------+-------------+-----------+--------+------+\n",
            "|order_id|customer_name|   category|quantity|amount|\n",
            "+--------+-------------+-----------+--------+------+\n",
            "|       3|         Mike|Electronics|       4|   600|\n",
            "|       4|         Nina|   Clothing|       3|   190|\n",
            "|       1|         John|Electronics|       2|   300|\n",
            "|       2|         Sara|   Clothing|       1|    90|\n",
            "+--------+-------------+-----------+--------+------+\n",
            "\n"
          ]
        }
      ]
    },
    {
      "cell_type": "code",
      "source": [
        "orders_delta.delete(\"quantity < 2\")\n",
        "orders_delta.toDF().show()"
      ],
      "metadata": {
        "colab": {
          "base_uri": "https://localhost:8080/"
        },
        "id": "gdTtWTVt65ws",
        "outputId": "e74a4a56-f8b9-4391-b912-ef938506271a"
      },
      "execution_count": null,
      "outputs": [
        {
          "output_type": "stream",
          "name": "stdout",
          "text": [
            "+--------+-------------+-----------+--------+------+\n",
            "|order_id|customer_name|   category|quantity|amount|\n",
            "+--------+-------------+-----------+--------+------+\n",
            "|       1|         John|Electronics|       2|   300|\n",
            "|       3|         Mike|Electronics|       4|   600|\n",
            "|       4|         Nina|   Clothing|       3|   190|\n",
            "+--------+-------------+-----------+--------+------+\n",
            "\n"
          ]
        }
      ]
    },
    {
      "cell_type": "code",
      "source": [
        "new_data = [\n",
        "    (3, \"Mike\", \"Electronics\", 5, 750),\n",
        "    (9, \"Liam\", \"Clothing\", 2, 120),\n",
        "    (10, \"Emma\", \"Electronics\", 1, 200)\n",
        "]\n",
        "columns = [\"order_id\", \"customer_name\", \"category\", \"quantity\", \"amount\"]\n",
        "new_df = spark.createDataFrame(new_data, columns)\n",
        "orders_delta.alias(\"t\").merge(new_df.alias(\"s\"),\"t.order_id = s.order_id\"  ).whenMatchedUpdateAll().whenNotMatchedInsertAll().execute()\n",
        "orders_delta.toDF().orderBy(\"order_id\").show()\n"
      ],
      "metadata": {
        "colab": {
          "base_uri": "https://localhost:8080/"
        },
        "id": "CvH-fCoa7L3E",
        "outputId": "4ace1046-0323-4a94-c016-557aa1eb9d20"
      },
      "execution_count": null,
      "outputs": [
        {
          "output_type": "stream",
          "name": "stdout",
          "text": [
            "+--------+-------------+-----------+--------+------+\n",
            "|order_id|customer_name|   category|quantity|amount|\n",
            "+--------+-------------+-----------+--------+------+\n",
            "|       1|         John|Electronics|       2|   300|\n",
            "|       3|         Mike|Electronics|       5|   750|\n",
            "|       4|         Nina|   Clothing|       3|   190|\n",
            "|       9|         Liam|   Clothing|       2|   120|\n",
            "|      10|         Emma|Electronics|       1|   200|\n",
            "+--------+-------------+-----------+--------+------+\n",
            "\n"
          ]
        }
      ]
    },
    {
      "cell_type": "markdown",
      "source": [
        "#3. History & Time Travel"
      ],
      "metadata": {
        "id": "onJWU1g8eoQK"
      }
    },
    {
      "cell_type": "code",
      "source": [
        "print(\"DESCRIBE HISTORY:\")\n",
        "spark.sql(\"DESCRIBE HISTORY delta.`/tmp/orders_delta`\").show(truncate=False)"
      ],
      "metadata": {
        "colab": {
          "base_uri": "https://localhost:8080/"
        },
        "id": "KoC4ZZC18K1d",
        "outputId": "7ea3eea5-3811-46a7-c289-6bf20be50035"
      },
      "execution_count": null,
      "outputs": [
        {
          "output_type": "stream",
          "name": "stdout",
          "text": [
            "DESCRIBE HISTORY:\n",
            "+-------+-----------------------+------+--------+---------+--------------------------------------------------------------------------------------------------------------------------------------------------------------------------------------------+----+--------+---------+-----------+--------------+-------------+-------------------------------------------------------------------------------------------------------------------------------------------------------------------------------------------------------------------------------------------------------------------------------------------------------------------------------------------------------------------------------------------------------------------------------------------------------------------------------------------------------------------------------------------------------------------------------------------------------------------------------------------------------+------------+-----------------------------------+\n",
            "|version|timestamp              |userId|userName|operation|operationParameters                                                                                                                                                                         |job |notebook|clusterId|readVersion|isolationLevel|isBlindAppend|operationMetrics                                                                                                                                                                                                                                                                                                                                                                                                                                                                                                                                                                                                                                       |userMetadata|engineInfo                         |\n",
            "+-------+-----------------------+------+--------+---------+--------------------------------------------------------------------------------------------------------------------------------------------------------------------------------------------+----+--------+---------+-----------+--------------+-------------+-------------------------------------------------------------------------------------------------------------------------------------------------------------------------------------------------------------------------------------------------------------------------------------------------------------------------------------------------------------------------------------------------------------------------------------------------------------------------------------------------------------------------------------------------------------------------------------------------------------------------------------------------------+------------+-----------------------------------+\n",
            "|9      |2025-08-14 05:03:15.576|NULL  |NULL    |MERGE    |{predicate -> [\"(order_id#8050L = order_id#18692L)\"], matchedPredicates -> [{\"actionType\":\"update\"}], notMatchedPredicates -> [{\"actionType\":\"insert\"}], notMatchedBySourcePredicates -> []}|NULL|NULL    |NULL     |8          |Serializable  |false        |{numTargetRowsCopied -> 1, numTargetRowsDeleted -> 0, numTargetFilesAdded -> 1, numTargetBytesAdded -> 1648, numTargetBytesRemoved -> 1648, numTargetDeletionVectorsAdded -> 0, numTargetRowsMatchedUpdated -> 3, executionTimeMs -> 5623, numTargetRowsInserted -> 0, numTargetRowsMatchedDeleted -> 0, numTargetDeletionVectorsUpdated -> 0, scanTimeMs -> 3616, numTargetRowsUpdated -> 3, numOutputRows -> 4, numTargetDeletionVectorsRemoved -> 0, numTargetRowsNotMatchedBySourceUpdated -> 0, numTargetChangeFilesAdded -> 0, numSourceRows -> 3, numTargetFilesRemoved -> 1, numTargetRowsNotMatchedBySourceDeleted -> 0, rewriteTimeMs -> 903}|NULL        |Apache-Spark/3.5.0 Delta-Lake/3.1.0|\n",
            "|8      |2025-08-14 05:02:58.663|NULL  |NULL    |DELETE   |{predicate -> [\"order_id#17526L IN (5,6)\"]}                                                                                                                                                 |NULL|NULL    |NULL     |7          |Serializable  |false        |{numRemovedFiles -> 1, numRemovedBytes -> 1774, numCopiedRows -> 4, numDeletionVectorsAdded -> 0, numDeletionVectorsRemoved -> 0, numAddedChangeFiles -> 0, executionTimeMs -> 4326, numDeletionVectorsUpdated -> 0, numDeletedRows -> 2, scanTimeMs -> 3266, numAddedFiles -> 1, numAddedBytes -> 1648, rewriteTimeMs -> 1060}                                                                                                                                                                                                                                                                                                                        |NULL        |Apache-Spark/3.5.0 Delta-Lake/3.1.0|\n",
            "|7      |2025-08-14 05:01:32.589|NULL  |NULL    |MERGE    |{predicate -> [\"(order_id#8050L = order_id#16114L)\"], matchedPredicates -> [{\"actionType\":\"update\"}], notMatchedPredicates -> [{\"actionType\":\"insert\"}], notMatchedBySourcePredicates -> []}|NULL|NULL    |NULL     |6          |Serializable  |false        |{numTargetRowsCopied -> 3, numTargetRowsDeleted -> 0, numTargetFilesAdded -> 1, numTargetBytesAdded -> 1774, numTargetBytesRemoved -> 1649, numTargetDeletionVectorsAdded -> 0, numTargetRowsMatchedUpdated -> 1, executionTimeMs -> 3854, numTargetRowsInserted -> 2, numTargetRowsMatchedDeleted -> 0, numTargetDeletionVectorsUpdated -> 0, scanTimeMs -> 2801, numTargetRowsUpdated -> 1, numOutputRows -> 6, numTargetDeletionVectorsRemoved -> 0, numTargetRowsNotMatchedBySourceUpdated -> 0, numTargetChangeFilesAdded -> 0, numSourceRows -> 3, numTargetFilesRemoved -> 1, numTargetRowsNotMatchedBySourceDeleted -> 0, rewriteTimeMs -> 685}|NULL        |Apache-Spark/3.5.0 Delta-Lake/3.1.0|\n",
            "|6      |2025-08-14 04:57:08.083|NULL  |NULL    |MERGE    |{predicate -> [\"(order_id#8050L = order_id#11919L)\"], matchedPredicates -> [{\"actionType\":\"update\"}], notMatchedPredicates -> [{\"actionType\":\"insert\"}], notMatchedBySourcePredicates -> []}|NULL|NULL    |NULL     |5          |Serializable  |false        |{numTargetRowsCopied -> 1, numTargetRowsDeleted -> 0, numTargetFilesAdded -> 1, numTargetBytesAdded -> 1649, numTargetBytesRemoved -> 1649, numTargetDeletionVectorsAdded -> 0, numTargetRowsMatchedUpdated -> 3, executionTimeMs -> 3221, numTargetRowsInserted -> 0, numTargetRowsMatchedDeleted -> 0, numTargetDeletionVectorsUpdated -> 0, scanTimeMs -> 2505, numTargetRowsUpdated -> 3, numOutputRows -> 4, numTargetDeletionVectorsRemoved -> 0, numTargetRowsNotMatchedBySourceUpdated -> 0, numTargetChangeFilesAdded -> 0, numSourceRows -> 3, numTargetFilesRemoved -> 1, numTargetRowsNotMatchedBySourceDeleted -> 0, rewriteTimeMs -> 464}|NULL        |Apache-Spark/3.5.0 Delta-Lake/3.1.0|\n",
            "|5      |2025-08-14 04:56:43.229|NULL  |NULL    |MERGE    |{predicate -> [\"(order_id#8050L = order_id#10585L)\"], matchedPredicates -> [{\"actionType\":\"update\"}], notMatchedPredicates -> [{\"actionType\":\"insert\"}], notMatchedBySourcePredicates -> []}|NULL|NULL    |NULL     |4          |Serializable  |false        |{numTargetRowsCopied -> 1, numTargetRowsDeleted -> 0, numTargetFilesAdded -> 1, numTargetBytesAdded -> 1649, numTargetBytesRemoved -> 1566, numTargetDeletionVectorsAdded -> 0, numTargetRowsMatchedUpdated -> 1, executionTimeMs -> 3962, numTargetRowsInserted -> 2, numTargetRowsMatchedDeleted -> 0, numTargetDeletionVectorsUpdated -> 0, scanTimeMs -> 2363, numTargetRowsUpdated -> 1, numOutputRows -> 4, numTargetDeletionVectorsRemoved -> 0, numTargetRowsNotMatchedBySourceUpdated -> 0, numTargetChangeFilesAdded -> 0, numSourceRows -> 3, numTargetFilesRemoved -> 1, numTargetRowsNotMatchedBySourceDeleted -> 0, rewriteTimeMs -> 939}|NULL        |Apache-Spark/3.5.0 Delta-Lake/3.1.0|\n",
            "|4      |2025-08-14 04:52:43.453|NULL  |NULL    |DELETE   |{predicate -> [\"(quantity#8053L < 2)\"]}                                                                                                                                                     |NULL|NULL    |NULL     |3          |Serializable  |false        |{numRemovedFiles -> 1, numRemovedBytes -> 1565, numCopiedRows -> 1, numDeletionVectorsAdded -> 0, numDeletionVectorsRemoved -> 0, numAddedChangeFiles -> 0, executionTimeMs -> 2112, numDeletionVectorsUpdated -> 0, numDeletedRows -> 1, scanTimeMs -> 1643, numAddedFiles -> 1, numAddedBytes -> 1567, rewriteTimeMs -> 468}                                                                                                                                                                                                                                                                                                                         |NULL        |Apache-Spark/3.5.0 Delta-Lake/3.1.0|\n",
            "|3      |2025-08-14 04:51:24.94 |NULL  |NULL    |UPDATE   |{predicate -> [\"(category#8052 = Clothing)\"]}                                                                                                                                               |NULL|NULL    |NULL     |2          |Serializable  |false        |{numRemovedFiles -> 2, numRemovedBytes -> 3131, numCopiedRows -> 2, numDeletionVectorsAdded -> 0, numDeletionVectorsRemoved -> 0, numAddedChangeFiles -> 0, executionTimeMs -> 1980, numDeletionVectorsUpdated -> 0, scanTimeMs -> 1531, numAddedFiles -> 2, numUpdatedRows -> 2, numAddedBytes -> 3131, rewriteTimeMs -> 449}                                                                                                                                                                                                                                                                                                                         |NULL        |Apache-Spark/3.5.0 Delta-Lake/3.1.0|\n",
            "|2      |2025-08-14 04:50:49.834|NULL  |NULL    |UPDATE   |{predicate -> [\"(category#6759 = Clothing)\"]}                                                                                                                                               |NULL|NULL    |NULL     |1          |Serializable  |false        |{numRemovedFiles -> 2, numRemovedBytes -> 3130, numCopiedRows -> 2, numDeletionVectorsAdded -> 0, numDeletionVectorsRemoved -> 0, numAddedChangeFiles -> 0, executionTimeMs -> 2937, numDeletionVectorsUpdated -> 0, scanTimeMs -> 2470, numAddedFiles -> 2, numUpdatedRows -> 2, numAddedBytes -> 3131, rewriteTimeMs -> 463}                                                                                                                                                                                                                                                                                                                         |NULL        |Apache-Spark/3.5.0 Delta-Lake/3.1.0|\n",
            "|1      |2025-08-14 04:34:32.203|NULL  |NULL    |WRITE    |{mode -> Overwrite, partitionBy -> []}                                                                                                                                                      |NULL|NULL    |NULL     |0          |Serializable  |false        |{numFiles -> 2, numOutputRows -> 4, numOutputBytes -> 3130}                                                                                                                                                                                                                                                                                                                                                                                                                                                                                                                                                                                            |NULL        |Apache-Spark/3.5.0 Delta-Lake/3.1.0|\n",
            "|0      |2025-08-14 04:32:50.218|NULL  |NULL    |WRITE    |{mode -> Overwrite, partitionBy -> []}                                                                                                                                                      |NULL|NULL    |NULL     |NULL       |Serializable  |false        |{numFiles -> 2, numOutputRows -> 4, numOutputBytes -> 3130}                                                                                                                                                                                                                                                                                                                                                                                                                                                                                                                                                                                            |NULL        |Apache-Spark/3.5.0 Delta-Lake/3.1.0|\n",
            "+-------+-----------------------+------+--------+---------+--------------------------------------------------------------------------------------------------------------------------------------------------------------------------------------------+----+--------+---------+-----------+--------------+-------------+-------------------------------------------------------------------------------------------------------------------------------------------------------------------------------------------------------------------------------------------------------------------------------------------------------------------------------------------------------------------------------------------------------------------------------------------------------------------------------------------------------------------------------------------------------------------------------------------------------------------------------------------------------+------------+-----------------------------------+\n",
            "\n"
          ]
        }
      ]
    },
    {
      "cell_type": "code",
      "source": [
        "print(\"Version 0 :\")\n",
        "spark.read.format(\"delta\").option(\"versionAsOf\", 0).load(path).orderBy(\"order_id\").show()\n",
        "\n",
        "print(\"Latest version:\")\n",
        "spark.read.format(\"delta\").load(path).orderBy(\"order_id\").show()\n"
      ],
      "metadata": {
        "colab": {
          "base_uri": "https://localhost:8080/"
        },
        "id": "IR3R24eu8oN3",
        "outputId": "176bced6-0533-4638-9bea-d7bb216d9d91"
      },
      "execution_count": null,
      "outputs": [
        {
          "output_type": "stream",
          "name": "stdout",
          "text": [
            "Version 0 :\n",
            "+--------+-------------+-----------+--------+------+\n",
            "|order_id|customer_name|   category|quantity|amount|\n",
            "+--------+-------------+-----------+--------+------+\n",
            "|       1|         John|Electronics|       2|   300|\n",
            "|       2|         Sara|   Clothing|       1|    50|\n",
            "|       3|         Mike|Electronics|       4|   600|\n",
            "|       4|         Nina|   Clothing|       3|   150|\n",
            "+--------+-------------+-----------+--------+------+\n",
            "\n",
            "Latest version:\n",
            "+--------+-------------+-----------+--------+------+\n",
            "|order_id|customer_name|   category|quantity|amount|\n",
            "+--------+-------------+-----------+--------+------+\n",
            "|       1|         John|Electronics|       2|   300|\n",
            "|       3|         Mike|Electronics|       5|   750|\n",
            "|       4|         Nina|   Clothing|       3|   190|\n",
            "|       9|         Liam|   Clothing|       2|   120|\n",
            "|      10|         Emma|Electronics|       1|   200|\n",
            "+--------+-------------+-----------+--------+------+\n",
            "\n"
          ]
        }
      ]
    },
    {
      "cell_type": "markdown",
      "source": [
        "#4. Incremental Load Pattern"
      ],
      "metadata": {
        "id": "JK5jYpy5es9B"
      }
    },
    {
      "cell_type": "code",
      "source": [
        "mini_batch = [\n",
        "    (5, \"Sophia\", \"Clothing\", 2, 180),\n",
        "    (6, \"Emma\", \"Electronics\", 1, 200)\n",
        "]\n",
        "batch_df = spark.createDataFrame(mini_batch,columns)\n",
        "batch_df.write.format(\"delta\").mode(\"append\").save(path)\n",
        "spark.read.format(\"delta\").load(path).orderBy(\"order_id\").show()"
      ],
      "metadata": {
        "colab": {
          "base_uri": "https://localhost:8080/"
        },
        "id": "fFvd5eDK81WU",
        "outputId": "30de96e6-dbdd-44a6-802b-5affc376be1b"
      },
      "execution_count": null,
      "outputs": [
        {
          "output_type": "stream",
          "name": "stdout",
          "text": [
            "+--------+-------------+-----------+--------+------+\n",
            "|order_id|customer_name|   category|quantity|amount|\n",
            "+--------+-------------+-----------+--------+------+\n",
            "|       1|         John|Electronics|       2|   300|\n",
            "|       3|         Mike|Electronics|       5|   750|\n",
            "|       4|         Nina|   Clothing|       3|   190|\n",
            "|       5|       Sophia|   Clothing|       2|   180|\n",
            "|       5|       Sophia|   Clothing|       2|   180|\n",
            "|       6|         Emma|Electronics|       1|   200|\n",
            "|       6|         Emma|Electronics|       1|   200|\n",
            "|       9|         Liam|   Clothing|       2|   120|\n",
            "|      10|         Emma|Electronics|       1|   200|\n",
            "+--------+-------------+-----------+--------+------+\n",
            "\n"
          ]
        }
      ]
    },
    {
      "cell_type": "markdown",
      "source": [
        "#6. Visualization"
      ],
      "metadata": {
        "id": "bifvX_2be5A6"
      }
    },
    {
      "cell_type": "code",
      "source": [
        "import pandas as pd\n",
        "import matplotlib.pyplot as plt\n",
        "pdf = spark.read.format(\"delta\").load(path).toPandas()\n",
        "agg = pdf.groupby(\"category\", as_index=False)[\"amount\"].sum()\n",
        "plt.figure(figsize=(6,5))\n",
        "plt.bar(agg[\"category\"], agg[\"amount\"])\n",
        "plt.xlabel(\"Category\")\n",
        "plt.ylabel(\"Total Amount\")\n",
        "plt.title(\"Category vs Total Amount\")\n",
        "plt.show()"
      ],
      "metadata": {
        "colab": {
          "base_uri": "https://localhost:8080/",
          "height": 487
        },
        "id": "IZGCRR9A_tZi",
        "outputId": "28308577-07f2-42b4-95b1-4653b450192b"
      },
      "execution_count": null,
      "outputs": [
        {
          "output_type": "display_data",
          "data": {
            "text/plain": [
              "<Figure size 600x500 with 1 Axes>"
            ],
            "image/png": "[encoded data removed]"
          },
          "metadata": {}
        }
      ]
    }
  ]
}