{
  "nbformat": 4,
  "nbformat_minor": 0,
  "metadata": {
    "colab": {
      "provenance": []
    },
    "kernelspec": {
      "name": "python3",
      "display_name": "Python 3"
    },
    "language_info": {
      "name": "python"
    }
  },
  "cells": [
    {
      "cell_type": "code",
      "execution_count": null,
      "metadata": {
        "colab": {
          "base_uri": "https://localhost:8080/"
        },
        "collapsed": true,
        "id": "_6f8nHosAX6W",
        "outputId": "a71a2bd8-6a1e-47d9-8e7e-4730eeb158da"
      },
      "outputs": [
        {
          "output_type": "stream",
          "name": "stdout",
          "text": [
            "Requirement already satisfied: pyspark==3.5.0 in /usr/local/lib/python3.11/dist-packages (3.5.0)\n",
            "Requirement already satisfied: delta-spark==3.1.0 in /usr/local/lib/python3.11/dist-packages (3.1.0)\n",
            "Requirement already satisfied: py4j==0.10.9.7 in /usr/local/lib/python3.11/dist-packages (from pyspark==3.5.0) (0.10.9.7)\n",
            "Requirement already satisfied: importlib-metadata>=1.0.0 in /usr/local/lib/python3.11/dist-packages (from delta-spark==3.1.0) (8.7.0)\n",
            "Requirement already satisfied: zipp>=3.20 in /usr/local/lib/python3.11/dist-packages (from importlib-metadata>=1.0.0->delta-spark==3.1.0) (3.23.0)\n"
          ]
        }
      ],
      "source": [
        "!pip install pyspark==3.5.0 delta-spark==3.1.0"
      ]
    },
    {
      "cell_type": "code",
      "source": [
        "from pyspark.sql import SparkSession\n",
        "from delta import configure_spark_with_delta_pip\n",
        "from pyspark.sql import functions as F, types as T\n",
        "from datetime import datetime\n",
        "\n",
        "builder = (\n",
        "SparkSession.builder.appName(\"DeltaRideHailing\")\n",
        ".config(\"spark.sql.extensions\",\"io.delta.sql.DeltaSparkSessionExtension\")\n",
        ".config(\"spark.sql.catalog.spark_catalog\",\"org.apache.spark.sql.delta.catalog.DeltaCatalog\")\n",
        ")\n",
        "spark = configure_spark_with_delta_pip(builder).getOrCreate()\n",
        "\n",
        "trip_schema = T.StructType([\n",
        "T.StructField(\"trip_id\", T.IntegerType()),\n",
        "T.StructField(\"rider_id\", T.StringType()),\n",
        "T.StructField(\"driver_id\", T.StringType()),\n",
        "T.StructField(\"city\", T.StringType()),\n",
        "T.StructField(\"distance_km\", T.DoubleType()),\n",
        "T.StructField(\"fare\", T.DoubleType()),\n",
        "T.StructField(\"tip\", T.DoubleType()),\n",
        "T.StructField(\"ts\", T.TimestampType())\n",
        "])\n",
        "driver_schema = T.StructType([\n",
        "T.StructField(\"driver_id\", T.StringType()),\n",
        "T.StructField(\"driver_name\",T.StringType()),\n",
        "T.StructField(\"rating\", T.DoubleType()),\n",
        "T.StructField(\"vehicle\", T.StringType())\n",
        "])\n",
        "trips_rows = [\n",
        "    (1001,\"R001\",\"D010\",\"Bengaluru\", 12.4, 320.0, 20.0, datetime(2025,8,8,8,5,0)),\n",
        "    (1002,\"R002\",\"D011\",\"Hyderabad\", 6.2, 150.0, 10.0, datetime(2025,8,8,8,15,0)),\n",
        "    (1003,\"R003\",\"D012\",\"Pune\", 3.5, 90.0, 0.0, datetime(2025,8,8,8,20,0)),\n",
        "    (1004,\"R001\",\"D010\",\"Bengaluru\", 18.9, 480.0, 25.0, datetime(2025,8,8,8,45,0)),\n",
        "    (1005,\"R004\",\"D013\",\"Chennai\", 10.0, 260.0, 15.0, datetime(2025,8,8,9,5,0)),\n",
        "    (1006,\"R005\",\"D012\",\"Pune\", 2.2, 70.0, 0.0, datetime(2025,8,8,9,10,0))\n",
        "]\n",
        "drivers_rows = [\n",
        "(\"D010\",\"Anil\", 4.8,\"WagonR\"),\n",
        "(\"D011\",\"Sana\", 4.6,\"i20\"),\n",
        "(\"D012\",\"Rakesh\", 4.4,\"Swift\"),\n",
        "(\"D013\",\"Meera\", 4.9,\"Ciaz\")\n",
        "]\n",
        "trips_df = spark.createDataFrame(trips_rows, schema=trip_schema)\n",
        "drivers_df = spark.createDataFrame(drivers_rows, schema=driver_schema)\n",
        "\n",
        "BASE = \"/tmp/delta/ride_hailing\"\n",
        "TRIPS_PATH = f\"{BASE}/trips\"\n",
        "DRIVERS_PATH = f\"{BASE}/drivers\"\n",
        "trips_df.write.format(\"delta\").mode(\"overwrite\").save(TRIPS_PATH)\n",
        "drivers_df.write.format(\"delta\").mode(\"overwrite\").save(DRIVERS_PATH)\n",
        "print(\"Seeded:\")\n",
        "print(\" Trips ->\", TRIPS_PATH)\n",
        "print(\" Drivers->\", DRIVERS_PATH)\n"
      ],
      "metadata": {
        "colab": {
          "base_uri": "https://localhost:8080/"
        },
        "id": "l-n1C01FCcIB",
        "outputId": "d5876071-cc29-47bb-aec2-4dfaa93ea5f2"
      },
      "execution_count": null,
      "outputs": [
        {
          "output_type": "stream",
          "name": "stdout",
          "text": [
            "Seeded:\n",
            " Trips -> /tmp/delta/ride_hailing/trips\n",
            " Drivers-> /tmp/delta/ride_hailing/drivers\n"
          ]
        }
      ]
    },
    {
      "cell_type": "markdown",
      "source": [
        "#1) Managed vs Unmanaged Tables"
      ],
      "metadata": {
        "id": "nytRVJ6-bqiB"
      }
    },
    {
      "cell_type": "code",
      "source": [
        "spark.sql(\"drop table if exists trips_managed\")\n",
        "spark.sql(f\"create table trips_managed using delta as select * from delta.`{TRIPS_PATH}`\")"
      ],
      "metadata": {
        "colab": {
          "base_uri": "https://localhost:8080/"
        },
        "id": "sC86TYxdBGOQ",
        "outputId": "4f967053-7df8-4f8f-d924-3931e677a554"
      },
      "execution_count": null,
      "outputs": [
        {
          "output_type": "execute_result",
          "data": {
            "text/plain": [
              "DataFrame[]"
            ]
          },
          "metadata": {},
          "execution_count": 7
        }
      ]
    },
    {
      "cell_type": "code",
      "source": [
        "spark.sql(\"drop table if exists drivers_ext\")\n",
        "spark.sql(f\" create table drivers_ext using delta location '{DRIVERS_PATH}'\")"
      ],
      "metadata": {
        "colab": {
          "base_uri": "https://localhost:8080/"
        },
        "id": "Ea9tHYrqBG7G",
        "outputId": "07169d74-86d0-45d5-dbf9-ecf8db943c92"
      },
      "execution_count": null,
      "outputs": [
        {
          "output_type": "execute_result",
          "data": {
            "text/plain": [
              "DataFrame[]"
            ]
          },
          "metadata": {},
          "execution_count": 8
        }
      ]
    },
    {
      "cell_type": "code",
      "source": [
        "spark.sql(\"DESCRIBE DETAIL trips_managed\").select(\"location\").show(truncate=False)\n",
        "\n",
        "spark.sql(\"DESCRIBE DETAIL drivers_ext\").select(\"location\").show(truncate=False)\n"
      ],
      "metadata": {
        "colab": {
          "base_uri": "https://localhost:8080/"
        },
        "id": "Jzndsp6nBJuB",
        "outputId": "e933d224-0016-4a6c-bcb6-0414597866c0"
      },
      "execution_count": null,
      "outputs": [
        {
          "output_type": "stream",
          "name": "stdout",
          "text": [
            "+-------------------------------------------+\n",
            "|location                                   |\n",
            "+-------------------------------------------+\n",
            "|file:/content/spark-warehouse/trips_managed|\n",
            "+-------------------------------------------+\n",
            "\n",
            "+------------------------------------+\n",
            "|location                            |\n",
            "+------------------------------------+\n",
            "|file:/tmp/delta/ride_hailing/drivers|\n",
            "+------------------------------------+\n",
            "\n"
          ]
        }
      ]
    },
    {
      "cell_type": "markdown",
      "source": [
        "#2) Read & Explore"
      ],
      "metadata": {
        "id": "xn2beZPJbz91"
      }
    },
    {
      "cell_type": "code",
      "source": [
        "trips_df = spark.table(\"trips_managed\")\n",
        "trips_df.printSchema()\n",
        "trips_df.show(10, truncate=False)\n",
        "\n",
        "drivers_df = spark.table(\"drivers_ext\")\n",
        "drivers_df.printSchema()\n",
        "drivers_df.show(10, truncate=False)\n",
        "\n"
      ],
      "metadata": {
        "colab": {
          "base_uri": "https://localhost:8080/"
        },
        "id": "1N8zn0W5EoB_",
        "outputId": "5f0d3e80-9953-4b4a-bfd5-9791d50f694b"
      },
      "execution_count": null,
      "outputs": [
        {
          "output_type": "stream",
          "name": "stdout",
          "text": [
            "root\n",
            " |-- trip_id: integer (nullable = true)\n",
            " |-- rider_id: string (nullable = true)\n",
            " |-- driver_id: string (nullable = true)\n",
            " |-- city: string (nullable = true)\n",
            " |-- distance_km: double (nullable = true)\n",
            " |-- fare: double (nullable = true)\n",
            " |-- tip: double (nullable = true)\n",
            " |-- ts: timestamp (nullable = true)\n",
            "\n",
            "+-------+--------+---------+---------+-----------+-----+----+-------------------+\n",
            "|trip_id|rider_id|driver_id|city     |distance_km|fare |tip |ts                 |\n",
            "+-------+--------+---------+---------+-----------+-----+----+-------------------+\n",
            "|1004   |R001    |D010     |Bengaluru|18.9       |480.0|25.0|2025-08-08 08:45:00|\n",
            "|1005   |R004    |D013     |Chennai  |10.0       |260.0|15.0|2025-08-08 09:05:00|\n",
            "|1006   |R005    |D012     |Pune     |2.2        |70.0 |0.0 |2025-08-08 09:10:00|\n",
            "|1001   |R001    |D010     |Bengaluru|12.4       |320.0|20.0|2025-08-08 08:05:00|\n",
            "|1002   |R002    |D011     |Hyderabad|6.2        |150.0|10.0|2025-08-08 08:15:00|\n",
            "|1003   |R003    |D012     |Pune     |3.5        |90.0 |0.0 |2025-08-08 08:20:00|\n",
            "+-------+--------+---------+---------+-----------+-----+----+-------------------+\n",
            "\n",
            "root\n",
            " |-- driver_id: string (nullable = true)\n",
            " |-- driver_name: string (nullable = true)\n",
            " |-- rating: double (nullable = true)\n",
            " |-- vehicle: string (nullable = true)\n",
            "\n",
            "+---------+-----------+------+-------+\n",
            "|driver_id|driver_name|rating|vehicle|\n",
            "+---------+-----------+------+-------+\n",
            "|D012     |Rakesh     |4.4   |Swift  |\n",
            "|D013     |Meera      |4.9   |Ciaz   |\n",
            "|D010     |Anil       |4.8   |WagonR |\n",
            "|D011     |Sana       |4.6   |i20    |\n",
            "+---------+-----------+------+-------+\n",
            "\n"
          ]
        }
      ]
    },
    {
      "cell_type": "code",
      "source": [
        "trips_with_total = trips_df.withColumn(\"total_amount\", F.col(\"fare\") + F.col(\"tip\"))\n",
        "trips_with_total.orderBy(F.col(\"total_amount\").desc()).show(5, truncate=False)\n"
      ],
      "metadata": {
        "colab": {
          "base_uri": "https://localhost:8080/"
        },
        "id": "XpMcIh6bFciY",
        "outputId": "1eb61ffa-2389-4f23-bf30-daf96244c416"
      },
      "execution_count": null,
      "outputs": [
        {
          "output_type": "stream",
          "name": "stdout",
          "text": [
            "+-------+--------+---------+---------+-----------+-----+----+-------------------+------------+\n",
            "|trip_id|rider_id|driver_id|city     |distance_km|fare |tip |ts                 |total_amount|\n",
            "+-------+--------+---------+---------+-----------+-----+----+-------------------+------------+\n",
            "|1004   |R001    |D010     |Bengaluru|18.9       |480.0|25.0|2025-08-08 08:45:00|505.0       |\n",
            "|1001   |R001    |D010     |Bengaluru|12.4       |320.0|20.0|2025-08-08 08:05:00|340.0       |\n",
            "|1005   |R004    |D013     |Chennai  |10.0       |260.0|15.0|2025-08-08 09:05:00|275.0       |\n",
            "|1002   |R002    |D011     |Hyderabad|6.2        |150.0|10.0|2025-08-08 08:15:00|160.0       |\n",
            "|1003   |R003    |D012     |Pune     |3.5        |90.0 |0.0 |2025-08-08 08:20:00|90.0        |\n",
            "+-------+--------+---------+---------+-----------+-----+----+-------------------+------------+\n",
            "only showing top 5 rows\n",
            "\n"
          ]
        }
      ]
    },
    {
      "cell_type": "markdown",
      "source": [
        "#3) Update (Business Rule)"
      ],
      "metadata": {
        "id": "QF_PfUrnb5yH"
      }
    },
    {
      "cell_type": "code",
      "source": [
        "from delta.tables import DeltaTable\n",
        "trips_delta = DeltaTable.forPath(spark, TRIPS_PATH)\n",
        "condition = (F.col(\"city\") == \"Bengaluru\") & (F.col(\"distance_km\") > 15)\n",
        "print(\"Affected rows BEFORE update:\")\n",
        "trips_delta.toDF().filter(condition).show(truncate=False)\n",
        "trips_delta.update(\n",
        "    condition=\"city = 'Bengaluru' AND distance_km > 15\",\n",
        "    set={\"tip\": \"tip + 5\"}\n",
        ")\n",
        "\n",
        "print(\"Affected rows AFTER update:\")\n",
        "trips_delta.toDF().filter(condition).show(truncate=False)\n"
      ],
      "metadata": {
        "id": "bP6ketFfcugu"
      },
      "execution_count": null,
      "outputs": []
    },
    {
      "cell_type": "markdown",
      "source": [
        "#4) Delete (Data Quality)"
      ],
      "metadata": {
        "id": "8MEZgrU0dWX6"
      }
    },
    {
      "cell_type": "code",
      "source": [
        "trips_delta.toDF().filter((F.col(\"fare\") <= 0) | (F.col(\"distance_km\") <= 0)).show(truncate=False)\n",
        "trips_delta.delete(\"fare <= 0 OR distance_km <= 0\")\n",
        "remaining_count = trips_delta.toDF().count()\n",
        "print(f\"Remaining rows after deletion: {remaining_count}\")\n"
      ],
      "metadata": {
        "id": "z_TfrXprdBHu"
      },
      "execution_count": null,
      "outputs": []
    },
    {
      "cell_type": "markdown",
      "source": [
        "#5) Merge (Upsert New Batch)"
      ],
      "metadata": {
        "id": "Wc7jRfrPdZF_"
      }
    },
    {
      "cell_type": "code",
      "source": [
        "new_trips_data = [\n",
        "    (1004, \"R001\", \"D010\", \"Bengaluru\", 18.9, 500.0, 35.0, \"2025-08-08 08:45:00\"),\n",
        "    (1007, \"R006\", \"D014\", \"Mumbai\", 8.0, 200.0, 10.0, \"2025-08-08 10:00:00\")\n",
        "]\n",
        "\n",
        "new_batch_df = spark.createDataFrame(new_trips_data, schema=trip_schema)\n",
        "trips_delta = DeltaTable.forPath(spark, TRIPS_PATH)\n",
        "\n",
        "trips_delta.alias(\"t\").merge(new_batch_df.alias(\"s\"),\"t.trip_id = s.trip_id\").whenMatchedUpdateAll() \\\n",
        " .whenNotMatchedInsertAll() \\\n",
        " .execute()\n",
        "trips_delta.toDF().filter(F.col(\"trip_id\").isin(1004, 1007)).show(truncate=False)\n"
      ],
      "metadata": {
        "colab": {
          "base_uri": "https://localhost:8080/"
        },
        "id": "ukxZcBZ4I8WO",
        "outputId": "abbd61bd-d82f-49ac-8888-49a38b90fcd1"
      },
      "execution_count": null,
      "outputs": [
        {
          "output_type": "stream",
          "name": "stdout",
          "text": [
            "+-------+--------+---------+---------+-----------+-----+----+-------------------+\n",
            "|trip_id|rider_id|driver_id|city     |distance_km|fare |tip |ts                 |\n",
            "+-------+--------+---------+---------+-----------+-----+----+-------------------+\n",
            "|1004   |R001    |D010     |Bengaluru|18.9       |500.0|35.0|2025-08-08 08:45:00|\n",
            "|1007   |R006    |D014     |Mumbai   |8.0        |200.0|10.0|2025-08-08 10:00:00|\n",
            "+-------+--------+---------+---------+-----------+-----+----+-------------------+\n",
            "\n"
          ]
        }
      ]
    },
    {
      "cell_type": "markdown",
      "source": [
        "#6) Gold View (Join & KPIs)"
      ],
      "metadata": {
        "id": "uKzv2Y3xdge4"
      }
    },
    {
      "cell_type": "code",
      "source": [
        "trips_with_total = spark.read.format(\"delta\").load(TRIPS_PATH)\\\n",
        "    .withColumn(\"total_amount\", F.col(\"fare\") + F.col(\"tip\"))\n",
        "\n",
        "gold_df = trips_with_total.join(drivers_df, on=\"driver_id\", how=\"left\") \\\n",
        "    .select(\"trip_id\",\"city\",\"driver_name\",\"rating\",\"distance_km\",\"total_amount\",\"ts\")\n",
        "\n",
        "gold_df.orderBy(\"trip_id\").show(truncate=False)\n"
      ],
      "metadata": {
        "colab": {
          "base_uri": "https://localhost:8080/"
        },
        "id": "IG0_EgPDM-f5",
        "outputId": "44e78c89-f379-490b-e848-46fbf986a8fc"
      },
      "execution_count": null,
      "outputs": [
        {
          "output_type": "stream",
          "name": "stdout",
          "text": [
            "+-------+---------+-----------+------+-----------+------------+-------------------+\n",
            "|trip_id|city     |driver_name|rating|distance_km|total_amount|ts                 |\n",
            "+-------+---------+-----------+------+-----------+------------+-------------------+\n",
            "|1001   |Bengaluru|Anil       |4.8   |12.4       |340.0       |2025-08-08 08:05:00|\n",
            "|1002   |Hyderabad|Sana       |4.6   |6.2        |160.0       |2025-08-08 08:15:00|\n",
            "|1003   |Pune     |Rakesh     |4.4   |3.5        |90.0        |2025-08-08 08:20:00|\n",
            "|1004   |Bengaluru|Anil       |4.8   |18.9       |535.0       |2025-08-08 08:45:00|\n",
            "|1005   |Chennai  |Meera      |4.9   |10.0       |275.0       |2025-08-08 09:05:00|\n",
            "|1006   |Pune     |Rakesh     |4.4   |2.2        |70.0        |2025-08-08 09:10:00|\n",
            "|1007   |Mumbai   |NULL       |NULL  |8.0        |210.0       |2025-08-08 10:00:00|\n",
            "+-------+---------+-----------+------+-----------+------------+-------------------+\n",
            "\n"
          ]
        }
      ]
    },
    {
      "cell_type": "code",
      "source": [
        "city= gold_df.groupBy(\"city\").agg(F.sum(\"total_amount\").alias(\"total_revenue\"),F.avg(\"rating\").alias(\"avg_driver_rating\")).orderBy(\"city\")\n",
        "city.show(truncate=False)\n"
      ],
      "metadata": {
        "colab": {
          "base_uri": "https://localhost:8080/"
        },
        "id": "hbh87lZuK7g_",
        "outputId": "f7696041-177a-4e98-9874-dad6ea3fa62c"
      },
      "execution_count": null,
      "outputs": [
        {
          "output_type": "stream",
          "name": "stdout",
          "text": [
            "+---------+-------------+-----------------+\n",
            "|city     |total_revenue|avg_driver_rating|\n",
            "+---------+-------------+-----------------+\n",
            "|Bengaluru|875.0        |4.8              |\n",
            "|Chennai  |275.0        |4.9              |\n",
            "|Hyderabad|160.0        |4.6              |\n",
            "|Mumbai   |210.0        |NULL             |\n",
            "|Pune     |160.0        |4.4              |\n",
            "+---------+-------------+-----------------+\n",
            "\n"
          ]
        }
      ]
    },
    {
      "cell_type": "code",
      "source": [
        "driver = gold_df.groupBy(\"driver_name\").agg( F.count(\"trip_id\").alias(\"total_trips\"), F.sum(\"total_amount\").alias(\"total_revenue\")).orderBy(F.desc(\"total_revenue\"))\n",
        "driver.show(3, truncate=False)\n",
        "\n",
        "\n"
      ],
      "metadata": {
        "colab": {
          "base_uri": "https://localhost:8080/"
        },
        "id": "7BufHDCTLTfI",
        "outputId": "6d64b3c6-7fe1-433a-ac14-d52b2d6796f0"
      },
      "execution_count": null,
      "outputs": [
        {
          "output_type": "stream",
          "name": "stdout",
          "text": [
            "+-----------+-----------+-------------+\n",
            "|driver_name|total_trips|total_revenue|\n",
            "+-----------+-----------+-------------+\n",
            "|Anil       |2          |875.0        |\n",
            "|Meera      |1          |275.0        |\n",
            "|NULL       |1          |210.0        |\n",
            "+-----------+-----------+-------------+\n",
            "only showing top 3 rows\n",
            "\n"
          ]
        }
      ]
    },
    {
      "cell_type": "markdown",
      "source": [
        "#7) Time Travel & History"
      ],
      "metadata": {
        "id": "PR3M0e0edona"
      }
    },
    {
      "cell_type": "code",
      "source": [
        "trips_delta.history().show(truncate=False)"
      ],
      "metadata": {
        "colab": {
          "base_uri": "https://localhost:8080/"
        },
        "id": "MP8fOUdIPfx3",
        "outputId": "48d0bd38-9ba5-442c-e914-e036e281f570"
      },
      "execution_count": null,
      "outputs": [
        {
          "output_type": "stream",
          "name": "stdout",
          "text": [
            "+-------+-----------------------+------+--------+---------+---------------------------------------------------------------------------------------------------------------------------------------------------------------------------------------+----+--------+---------+-----------+--------------+-------------+--------------------------------------------------------------------------------------------------------------------------------------------------------------------------------------------------------------------------------------------------------------------------------------------------------------------------------------------------------------------------------------------------------------------------------------------------------------------------------------------------------------------------------------------------------------------------------------------------------------------------------------------------------+------------+-----------------------------------+\n",
            "|version|timestamp              |userId|userName|operation|operationParameters                                                                                                                                                                    |job |notebook|clusterId|readVersion|isolationLevel|isBlindAppend|operationMetrics                                                                                                                                                                                                                                                                                                                                                                                                                                                                                                                                                                                                                                        |userMetadata|engineInfo                         |\n",
            "+-------+-----------------------+------+--------+---------+---------------------------------------------------------------------------------------------------------------------------------------------------------------------------------------+----+--------+---------+-----------+--------------+-------------+--------------------------------------------------------------------------------------------------------------------------------------------------------------------------------------------------------------------------------------------------------------------------------------------------------------------------------------------------------------------------------------------------------------------------------------------------------------------------------------------------------------------------------------------------------------------------------------------------------------------------------------------------------+------------+-----------------------------------+\n",
            "|3      |2025-08-14 05:59:42.75 |NULL  |NULL    |MERGE    |{predicate -> [\"(trip_id#9327 = trip_id#9311)\"], matchedPredicates -> [{\"actionType\":\"update\"}], notMatchedPredicates -> [{\"actionType\":\"insert\"}], notMatchedBySourcePredicates -> []}|NULL|NULL    |NULL     |2          |Serializable  |false        |{numTargetRowsCopied -> 2, numTargetRowsDeleted -> 0, numTargetFilesAdded -> 1, numTargetBytesAdded -> 2320, numTargetBytesRemoved -> 2268, numTargetDeletionVectorsAdded -> 0, numTargetRowsMatchedUpdated -> 1, executionTimeMs -> 5139, numTargetRowsInserted -> 1, numTargetRowsMatchedDeleted -> 0, numTargetDeletionVectorsUpdated -> 0, scanTimeMs -> 3198, numTargetRowsUpdated -> 1, numOutputRows -> 4, numTargetDeletionVectorsRemoved -> 0, numTargetRowsNotMatchedBySourceUpdated -> 0, numTargetChangeFilesAdded -> 0, numSourceRows -> 2, numTargetFilesRemoved -> 1, numTargetRowsNotMatchedBySourceDeleted -> 0, rewriteTimeMs -> 1295}|NULL        |Apache-Spark/3.5.0 Delta-Lake/3.1.0|\n",
            "|2      |2025-08-14 05:51:44.01 |NULL  |NULL    |WRITE    |{mode -> Overwrite, partitionBy -> []}                                                                                                                                                 |NULL|NULL    |NULL     |1          |Serializable  |false        |{numFiles -> 2, numOutputRows -> 6, numOutputBytes -> 4536}                                                                                                                                                                                                                                                                                                                                                                                                                                                                                                                                                                                             |NULL        |Apache-Spark/3.5.0 Delta-Lake/3.1.0|\n",
            "|1      |2025-08-14 05:42:58.361|NULL  |NULL    |UPDATE   |{predicate -> [\"((city#4188 = Bengaluru) AND (distance_km#4189 > 15.0))\"]}                                                                                                             |NULL|NULL    |NULL     |0          |Serializable  |false        |{numRemovedFiles -> 1, numRemovedBytes -> 2268, numCopiedRows -> 2, numDeletionVectorsAdded -> 0, numDeletionVectorsRemoved -> 0, numAddedChangeFiles -> 0, executionTimeMs -> 4378, numDeletionVectorsUpdated -> 0, scanTimeMs -> 3822, numAddedFiles -> 1, numUpdatedRows -> 1, numAddedBytes -> 2268, rewriteTimeMs -> 539}                                                                                                                                                                                                                                                                                                                          |NULL        |Apache-Spark/3.5.0 Delta-Lake/3.1.0|\n",
            "|0      |2025-08-14 05:32:24.204|NULL  |NULL    |WRITE    |{mode -> Overwrite, partitionBy -> []}                                                                                                                                                 |NULL|NULL    |NULL     |NULL       |Serializable  |false        |{numFiles -> 2, numOutputRows -> 6, numOutputBytes -> 4536}                                                                                                                                                                                                                                                                                                                                                                                                                                                                                                                                                                                             |NULL        |Apache-Spark/3.5.0 Delta-Lake/3.1.0|\n",
            "+-------+-----------------------+------+--------+---------+---------------------------------------------------------------------------------------------------------------------------------------------------------------------------------------+----+--------+---------+-----------+--------------+-------------+--------------------------------------------------------------------------------------------------------------------------------------------------------------------------------------------------------------------------------------------------------------------------------------------------------------------------------------------------------------------------------------------------------------------------------------------------------------------------------------------------------------------------------------------------------------------------------------------------------------------------------------------------------+------------+-----------------------------------+\n",
            "\n"
          ]
        }
      ]
    },
    {
      "cell_type": "code",
      "source": [
        "trips_v0 = spark.read.format(\"delta\").option(\"versionAsOf\", 0).load(TRIPS_PATH)\n",
        "print(\"Version 0 row count:\", trips_v0.count())\n",
        "trips_v0.show(truncate=False)\n",
        "\n",
        "trips_latest = spark.read.format(\"delta\").load(TRIPS_PATH)\n",
        "print(\"Latest version row count:\", trips_latest.count())\n",
        "trips_latest.show(truncate=False)\n"
      ],
      "metadata": {
        "colab": {
          "base_uri": "https://localhost:8080/"
        },
        "id": "0fPmKtaUQSvH",
        "outputId": "b2e4403a-7141-4505-88d3-9d0cf4815420"
      },
      "execution_count": null,
      "outputs": [
        {
          "output_type": "stream",
          "name": "stdout",
          "text": [
            "Version 0 row count: 6\n",
            "+-------+--------+---------+---------+-----------+-----+----+-------------------+\n",
            "|trip_id|rider_id|driver_id|city     |distance_km|fare |tip |ts                 |\n",
            "+-------+--------+---------+---------+-----------+-----+----+-------------------+\n",
            "|1001   |R001    |D010     |Bengaluru|12.4       |320.0|20.0|2025-08-08 08:05:00|\n",
            "|1002   |R002    |D011     |Hyderabad|6.2        |150.0|10.0|2025-08-08 08:15:00|\n",
            "|1003   |R003    |D012     |Pune     |3.5        |90.0 |0.0 |2025-08-08 08:20:00|\n",
            "|1004   |R001    |D010     |Bengaluru|18.9       |480.0|25.0|2025-08-08 08:45:00|\n",
            "|1005   |R004    |D013     |Chennai  |10.0       |260.0|15.0|2025-08-08 09:05:00|\n",
            "|1006   |R005    |D012     |Pune     |2.2        |70.0 |0.0 |2025-08-08 09:10:00|\n",
            "+-------+--------+---------+---------+-----------+-----+----+-------------------+\n",
            "\n",
            "Latest version row count: 7\n",
            "+-------+--------+---------+---------+-----------+-----+----+-------------------+\n",
            "|trip_id|rider_id|driver_id|city     |distance_km|fare |tip |ts                 |\n",
            "+-------+--------+---------+---------+-----------+-----+----+-------------------+\n",
            "|1004   |R001    |D010     |Bengaluru|18.9       |500.0|35.0|2025-08-08 08:45:00|\n",
            "|1005   |R004    |D013     |Chennai  |10.0       |260.0|15.0|2025-08-08 09:05:00|\n",
            "|1006   |R005    |D012     |Pune     |2.2        |70.0 |0.0 |2025-08-08 09:10:00|\n",
            "|1007   |R006    |D014     |Mumbai   |8.0        |200.0|10.0|2025-08-08 10:00:00|\n",
            "|1001   |R001    |D010     |Bengaluru|12.4       |320.0|20.0|2025-08-08 08:05:00|\n",
            "|1002   |R002    |D011     |Hyderabad|6.2        |150.0|10.0|2025-08-08 08:15:00|\n",
            "|1003   |R003    |D012     |Pune     |3.5        |90.0 |0.0 |2025-08-08 08:20:00|\n",
            "+-------+--------+---------+---------+-----------+-----+----+-------------------+\n",
            "\n"
          ]
        }
      ]
    },
    {
      "cell_type": "markdown",
      "source": [
        "#8) Partitioned Rewrite (Performance)"
      ],
      "metadata": {
        "id": "EFoIddmpdsRy"
      }
    },
    {
      "cell_type": "code",
      "source": [
        "PARTITIONED_PATH = f\"{BASE}/trips_partitioned\"\n",
        "trips_df.write.format(\"delta\") .mode(\"overwrite\").partitionBy(\"city\") .save(PARTITIONED_PATH)\n",
        "print(\"Partitioned trips table written to:\", PARTITIONED_PATH)\n"
      ],
      "metadata": {
        "colab": {
          "base_uri": "https://localhost:8080/"
        },
        "id": "kn5xNq5XQ1lc",
        "outputId": "570d8ebd-4cff-4768-af0b-23e09d529cf5"
      },
      "execution_count": null,
      "outputs": [
        {
          "output_type": "stream",
          "name": "stdout",
          "text": [
            "Partitioned trips table written to: /tmp/delta/ride_hailing/trips_partitioned\n"
          ]
        }
      ]
    },
    {
      "cell_type": "code",
      "source": [
        "from time import time\n",
        "start = time()\n",
        "bengaluru_trips = spark.read.format(\"delta\").load(PARTITIONED_PATH).filter(F.col(\"city\") == \"Bengaluru\")\n",
        "bengaluru_trips.show(truncate=False)\n",
        "end = time()\n",
        "print(f\"Read time for Bengaluru trips: {end - start:.3f} seconds\")\n"
      ],
      "metadata": {
        "colab": {
          "base_uri": "https://localhost:8080/"
        },
        "id": "bV6tP3FwRuoz",
        "outputId": "208db18d-4d3e-4fc3-cd38-3778bdd7043b"
      },
      "execution_count": null,
      "outputs": [
        {
          "output_type": "stream",
          "name": "stdout",
          "text": [
            "+-------+--------+---------+---------+-----------+-----+----+-------------------+\n",
            "|trip_id|rider_id|driver_id|city     |distance_km|fare |tip |ts                 |\n",
            "+-------+--------+---------+---------+-----------+-----+----+-------------------+\n",
            "|1001   |R001    |D010     |Bengaluru|12.4       |320.0|20.0|2025-08-08 08:05:00|\n",
            "|1004   |R001    |D010     |Bengaluru|18.9       |500.0|40.0|2025-08-08 08:45:00|\n",
            "+-------+--------+---------+---------+-----------+-----+----+-------------------+\n",
            "\n",
            "Read time for Bengaluru trips: 1.300 seconds\n"
          ]
        }
      ]
    },
    {
      "cell_type": "markdown",
      "source": [
        "#9) Incremental Load Simulation"
      ],
      "metadata": {
        "id": "v-MOfKGwdyQw"
      }
    },
    {
      "cell_type": "code",
      "source": [
        "incremental_trips = [\n",
        "    (1008, \"R007\", \"D015\", \"Mumbai\", 5.0, 120.0, 15.0, datetime(2025,8,8,11,0,0)),\n",
        "    (1009, \"R008\", \"D016\", \"Mumbai\", 7.5, 180.0, 20.0, datetime(2025,8,8,11,30,0))\n",
        "]\n",
        "incremental_df = spark.createDataFrame(incremental_trips, schema=trip_schema)\n",
        "\n",
        "trips_delta.alias(\"t\").merge( incremental_df.alias(\"s\"),\"t.trip_id = s.trip_id\").whenNotMatchedInsertAll().execute()\n"
      ],
      "metadata": {
        "id": "FC1uIbkeSRwz"
      },
      "execution_count": null,
      "outputs": []
    },
    {
      "cell_type": "code",
      "source": [
        "trips_with_total = spark.read.format(\"delta\").load(TRIPS_PATH) \\\n",
        "    .withColumn(\"total_amount\", F.col(\"fare\") + F.col(\"tip\"))\n",
        "\n",
        "gold_df = trips_with_total.join(drivers_df, on=\"driver_id\", how=\"left\") .select(\"trip_id\",\"city\",\"driver_name\",\"rating\",\"distance_km\",\"total_amount\",\"ts\")\n",
        "city_new = gold_df.groupBy(\"city\") .agg(F.sum(\"total_amount\").alias(\"total_revenue\"),F.avg(\"rating\").alias(\"avg_driver_rating\")).orderBy(\"city\")\n",
        "\n",
        "city_new.show(truncate=False)\n"
      ],
      "metadata": {
        "colab": {
          "base_uri": "https://localhost:8080/"
        },
        "id": "XnkWw7r6SyZb",
        "outputId": "f9dc7b6d-52e2-4c3f-ee79-e7ec624f5f7f"
      },
      "execution_count": null,
      "outputs": [
        {
          "output_type": "stream",
          "name": "stdout",
          "text": [
            "+---------+-------------+-----------------+\n",
            "|city     |total_revenue|avg_driver_rating|\n",
            "+---------+-------------+-----------------+\n",
            "|Bengaluru|880.0        |4.8              |\n",
            "|Chennai  |275.0        |4.9              |\n",
            "|Hyderabad|160.0        |4.6              |\n",
            "|Mumbai   |545.0        |NULL             |\n",
            "|Pune     |160.0        |4.4              |\n",
            "+---------+-------------+-----------------+\n",
            "\n"
          ]
        }
      ]
    },
    {
      "cell_type": "markdown",
      "source": [
        "#11) Visualization"
      ],
      "metadata": {
        "id": "fKfxukEDd6Co"
      }
    },
    {
      "cell_type": "code",
      "source": [
        "\n",
        "import pandas as pd\n",
        "import matplotlib.pyplot as plt\n",
        "\n",
        "city_revenue_df = gold_df.groupBy(\"city\") \\\n",
        "    .agg(F.sum(\"total_amount\").alias(\"total_revenue\")) \\\n",
        "    .orderBy(\"city\") \\\n",
        "    .toPandas()\n",
        "plt.figure(figsize=(7,5))\n",
        "plt.bar(city_revenue_df['city'],city_revenue_df['total_revenue'], color='skyblue')\n",
        "plt.xlabel(\"City\")\n",
        "plt.ylabel(\"Total Revenue\")\n",
        "plt.title(\"City vs Total Revenue\")\n",
        "plt.xticks(rotation=45)\n",
        "plt.show()\n"
      ],
      "metadata": {
        "colab": {
          "base_uri": "https://localhost:8080/",
          "height": 537
        },
        "id": "Qx96AheMUFvW",
        "outputId": "ac7b6657-5514-4f98-d794-10e691e9ef23"
      },
      "execution_count": null,
      "outputs": [
        {
          "output_type": "display_data",
          "data": {
            "text/plain": [
              "<Figure size 700x500 with 1 Axes>"
            ],
            "image/png": "[encoded data removed]"
          },
          "metadata": {}
        }
      ]
    },
    {
      "cell_type": "code",
      "source": [
        "hourly_df = gold_df.withColumn(\"hour\", F.hour(\"ts\")) \\\n",
        "    .groupBy(\"hour\") \\\n",
        "    .agg(F.sum(\"total_amount\").alias(\"hourly_revenue\")) \\\n",
        "    .orderBy(\"hour\") \\\n",
        "    .toPandas()\n",
        "\n",
        "plt.figure(figsize=(8,5))\n",
        "plt.plot(hourly_df['hour'], hourly_df['hourly_revenue'], marker='o', color='orange')\n",
        "plt.xlabel(\"Hour of Day\")\n",
        "plt.ylabel(\"Revenue\")\n",
        "plt.title(\"Hourly Revenue\")\n",
        "plt.xticks(hourly_df['hour'])\n",
        "plt.grid(True)\n",
        "plt.show()\n"
      ],
      "metadata": {
        "colab": {
          "base_uri": "https://localhost:8080/",
          "height": 487
        },
        "id": "T7Z87BJFV5Fy",
        "outputId": "75853e30-cf62-4408-f692-9d787d868f52"
      },
      "execution_count": null,
      "outputs": [
        {
          "output_type": "display_data",
          "data": {
            "text/plain": [
              "<Figure size 800x500 with 1 Axes>"
            ],
            "image/png": "[encoded data removed]"
          },
          "metadata": {}
        }
      ]
    },
    {
      "cell_type": "markdown",
      "source": [
        "#12) Managed vs Unmanaged Cleanup"
      ],
      "metadata": {
        "id": "O-0iDx4Nd-y1"
      }
    },
    {
      "cell_type": "code",
      "source": [
        "spark.sql(\"drop table if exists trips_managed\")\n",
        "spark.sql(\"drop table if exists drivers_ext\")\n"
      ],
      "metadata": {
        "colab": {
          "base_uri": "https://localhost:8080/"
        },
        "id": "UlC-QzTjWBXG",
        "outputId": "10e540ee-8345-4dde-a90e-5e14ae6af17a"
      },
      "execution_count": null,
      "outputs": [
        {
          "output_type": "execute_result",
          "data": {
            "text/plain": [
              "DataFrame[]"
            ]
          },
          "metadata": {},
          "execution_count": 81
        }
      ]
    },
    {
      "cell_type": "code",
      "source": [
        "import os\n",
        "managed_path = \"/user/hive/warehouse/trips_managed\"  # adjust if different in your environment\n",
        "print( os.path.exists(managed_path))\n"
      ],
      "metadata": {
        "colab": {
          "base_uri": "https://localhost:8080/"
        },
        "id": "Y9s9Wl0zWj24",
        "outputId": "0f156576-00aa-4609-e944-b5ff73b661da"
      },
      "execution_count": null,
      "outputs": [
        {
          "output_type": "stream",
          "name": "stdout",
          "text": [
            "False\n"
          ]
        }
      ]
    },
    {
      "cell_type": "code",
      "source": [
        "print( os.path.exists(DRIVERS_PATH))\n",
        "print( os.listdir(DRIVERS_PATH))\n"
      ],
      "metadata": {
        "colab": {
          "base_uri": "https://localhost:8080/"
        },
        "id": "siEup0SKWpC6",
        "outputId": "8098c713-1ad5-469d-f0a2-1f4bcd54f4ca"
      },
      "execution_count": null,
      "outputs": [
        {
          "output_type": "stream",
          "name": "stdout",
          "text": [
            "True\n",
            "['_delta_log', 'part-00000-17ffef67-c6fe-4d6f-b54f-aa048e62f2a3-c000.snappy.parquet', '.part-00000-17ffef67-c6fe-4d6f-b54f-aa048e62f2a3-c000.snappy.parquet.crc', '.part-00001-e2b3b5e4-f3f0-4431-9096-9e2bd8c63705-c000.snappy.parquet.crc', 'part-00000-80d374ae-ff45-41de-8cd1-e98cc695d5a4-c000.snappy.parquet', '.part-00001-298de370-3cc4-4b66-a1e1-b1c6c176dac1-c000.snappy.parquet.crc', 'part-00001-298de370-3cc4-4b66-a1e1-b1c6c176dac1-c000.snappy.parquet', 'part-00001-e2b3b5e4-f3f0-4431-9096-9e2bd8c63705-c000.snappy.parquet', '.part-00000-80d374ae-ff45-41de-8cd1-e98cc695d5a4-c000.snappy.parquet.crc']\n"
          ]
        }
      ]
    },
    {
      "cell_type": "markdown",
      "source": [
        "#13) Constraint/Quality Check (Optional)"
      ],
      "metadata": {
        "id": "pUMd_BNbeCDX"
      }
    },
    {
      "cell_type": "code",
      "source": [
        "bad_trips = [\n",
        "    (1011, \"R010\", \"D018\", \"Delhi\", 10.0, 250.0, -5.0, datetime(2025,8,8,12,30,0)),\n",
        "    (1012, \"R011\", \"D019\", \"Delhi\", 8.0, 200.0, 10.0, datetime(2025,8,8,12,45,0))\n",
        "]\n",
        "\n",
        "bad_trips_df = spark.createDataFrame(bad_trips, schema=trip_schema)\n",
        "valid_trips_df = bad_trips_df.filter(F.col(\"tip\") >= 0)\n",
        "trips_delta = DeltaTable.forPath(spark, TRIPS_PATH)\n",
        "trips_delta.alias(\"t\").merge(valid_trips_df.alias(\"s\"), \"t.trip_id = s.trip_id\").whenNotMatchedInsertAll().execute()\n",
        "trips_delta.toDF().filter(F.col(\"trip_id\").isin(1011,1012)).show(truncate=False)\n"
      ],
      "metadata": {
        "colab": {
          "base_uri": "https://localhost:8080/"
        },
        "id": "dJ1cLuRAXKRP",
        "outputId": "1d2c0913-21c3-4a82-ce45-fcd85538b427"
      },
      "execution_count": null,
      "outputs": [
        {
          "output_type": "stream",
          "name": "stdout",
          "text": [
            "+-------+--------+---------+-----+-----------+-----+----+-------------------+\n",
            "|trip_id|rider_id|driver_id|city |distance_km|fare |tip |ts                 |\n",
            "+-------+--------+---------+-----+-----------+-----+----+-------------------+\n",
            "|1012   |R011    |D019     |Delhi|8.0        |200.0|10.0|2025-08-08 12:45:00|\n",
            "+-------+--------+---------+-----+-----------+-----+----+-------------------+\n",
            "\n"
          ]
        }
      ]
    },
    {
      "cell_type": "markdown",
      "source": [
        "#14) Convert Parquet → Delta (Optional)"
      ],
      "metadata": {
        "id": "nE410i1QeFQJ"
      }
    },
    {
      "cell_type": "code",
      "source": [
        "sample_trips_df = trips_with_total.limit(3)\n",
        "PARQUET_PATH = f\"{BASE}/trips_parquet\"\n",
        "sample_trips_df.write.mode(\"overwrite\").parquet(PARQUET_PATH)\n",
        "print(\"Parquet saved at:\", PARQUET_PATH)\n",
        "spark.sql(f\"CONVERT TO DELTA parquet.`{PARQUET_PATH}`\")\n",
        "print(\"Conversion to Delta complete.\")\n",
        "delta_df = spark.read.format(\"delta\").load(PARQUET_PATH)\n",
        "delta_df.show(truncate=False)\n"
      ],
      "metadata": {
        "colab": {
          "base_uri": "https://localhost:8080/"
        },
        "id": "TIrqlEX-XfNj",
        "outputId": "b7f18a82-3bb5-4554-cc9e-deec78afe412"
      },
      "execution_count": null,
      "outputs": [
        {
          "output_type": "stream",
          "name": "stdout",
          "text": [
            "Parquet saved at: /tmp/delta/ride_hailing/trips_parquet\n",
            "Conversion to Delta complete.\n",
            "+-------+--------+---------+---------+-----------+-----+----+-------------------+------------+\n",
            "|trip_id|rider_id|driver_id|city     |distance_km|fare |tip |ts                 |total_amount|\n",
            "+-------+--------+---------+---------+-----------+-----+----+-------------------+------------+\n",
            "|1004   |R001    |D010     |Bengaluru|18.9       |500.0|40.0|2025-08-08 08:45:00|540.0       |\n",
            "|1005   |R004    |D013     |Chennai  |10.0       |260.0|15.0|2025-08-08 09:05:00|275.0       |\n",
            "|1006   |R005    |D012     |Pune     |2.2        |70.0 |0.0 |2025-08-08 09:10:00|70.0        |\n",
            "+-------+--------+---------+---------+-----------+-----+----+-------------------+------------+\n",
            "\n"
          ]
        }
      ]
    },
    {
      "cell_type": "code",
      "source": [
        "new_batch = [(2001, \"R020\", \"D020\", \"Bengaluru\", 12.0, 300.0, 25.0, datetime(2025,8,8,13,0,0))]\n",
        "new_batch_df = spark.createDataFrame(new_batch, schema=trip_schema)\n",
        "new_batch_df = new_batch_df.withColumn(\"total_amount\", F.col(\"fare\") + F.col(\"tip\"))\n",
        "delta_table = DeltaTable.forPath(spark, PARQUET_PATH)\n",
        "delta_table.alias(\"t\").merge(new_batch_df.alias(\"s\"), \"t.trip_id = s.trip_id\") \\\n",
        "    .whenNotMatchedInsertAll().execute()\n",
        "\n",
        "delta_table.toDF().show(truncate=False)"
      ],
      "metadata": {
        "colab": {
          "base_uri": "https://localhost:8080/"
        },
        "id": "xCSgcoiMXuLq",
        "outputId": "26563529-631a-4689-c613-deedca096d3f"
      },
      "execution_count": null,
      "outputs": [
        {
          "output_type": "stream",
          "name": "stdout",
          "text": [
            "+-------+--------+---------+---------+-----------+-----+----+-------------------+------------+\n",
            "|trip_id|rider_id|driver_id|city     |distance_km|fare |tip |ts                 |total_amount|\n",
            "+-------+--------+---------+---------+-----------+-----+----+-------------------+------------+\n",
            "|1004   |R001    |D010     |Bengaluru|18.9       |500.0|40.0|2025-08-08 08:45:00|540.0       |\n",
            "|1005   |R004    |D013     |Chennai  |10.0       |260.0|15.0|2025-08-08 09:05:00|275.0       |\n",
            "|1006   |R005    |D012     |Pune     |2.2        |70.0 |0.0 |2025-08-08 09:10:00|70.0        |\n",
            "|2001   |R020    |D020     |Bengaluru|12.0       |300.0|25.0|2025-08-08 13:00:00|325.0       |\n",
            "+-------+--------+---------+---------+-----------+-----+----+-------------------+------------+\n",
            "\n"
          ]
        }
      ]
    },
    {
      "cell_type": "code",
      "source": [
        "version_0_df = spark.read.format(\"delta\").option(\"versionAsOf\", 0).load(PARQUET_PATH)\n",
        "version_0_df.show(truncate=False)\n",
        "\n",
        "new_df = spark.read.format(\"delta\").load(PARQUET_PATH)\n",
        "new_df.show(truncate=False)"
      ],
      "metadata": {
        "colab": {
          "base_uri": "https://localhost:8080/"
        },
        "id": "_iQNzWlPXv0O",
        "outputId": "f8237287-a0c5-429d-8ad5-5847a4732631"
      },
      "execution_count": null,
      "outputs": [
        {
          "output_type": "stream",
          "name": "stdout",
          "text": [
            "+-------+--------+---------+---------+-----------+-----+----+-------------------+------------+\n",
            "|trip_id|rider_id|driver_id|city     |distance_km|fare |tip |ts                 |total_amount|\n",
            "+-------+--------+---------+---------+-----------+-----+----+-------------------+------------+\n",
            "|1004   |R001    |D010     |Bengaluru|18.9       |500.0|40.0|2025-08-08 08:45:00|540.0       |\n",
            "|1005   |R004    |D013     |Chennai  |10.0       |260.0|15.0|2025-08-08 09:05:00|275.0       |\n",
            "|1006   |R005    |D012     |Pune     |2.2        |70.0 |0.0 |2025-08-08 09:10:00|70.0        |\n",
            "+-------+--------+---------+---------+-----------+-----+----+-------------------+------------+\n",
            "\n",
            "+-------+--------+---------+---------+-----------+-----+----+-------------------+------------+\n",
            "|trip_id|rider_id|driver_id|city     |distance_km|fare |tip |ts                 |total_amount|\n",
            "+-------+--------+---------+---------+-----------+-----+----+-------------------+------------+\n",
            "|1004   |R001    |D010     |Bengaluru|18.9       |500.0|40.0|2025-08-08 08:45:00|540.0       |\n",
            "|1005   |R004    |D013     |Chennai  |10.0       |260.0|15.0|2025-08-08 09:05:00|275.0       |\n",
            "|1006   |R005    |D012     |Pune     |2.2        |70.0 |0.0 |2025-08-08 09:10:00|70.0        |\n",
            "|2001   |R020    |D020     |Bengaluru|12.0       |300.0|25.0|2025-08-08 13:00:00|325.0       |\n",
            "+-------+--------+---------+---------+-----------+-----+----+-------------------+------------+\n",
            "\n"
          ]
        }
      ]
    },
    {
      "cell_type": "markdown",
      "source": [
        "#15) Bonus KPI Dashboard (Notebook Display)"
      ],
      "metadata": {
        "id": "97pdmaBLeKBS"
      }
    },
    {
      "cell_type": "code",
      "source": [
        "total_revenue = gold_df.agg(F.sum(\"total_amount\").alias(\"total_revenue\")).collect()[0][\"total_revenue\"]\n",
        "print(\"Total Revenue:\", total_revenue)\n"
      ],
      "metadata": {
        "colab": {
          "base_uri": "https://localhost:8080/"
        },
        "id": "hx4JegKSaoXU",
        "outputId": "6b2b92ab-eaf7-4361-80ae-98dfb1662a3d"
      },
      "execution_count": null,
      "outputs": [
        {
          "output_type": "stream",
          "name": "stdout",
          "text": [
            "Total Revenue: 2395.0\n"
          ]
        }
      ]
    },
    {
      "cell_type": "code",
      "source": [
        "city_trips_df = gold_df.groupBy(\"city\").agg(F.count(\"trip_id\").alias(\"trips\")).orderBy(\"city\").toPandas()\n",
        "\n",
        "plt.figure(figsize=(8,5))\n",
        "plt.bar(city_trips_df['city'], city_trips_df['trips'], color='skyblue')\n",
        "plt.xlabel(\"City\")\n",
        "plt.ylabel(\"Number of Trips\")\n",
        "plt.title(\"Trips per City\")\n",
        "plt.xticks(rotation=45)\n",
        "plt.show()\n"
      ],
      "metadata": {
        "colab": {
          "base_uri": "https://localhost:8080/",
          "height": 537
        },
        "id": "tbLi4Qe3bKVh",
        "outputId": "7eaca287-23c6-44ca-ab81-012ebe715aab"
      },
      "execution_count": null,
      "outputs": [
        {
          "output_type": "display_data",
          "data": {
            "text/plain": [
              "<Figure size 800x500 with 1 Axes>"
            ],
            "image/png": "[encoded data removed]"
          },
          "metadata": {}
        }
      ]
    },
    {
      "cell_type": "code",
      "source": [
        "driver_revenue_df = gold_df.groupBy(\"driver_name\").agg(F.sum(\"total_amount\").alias(\"revenue\")).orderBy(F.desc(\"revenue\")).toPandas()\n",
        "\n",
        "plt.figure(figsize=(8,5))\n",
        "plt.bar(driver_revenue_df['driver_name'], driver_revenue_df['revenue'], color='orange')\n",
        "plt.xlabel(\"Driver\")\n",
        "plt.ylabel(\"Revenue\")\n",
        "plt.title(\"Top Drivers by Revenue\")\n",
        "plt.xticks(rotation=45)\n",
        "plt.show()\n"
      ],
      "metadata": {
        "colab": {
          "base_uri": "https://localhost:8080/",
          "height": 529
        },
        "id": "OjlsqRowbRhb",
        "outputId": "3056ca4d-70a9-47f5-948c-8b9ba22ce0ba"
      },
      "execution_count": null,
      "outputs": [
        {
          "output_type": "display_data",
          "data": {
            "text/plain": [
              "<Figure size 800x500 with 1 Axes>"
            ],
            "image/png": "[encoded data removed]"
          },
          "metadata": {}
        }
      ]
    },
    {
      "cell_type": "code",
      "source": [
        "hourly_df = gold_df.withColumn(\"hour\", F.hour(\"ts\")).groupBy(\"hour\").agg(F.sum(\"total_amount\").alias(\"hourly_revenue\")).orderBy(\"hour\").toPandas()\n",
        "\n",
        "plt.figure(figsize=(8,5))\n",
        "plt.plot(hourly_df['hour'], hourly_df['hourly_revenue'], marker='o', color='green')\n",
        "plt.xlabel(\"Hour of Day\")\n",
        "plt.ylabel(\"Revenue\")\n",
        "plt.title(\"Revenue by Hour\")\n",
        "plt.xticks(hourly_df['hour'])\n",
        "plt.grid(True)\n",
        "plt.show()\n"
      ],
      "metadata": {
        "colab": {
          "base_uri": "https://localhost:8080/",
          "height": 487
        },
        "id": "4oIMajBlbdRR",
        "outputId": "af58a7b1-b379-4661-c9f6-16175187ac4e"
      },
      "execution_count": null,
      "outputs": [
        {
          "output_type": "display_data",
          "data": {
            "text/plain": [
              "<Figure size 800x500 with 1 Axes>"
            ],
            "image/png": "[encoded data removed]"
          },
          "metadata": {}
        }
      ]
    }
  ]
}