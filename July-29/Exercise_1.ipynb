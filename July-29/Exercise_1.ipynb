{
  "nbformat": 4,
  "nbformat_minor": 0,
  "metadata": {
    "colab": {
      "provenance": []
    },
    "kernelspec": {
      "name": "python3",
      "display_name": "Python 3"
    },
    "language_info": {
      "name": "python"
    }
  },
  "cells": [
    {
      "cell_type": "code",
      "execution_count": null,
      "metadata": {
        "collapsed": true,
        "id": "SaXtUhnaqbkU"
      },
      "outputs": [],
      "source": [
        "import pandas as pd\n",
        "from google.colab import files\n",
        "uploaded = files.upload()\n",
        "df = pd.read_csv(\"students.csv\")\n",
        "print(df.head(3))\n"
      ]
    },
    {
      "cell_type": "code",
      "source": [
        "df[\"Average\"] = df[[\"Math\", \"Science\", \"English\"]].mean(axis=1)\n",
        "top_student = df[df[\"Average\"] == df[\"Average\"].max()]\n",
        "print(\"\\nStudent with the highest average:\")\n",
        "print(top_student)\n"
      ],
      "metadata": {
        "collapsed": true,
        "id": "JuxIXQnvsNBI"
      },
      "execution_count": null,
      "outputs": []
    },
    {
      "cell_type": "code",
      "source": [
        "print(\"Students who scored more than 80 in Science:\\n\")\n",
        "print(df[df[\"Science\"] > 80])\n",
        "print(\"\\nStudents with average score below 70:\\n\")\n",
        "print(df[df[\"Average\"] < 70])"
      ],
      "metadata": {
        "collapsed": true,
        "id": "Idypzd_YuGw5"
      },
      "execution_count": null,
      "outputs": []
    },
    {
      "cell_type": "code",
      "source": [
        "sorted = df.sort_values(by=\"English\", ascending=False)\n",
        "print(sorted.head(3))"
      ],
      "metadata": {
        "collapsed": true,
        "id": "1fS1IPo7uZ-v"
      },
      "execution_count": null,
      "outputs": []
    },
    {
      "cell_type": "code",
      "source": [
        "import matplotlib.pyplot as plt\n",
        "\n",
        "plt.figure(figsize=(8, 5))\n",
        "plt.bar(df['Name'], df['Average'], color='lavender')\n",
        "plt.title('Students Average Scores')\n",
        "plt.xlabel('Student Name')\n",
        "plt.ylabel('Average Score')\n",
        "plt.xticks(rotation=45)\n",
        "plt.grid(True)\n",
        "plt.tight_layout()\n",
        "plt.show()\n",
        "df.plot(x='Name', y=['Math', 'Science', 'English'], marker='o')\n",
        "plt.title(\"Students' Scores in Math, Science, and English\")\n",
        "plt.xlabel(\"Student Name\")\n",
        "plt.ylabel(\"Scores\")\n",
        "plt.grid(True)\n",
        "plt.tight_layout()\n",
        "plt.show()"
      ],
      "metadata": {
        "id": "HsbwnDhav_a4"
      },
      "execution_count": null,
      "outputs": []
    },
    {
      "cell_type": "code",
      "source": [
        "total_scores = df[['Math', 'Science', 'English']].sum()\n",
        "highest_subject = total_scores.idxmax()\n",
        "highest_total = total_scores.max()\n",
        "print(f\"Subject with highest total score: {highest_subject}-{highest_total}\")\n",
        "df.to_csv('students_summary.csv', index=False)\n",
        "print(\"\\nUpdated DataFrame with Average column:\\n\",df)\n"
      ],
      "metadata": {
        "id": "yHQC2W0ExJnU"
      },
      "execution_count": null,
      "outputs": []
    }
  ]
}