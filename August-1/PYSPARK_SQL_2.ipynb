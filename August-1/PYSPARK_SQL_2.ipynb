{
  "nbformat": 4,
  "nbformat_minor": 0,
  "metadata": {
    "colab": {
      "provenance": []
    },
    "kernelspec": {
      "name": "python3",
      "display_name": "Python 3"
    },
    "language_info": {
      "name": "python"
    }
  },
  "cells": [
    {
      "cell_type": "markdown",
      "source": [
        "Preparation Instructions"
      ],
      "metadata": {
        "id": "GjrYlV-IQv9A"
      }
    },
    {
      "cell_type": "code",
      "execution_count": 1,
      "metadata": {
        "id": "NhqgWnkAQRlJ"
      },
      "outputs": [],
      "source": [
        "from pyspark.sql import SparkSession\n",
        "spark = SparkSession.builder \\\n",
        "    .appName(\"Orders DataFrame\") \\\n",
        "    .getOrCreate()\n"
      ]
    },
    {
      "cell_type": "code",
      "source": [
        "from pyspark.sql import Row\n",
        "\n",
        "data = [\n",
        "    Row(101, \"Alice\", \"Laptop\", \"Electronics\", 1, 70000, \"2025-07-01\"),\n",
        "    Row(102, \"Bob\", \"T-Shirt\", \"Clothing\", 3, 500, \"2025-07-02\"),\n",
        "    Row(103, \"Carol\", \"Bookshelf\", \"Furniture\", 1, 3500, \"2025-07-03\"),\n",
        "    Row(104, \"David\", \"Smartphone\", \"Electronics\", 2, 30000, \"2025-07-04\"),\n",
        "    Row(105, \"Eve\", \"Dress\", \"Clothing\", 2, 1500, \"2025-07-05\"),\n",
        "    Row(106, \"Frank\", \"Chair\", \"Furniture\", 4, 1000, \"2025-07-06\"),\n",
        "    Row(107, \"Grace\", \"Fiction Novel\", \"Books\", 5, 300, \"2025-07-07\"),\n",
        "    Row(108, \"Heidi\", \"Tablet\", \"Electronics\", 1, 25000, \"2025-07-08\"),\n",
        "    Row(109, \"Ivan\", \"Jeans\", \"Clothing\", 1, 1200, \"2025-07-09\"),\n",
        "    Row(110, \"Judy\", \"Dining Table\", \"Furniture\", 1, 8000, \"2025-07-10\"),\n",
        "    Row(111, \"Mallory\", \"Textbook\", \"Books\", 3, 600, \"2025-07-11\"),\n",
        "    Row(112, \"Oscar\", \"Monitor\", \"Electronics\", 2, 15000, \"2025-07-12\"),\n",
        "]\n",
        "\n",
        "columns = [\"OrderID\", \"CustomerName\", \"Product\", \"Category\", \"Quantity\", \"UnitPrice\", \"OrderDate\"]\n",
        "df = spark.createDataFrame(data, schema=columns)\n",
        "df.show()\n"
      ],
      "metadata": {
        "colab": {
          "base_uri": "https://localhost:8080/"
        },
        "id": "p0FJmOeVQeg9",
        "outputId": "a5acc8f9-d9f2-4027-b42c-02cbd27258b0"
      },
      "execution_count": 2,
      "outputs": [
        {
          "output_type": "stream",
          "name": "stdout",
          "text": [
            "+-------+------------+-------------+-----------+--------+---------+----------+\n",
            "|OrderID|CustomerName|      Product|   Category|Quantity|UnitPrice| OrderDate|\n",
            "+-------+------------+-------------+-----------+--------+---------+----------+\n",
            "|    101|       Alice|       Laptop|Electronics|       1|    70000|2025-07-01|\n",
            "|    102|         Bob|      T-Shirt|   Clothing|       3|      500|2025-07-02|\n",
            "|    103|       Carol|    Bookshelf|  Furniture|       1|     3500|2025-07-03|\n",
            "|    104|       David|   Smartphone|Electronics|       2|    30000|2025-07-04|\n",
            "|    105|         Eve|        Dress|   Clothing|       2|     1500|2025-07-05|\n",
            "|    106|       Frank|        Chair|  Furniture|       4|     1000|2025-07-06|\n",
            "|    107|       Grace|Fiction Novel|      Books|       5|      300|2025-07-07|\n",
            "|    108|       Heidi|       Tablet|Electronics|       1|    25000|2025-07-08|\n",
            "|    109|        Ivan|        Jeans|   Clothing|       1|     1200|2025-07-09|\n",
            "|    110|        Judy| Dining Table|  Furniture|       1|     8000|2025-07-10|\n",
            "|    111|     Mallory|     Textbook|      Books|       3|      600|2025-07-11|\n",
            "|    112|       Oscar|      Monitor|Electronics|       2|    15000|2025-07-12|\n",
            "+-------+------------+-------------+-----------+--------+---------+----------+\n",
            "\n"
          ]
        }
      ]
    },
    {
      "cell_type": "code",
      "source": [
        "df.createOrReplaceTempView(\"orders_local\")\n",
        "df.createOrReplaceGlobalTempView(\"orders_global\")"
      ],
      "metadata": {
        "id": "abFtNOl5Qo13"
      },
      "execution_count": 3,
      "outputs": []
    },
    {
      "cell_type": "markdown",
      "source": [
        "Part A: Local View – orders_local"
      ],
      "metadata": {
        "id": "iusIJIOaQ0jb"
      }
    },
    {
      "cell_type": "code",
      "source": [
        "spark.sql(\"select * from orders_local where Category='Electronics' and Quantity >= 2\").show()"
      ],
      "metadata": {
        "colab": {
          "base_uri": "https://localhost:8080/"
        },
        "id": "Um6BZpuOQscC",
        "outputId": "50b0e049-26db-46f3-9142-af4c500ca6dd"
      },
      "execution_count": 4,
      "outputs": [
        {
          "output_type": "stream",
          "name": "stdout",
          "text": [
            "+-------+------------+----------+-----------+--------+---------+----------+\n",
            "|OrderID|CustomerName|   Product|   Category|Quantity|UnitPrice| OrderDate|\n",
            "+-------+------------+----------+-----------+--------+---------+----------+\n",
            "|    104|       David|Smartphone|Electronics|       2|    30000|2025-07-04|\n",
            "|    112|       Oscar|   Monitor|Electronics|       2|    15000|2025-07-12|\n",
            "+-------+------------+----------+-----------+--------+---------+----------+\n",
            "\n"
          ]
        }
      ]
    },
    {
      "cell_type": "code",
      "source": [
        "spark.sql(\"select *, Quantity * UnitPrice as Tot_amount from orders_local\").show()"
      ],
      "metadata": {
        "colab": {
          "base_uri": "https://localhost:8080/"
        },
        "id": "6yEX3HMCRT8s",
        "outputId": "e7281398-5629-4dfd-daf6-32dedd731247"
      },
      "execution_count": 5,
      "outputs": [
        {
          "output_type": "stream",
          "name": "stdout",
          "text": [
            "+-------+------------+-------------+-----------+--------+---------+----------+----------+\n",
            "|OrderID|CustomerName|      Product|   Category|Quantity|UnitPrice| OrderDate|Tot_amount|\n",
            "+-------+------------+-------------+-----------+--------+---------+----------+----------+\n",
            "|    101|       Alice|       Laptop|Electronics|       1|    70000|2025-07-01|     70000|\n",
            "|    102|         Bob|      T-Shirt|   Clothing|       3|      500|2025-07-02|      1500|\n",
            "|    103|       Carol|    Bookshelf|  Furniture|       1|     3500|2025-07-03|      3500|\n",
            "|    104|       David|   Smartphone|Electronics|       2|    30000|2025-07-04|     60000|\n",
            "|    105|         Eve|        Dress|   Clothing|       2|     1500|2025-07-05|      3000|\n",
            "|    106|       Frank|        Chair|  Furniture|       4|     1000|2025-07-06|      4000|\n",
            "|    107|       Grace|Fiction Novel|      Books|       5|      300|2025-07-07|      1500|\n",
            "|    108|       Heidi|       Tablet|Electronics|       1|    25000|2025-07-08|     25000|\n",
            "|    109|        Ivan|        Jeans|   Clothing|       1|     1200|2025-07-09|      1200|\n",
            "|    110|        Judy| Dining Table|  Furniture|       1|     8000|2025-07-10|      8000|\n",
            "|    111|     Mallory|     Textbook|      Books|       3|      600|2025-07-11|      1800|\n",
            "|    112|       Oscar|      Monitor|Electronics|       2|    15000|2025-07-12|     30000|\n",
            "+-------+------------+-------------+-----------+--------+---------+----------+----------+\n",
            "\n"
          ]
        }
      ]
    },
    {
      "cell_type": "code",
      "source": [
        "spark.sql(\"select Category, count(Quantity) as total_Orders from orders_local group by Category\").show()"
      ],
      "metadata": {
        "colab": {
          "base_uri": "https://localhost:8080/"
        },
        "id": "-yzUcN5lR7Aj",
        "outputId": "7c43e65e-00db-4853-cbb5-97feb7cca683"
      },
      "execution_count": 7,
      "outputs": [
        {
          "output_type": "stream",
          "name": "stdout",
          "text": [
            "+-----------+------------+\n",
            "|   Category|total_Orders|\n",
            "+-----------+------------+\n",
            "|Electronics|           4|\n",
            "|   Clothing|           3|\n",
            "|  Furniture|           3|\n",
            "|      Books|           2|\n",
            "+-----------+------------+\n",
            "\n"
          ]
        }
      ]
    },
    {
      "cell_type": "code",
      "source": [
        "spark.sql(\"select * from orders_local where OrderDate like '2023-01-%'\").show()"
      ],
      "metadata": {
        "colab": {
          "base_uri": "https://localhost:8080/"
        },
        "id": "am7YZUSXSWrO",
        "outputId": "384dd93e-e3f4-4747-bb06-e9a251867d58"
      },
      "execution_count": 8,
      "outputs": [
        {
          "output_type": "stream",
          "name": "stdout",
          "text": [
            "+-------+------------+-------+--------+--------+---------+---------+\n",
            "|OrderID|CustomerName|Product|Category|Quantity|UnitPrice|OrderDate|\n",
            "+-------+------------+-------+--------+--------+---------+---------+\n",
            "+-------+------------+-------+--------+--------+---------+---------+\n",
            "\n"
          ]
        }
      ]
    },
    {
      "cell_type": "code",
      "source": [
        "spark.sql(\"select Category, round(avg(UnitPrice),2) as avg_unitPrice from orders_local group by Category\").show()"
      ],
      "metadata": {
        "colab": {
          "base_uri": "https://localhost:8080/"
        },
        "id": "ygM3GzfwS5kU",
        "outputId": "b65c60d4-0db8-40e4-bc3a-38ddc3399e53"
      },
      "execution_count": 11,
      "outputs": [
        {
          "output_type": "stream",
          "name": "stdout",
          "text": [
            "+-----------+-------------+\n",
            "|   Category|avg_unitPrice|\n",
            "+-----------+-------------+\n",
            "|Electronics|      35000.0|\n",
            "|   Clothing|      1066.67|\n",
            "|  Furniture|      4166.67|\n",
            "|      Books|        450.0|\n",
            "+-----------+-------------+\n",
            "\n"
          ]
        }
      ]
    },
    {
      "cell_type": "code",
      "source": [],
      "metadata": {
        "id": "bw-NgWgwVTGa"
      },
      "execution_count": null,
      "outputs": []
    },
    {
      "cell_type": "code",
      "source": [
        "spark.sql(\"\"\"\n",
        "    create or replace temp view orders_with_total as\n",
        "    select *, quantity * unitprice as tot_amount\n",
        "    from orders_local\n",
        "\"\"\")\n",
        "\n",
        "spark.sql(\"\"\"\n",
        "    select * from orders_with_total\n",
        "    order by tot_amount desc\n",
        "    limit 1\n",
        "\"\"\").show()"
      ],
      "metadata": {
        "colab": {
          "base_uri": "https://localhost:8080/"
        },
        "id": "wwwfpNp-TjSZ",
        "outputId": "090f8ad4-1507-42d7-9cec-6828c877f2a3"
      },
      "execution_count": 15,
      "outputs": [
        {
          "output_type": "stream",
          "name": "stdout",
          "text": [
            "+-------+------------+-------+-----------+--------+---------+----------+----------+\n",
            "|OrderID|CustomerName|Product|   Category|Quantity|UnitPrice| OrderDate|tot_amount|\n",
            "+-------+------------+-------+-----------+--------+---------+----------+----------+\n",
            "|    101|       Alice| Laptop|Electronics|       1|    70000|2025-07-01|     70000|\n",
            "+-------+------------+-------+-----------+--------+---------+----------+----------+\n",
            "\n"
          ]
        }
      ]
    },
    {
      "cell_type": "code",
      "source": [
        "spark.catalog.dropTempView(\"orders_local\")\n"
      ],
      "metadata": {
        "colab": {
          "base_uri": "https://localhost:8080/"
        },
        "id": "LJU5bmqZWGFN",
        "outputId": "35786f9d-9052-4f3f-b92c-d643994c51a8"
      },
      "execution_count": 16,
      "outputs": [
        {
          "output_type": "execute_result",
          "data": {
            "text/plain": [
              "True"
            ]
          },
          "metadata": {},
          "execution_count": 16
        }
      ]
    },
    {
      "cell_type": "code",
      "source": [
        "spark.sql(\"select * from orders_local\").show()\n"
      ],
      "metadata": {
        "id": "W2taMgPQWMPc"
      },
      "execution_count": null,
      "outputs": []
    },
    {
      "cell_type": "markdown",
      "source": [
        "Part B: Global View – orders_global"
      ],
      "metadata": {
        "id": "YnWjpFcQWQHb"
      }
    },
    {
      "cell_type": "code",
      "source": [
        "df.createOrReplaceGlobalTempView(\"orders_global\")\n"
      ],
      "metadata": {
        "id": "NqVtw1Z-YRos"
      },
      "execution_count": 28,
      "outputs": []
    },
    {
      "cell_type": "code",
      "source": [
        "spark.sql(\"\"\"\n",
        "    create or replace global temporary view orders_global_with_total as\n",
        "    select *, quantity * unitprice as tot_amount\n",
        "    from global_temp.orders_global\n",
        "\"\"\")\n",
        "spark.sql(\"\"\"\n",
        "    select *\n",
        "    from global_temp.orders_global_with_total\n",
        "    where category = 'Furniture' and tot_amount > 10000\n",
        "\"\"\").show()\n"
      ],
      "metadata": {
        "colab": {
          "base_uri": "https://localhost:8080/"
        },
        "id": "IepwXxpRaEKY",
        "outputId": "44de1b74-b50d-49ea-8e91-b24b5079003f"
      },
      "execution_count": 37,
      "outputs": [
        {
          "output_type": "stream",
          "name": "stdout",
          "text": [
            "+-------+------------+-------+--------+--------+---------+---------+----------+\n",
            "|OrderID|CustomerName|Product|Category|Quantity|UnitPrice|OrderDate|tot_amount|\n",
            "+-------+------------+-------+--------+--------+---------+---------+----------+\n",
            "+-------+------------+-------+--------+--------+---------+---------+----------+\n",
            "\n"
          ]
        }
      ]
    },
    {
      "cell_type": "code",
      "source": [
        "from pyspark.sql.functions import when, col\n",
        "df_status=df.withColumn(\"DiscountFlag\",when(col(\"Quantity\")>3, \"Yes\").otherwise(\"No\")).show()"
      ],
      "metadata": {
        "colab": {
          "base_uri": "https://localhost:8080/"
        },
        "id": "1EnEnAuWaKQL",
        "outputId": "55f51ff7-1a3c-4a96-cc1c-420c055c1c56"
      },
      "execution_count": 38,
      "outputs": [
        {
          "output_type": "stream",
          "name": "stdout",
          "text": [
            "+-------+------------+-------------+-----------+--------+---------+----------+------------+\n",
            "|OrderID|CustomerName|      Product|   Category|Quantity|UnitPrice| OrderDate|DiscountFlag|\n",
            "+-------+------------+-------------+-----------+--------+---------+----------+------------+\n",
            "|    101|       Alice|       Laptop|Electronics|       1|    70000|2025-07-01|          No|\n",
            "|    102|         Bob|      T-Shirt|   Clothing|       3|      500|2025-07-02|          No|\n",
            "|    103|       Carol|    Bookshelf|  Furniture|       1|     3500|2025-07-03|          No|\n",
            "|    104|       David|   Smartphone|Electronics|       2|    30000|2025-07-04|          No|\n",
            "|    105|         Eve|        Dress|   Clothing|       2|     1500|2025-07-05|          No|\n",
            "|    106|       Frank|        Chair|  Furniture|       4|     1000|2025-07-06|         Yes|\n",
            "|    107|       Grace|Fiction Novel|      Books|       5|      300|2025-07-07|         Yes|\n",
            "|    108|       Heidi|       Tablet|Electronics|       1|    25000|2025-07-08|          No|\n",
            "|    109|        Ivan|        Jeans|   Clothing|       1|     1200|2025-07-09|          No|\n",
            "|    110|        Judy| Dining Table|  Furniture|       1|     8000|2025-07-10|          No|\n",
            "|    111|     Mallory|     Textbook|      Books|       3|      600|2025-07-11|          No|\n",
            "|    112|       Oscar|      Monitor|Electronics|       2|    15000|2025-07-12|          No|\n",
            "+-------+------------+-------------+-----------+--------+---------+----------+------------+\n",
            "\n"
          ]
        }
      ]
    },
    {
      "cell_type": "code",
      "source": [
        "spark.sql(\"\"\"\n",
        "    select CustomerName, count(distinct Product) as product_types_ordered\n",
        "    from global_temp.orders_global\n",
        "    group by CustomerName\n",
        "    having count(distinct Product) > 1\n",
        "\"\"\").show()\n"
      ],
      "metadata": {
        "id": "lGIZ7mvNa5Tk"
      },
      "execution_count": null,
      "outputs": []
    },
    {
      "cell_type": "code",
      "source": [
        "spark.sql(\"\"\"\n",
        "    select\n",
        "        substr(OrderDate, 1, 7) as year_month,\n",
        "        count(*) as orders_count\n",
        "    from global_temp.orders_global\n",
        "    group by substr(OrderDate, 1, 7)\n",
        "    order by year_month\n",
        "\"\"\").show()\n"
      ],
      "metadata": {
        "colab": {
          "base_uri": "https://localhost:8080/"
        },
        "id": "JfH3w_AybV1p",
        "outputId": "5ee009c8-a373-4359-d0be-257555229178"
      },
      "execution_count": 41,
      "outputs": [
        {
          "output_type": "stream",
          "name": "stdout",
          "text": [
            "+----------+------------+\n",
            "|year_month|orders_count|\n",
            "+----------+------------+\n",
            "|   2025-07|          12|\n",
            "+----------+------------+\n",
            "\n"
          ]
        }
      ]
    },
    {
      "cell_type": "code",
      "source": [
        "spark.sql(\"\"\"\n",
        "    select\n",
        "        product,\n",
        "        sum(quantity) as total_quantity,\n",
        "        rank() over (order by sum(quantity) desc) as rank\n",
        "    from global_temp.orders_global\n",
        "    group by product\n",
        "    order by rank\n",
        "\"\"\").show()\n",
        "\n"
      ],
      "metadata": {
        "colab": {
          "base_uri": "https://localhost:8080/"
        },
        "id": "D0ENWKdEbjoQ",
        "outputId": "25660bdc-1ca9-478a-a217-5fe2e9d048f5"
      },
      "execution_count": 46,
      "outputs": [
        {
          "output_type": "stream",
          "name": "stdout",
          "text": [
            "+-------------+--------------+----+\n",
            "|      product|total_quantity|rank|\n",
            "+-------------+--------------+----+\n",
            "|Fiction Novel|             5|   1|\n",
            "|        Chair|             4|   2|\n",
            "|      T-Shirt|             3|   3|\n",
            "|     Textbook|             3|   3|\n",
            "|        Dress|             2|   5|\n",
            "|   Smartphone|             2|   5|\n",
            "|      Monitor|             2|   5|\n",
            "|       Laptop|             1|   8|\n",
            "|    Bookshelf|             1|   8|\n",
            "|       Tablet|             1|   8|\n",
            "| Dining Table|             1|   8|\n",
            "|        Jeans|             1|   8|\n",
            "+-------------+--------------+----+\n",
            "\n"
          ]
        }
      ]
    },
    {
      "cell_type": "code",
      "source": [
        "from pyspark.sql import SparkSession\n",
        "\n",
        "new_spark = SparkSession.builder \\\n",
        "    .appName(\"NewSession\") \\\n",
        "    .getOrCreate()\n"
      ],
      "metadata": {
        "id": "-Z_UYj0pcOOo"
      },
      "execution_count": 47,
      "outputs": []
    },
    {
      "cell_type": "code",
      "source": [
        "new_spark.sql(\"select * from global_temp.orders_global limit 5\").show()\n"
      ],
      "metadata": {
        "colab": {
          "base_uri": "https://localhost:8080/"
        },
        "id": "_rXU4EKvcY0b",
        "outputId": "ada48d71-5020-4d6b-f3a8-287489d8b429"
      },
      "execution_count": 48,
      "outputs": [
        {
          "output_type": "stream",
          "name": "stdout",
          "text": [
            "+-------+------------+----------+-----------+--------+---------+----------+\n",
            "|OrderID|CustomerName|   Product|   Category|Quantity|UnitPrice| OrderDate|\n",
            "+-------+------------+----------+-----------+--------+---------+----------+\n",
            "|    101|       Alice|    Laptop|Electronics|       1|    70000|2025-07-01|\n",
            "|    102|         Bob|   T-Shirt|   Clothing|       3|      500|2025-07-02|\n",
            "|    103|       Carol| Bookshelf|  Furniture|       1|     3500|2025-07-03|\n",
            "|    104|       David|Smartphone|Electronics|       2|    30000|2025-07-04|\n",
            "|    105|         Eve|     Dress|   Clothing|       2|     1500|2025-07-05|\n",
            "+-------+------------+----------+-----------+--------+---------+----------+\n",
            "\n"
          ]
        }
      ]
    },
    {
      "cell_type": "markdown",
      "source": [
        "Bonus Challenges"
      ],
      "metadata": {
        "id": "gCX_UidjcqqD"
      }
    },
    {
      "cell_type": "code",
      "source": [
        "spark.sql(\"select * from global_temp.books_only\").show()\n"
      ],
      "metadata": {
        "colab": {
          "base_uri": "https://localhost:8080/"
        },
        "id": "Kl-LV_zGeRNz",
        "outputId": "92f7cad8-604c-4207-8efc-8837f03fe4a6"
      },
      "execution_count": 62,
      "outputs": [
        {
          "output_type": "stream",
          "name": "stdout",
          "text": [
            "+-------+------------+-------------+--------+--------+---------+----------+\n",
            "|OrderID|CustomerName|      Product|Category|Quantity|UnitPrice| OrderDate|\n",
            "+-------+------------+-------------+--------+--------+---------+----------+\n",
            "|    107|       Grace|Fiction Novel|   Books|       5|      300|2025-07-07|\n",
            "|    111|     Mallory|     Textbook|   Books|       3|      600|2025-07-11|\n",
            "+-------+------------+-------------+--------+--------+---------+----------+\n",
            "\n"
          ]
        }
      ]
    },
    {
      "cell_type": "code",
      "source": [
        "spark.sql(\"\"\"\n",
        "    create or replace global temporary view books_only as\n",
        "    select *\n",
        "    from global_temp.orders_global\n",
        "    where category = 'Books'\n",
        "\"\"\").show()\n"
      ],
      "metadata": {
        "id": "WviFfgndeS3W"
      },
      "execution_count": null,
      "outputs": []
    },
    {
      "cell_type": "code",
      "source": [
        "spark.sql(\"\"\"\n",
        "    select category, product, total_quantity from (\n",
        "        select category,product,\n",
        "            sum(quantity) as total_quantity,\n",
        "            row_number() over (partition by category order by sum(quantity) desc) as rn\n",
        "        from global_temp.orders_global\n",
        "        group by category, product\n",
        "    ) tmp\n",
        "    where rn = 1\n",
        "\"\"\").show()\n"
      ],
      "metadata": {
        "colab": {
          "base_uri": "https://localhost:8080/"
        },
        "id": "5uiL155eegpP",
        "outputId": "b45566a0-5da8-4588-cd2b-4cbf68cd8185"
      },
      "execution_count": 65,
      "outputs": [
        {
          "output_type": "stream",
          "name": "stdout",
          "text": [
            "+-----------+-------------+--------------+\n",
            "|   category|      product|total_quantity|\n",
            "+-----------+-------------+--------------+\n",
            "|      Books|Fiction Novel|             5|\n",
            "|   Clothing|      T-Shirt|             3|\n",
            "|Electronics|   Smartphone|             2|\n",
            "|  Furniture|        Chair|             4|\n",
            "+-----------+-------------+--------------+\n",
            "\n"
          ]
        }
      ]
    },
    {
      "cell_type": "code",
      "source": [
        "spark.sql(\"\"\"\n",
        "    create or replace temp view filtered_orders as\n",
        "    select *\n",
        "    from global_temp.orders_global\n",
        "    where category != 'clothing'\n",
        "\"\"\").show()\n"
      ],
      "metadata": {
        "id": "oJ13Jr46e1g4"
      },
      "execution_count": null,
      "outputs": []
    }
  ]
}