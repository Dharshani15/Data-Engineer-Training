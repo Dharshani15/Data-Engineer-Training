{
 "cells": [
  {
   "cell_type": "code",
   "execution_count": 0,
   "metadata": {
    "application/vnd.databricks.v1+cell": {
     "cellMetadata": {
      "byteLimit": 2048000,
      "rowLimit": 10000
     },
     "inputWidgets": {},
     "nuid": "d1e58aaf-ff11-410e-ab82-b52adfbc3f9b",
     "showTitle": false,
     "tableResultSettingsMap": {},
     "title": ""
    }
   },
   "outputs": [
    {
     "output_type": "stream",
     "name": "stdout",
     "output_type": "stream",
     "text": [
      "+-------+-----------+--------------------+----------+-----------+\n|task_id|employee_id|    task_description| task_date|     status|\n+-------+-----------+--------------------+----------+-----------+\n|   5001|        102|Fix server downti...|2024-01-16|  Completed|\n|   5002|        103|Prepare financial...|2024-01-16|In Progress|\n|   5003|        104|Design marketing ...|2024-01-17|  Completed|\n|   5004|        105|Setup new worksta...|2025-03-11|    Pending|\n|   5005|        101|Conduct employee ...|2023-07-02|  Completed|\n|   5006|        106|   Screen candidates|2025-03-12|In Progress|\n|   5007|        107| Update payroll data|2023-12-06|  Completed|\n|   6001|        102|                NULL|2024-06-01|  Completed|\n|   6002|        103| Prepare audit files|2024-06-02|       NULL|\n|   6003|        104|                NULL|2024-06-03|       NULL|\n|   6004|        105|Install antivirus...|2024-06-04|  Completed|\n+-------+-----------+--------------------+----------+-----------+\n\n+-------------+-----------+---------------+-------------------+-------------------+\n|attendance_id|employee_id|attendance_date|           clock_in|          clock_out|\n+-------------+-----------+---------------+-------------------+-------------------+\n|         1001|        101|     2023-07-01|2025-08-14 09:00:00|2025-08-14 17:00:00|\n|         1002|        102|     2023-07-01|2025-08-14 09:15:00|2025-08-14 17:15:00|\n|         1003|        103|     2024-01-15|2025-08-14 08:45:00|2025-08-14 16:45:00|\n|         1004|        104|     2024-01-15|2025-08-14 09:10:00|2025-08-14 17:00:00|\n|         1005|        105|     2025-03-10|2025-08-14 09:00:00|2025-08-14 18:00:00|\n|         1006|        106|     2025-03-10|2025-08-14 09:30:00|2025-08-14 17:30:00|\n|         1007|        107|     2023-12-05|2025-08-14 08:50:00|2025-08-14 16:50:00|\n|         2001|        101|     2024-06-01|               NULL|2025-08-14 17:00:00|\n|         2002|        102|     2024-06-02|2025-08-14 09:00:00|               NULL|\n|         2003|        103|     2024-06-03|               NULL|               NULL|\n|         2004|        104|     2024-06-04|2025-08-14 09:15:00|2025-08-14 17:20:00|\n|         2005|        105|     2024-06-05|               NULL|2025-08-14 18:00:00|\n+-------------+-----------+---------------+-------------------+-------------------+\n\n+-----------+----------+---------+----------+-----------+\n|employee_id|first_name|last_name|department|designation|\n+-----------+----------+---------+----------+-----------+\n|        101|      John|      Doe|        HR|    Manager|\n|        102|      Jane|    Smith|        IT|  Developer|\n|        103|     Alice|    Brown|   Finance|    Analyst|\n|        104|       Bob|  Johnson| Marketing|  Executive|\n|        105|   Charlie|    Davis|        IT|    Support|\n|        106|       Eve|   Miller|        HR|  Recruiter|\n|        107|     Frank|   Wilson|   Finance| Accountant|\n+-----------+----------+---------+----------+-----------+\n\n"
     ]
    }
   ],
   "source": [
    "csv_path1 =\"/Volumes/workspace/default/product/task.csv\"  \n",
    "csv_path2= \"/Volumes/workspace/default/product/attendance.csv\"\n",
    "csv_path3= \"/Volumes/workspace/default/product/employee.csv\"\n",
    "task_df = spark.read.option(\"header\", \"true\").option(\"inferSchema\", \"true\").csv(csv_path1)\n",
    "attendance_df = spark.read.option(\"header\", \"true\").option(\"inferSchema\", \"true\").csv(csv_path2)\n",
    "employee_df = spark.read.option(\"header\", \"true\").option(\"inferSchema\", \"true\").csv(csv_path3)\n",
    "task_df.show()\n",
    "attendance_df.show()\n",
    "employee_df.show()"
   ]
  },
  {
   "cell_type": "code",
   "execution_count": 0,
   "metadata": {
    "application/vnd.databricks.v1+cell": {
     "cellMetadata": {
      "byteLimit": 2048000,
      "rowLimit": 10000
     },
     "inputWidgets": {},
     "nuid": "8bac33b3-e20e-44f8-ae56-c62d727a3097",
     "showTitle": false,
     "tableResultSettingsMap": {},
     "title": ""
    }
   },
   "outputs": [],
   "source": [
    "from pyspark.sql.functions import col, when, hour\n",
    "\n",
    "attendance_df = attendance_df.withColumn(\"work_hours\", (col(\"clock_out\").cast(\"long\") - col(\"clock_in\").cast(\"long\")) / 3600)\n",
    "task_df = task_df.withColumn(\"tasks_completed\", when(col(\"status\") == \"Completed\", 1).otherwise(0))\n",
    "combined_df = attendance_df.join(task_df, on=\"employee_id\", how=\"left\") \\\n",
    "                           .join(employee_df, on=\"employee_id\", how=\"left\")\n",
    "\n",
    "\n",
    "combined_df = combined_df.fillna({\"tasks_completed\": 0, \"work_hours\": 0})\n",
    "combined_df = combined_df.withColumn(\n",
    "    \"productivity_score\",\n",
    "    when(col(\"work_hours\") > 0, col(\"tasks_completed\") / col(\"work_hours\")).otherwise(0)\n",
    ").withColumn(\n",
    "    \"break_time\",\n",
    "    when(col(\"work_hours\") > 6, 1).otherwise(0)\n",
    ")\n",
    "late_logins = combined_df.withColumn(\"late_login_flag\", when(hour(\"clock_in\")>8, 1).otherwise(0))\n",
    "\n",
    "absentees = combined_df.withColumn(\"absentee_flag\", when(col(\"clock_in\").isNull() | col(\"clock_out\").isNull(), 1).otherwise(0))\n",
    "combined_df = combined_df.withColumn(\"late_login_flag\", when(hour(\"clock_in\") > 9, 1).otherwise(0))\n",
    "combined_df = combined_df.withColumn(\"absentee_flag\", when(col(\"clock_in\").isNull() | col(\"clock_out\").isNull(), 1).otherwise(0))\n"
   ]
  },
  {
   "cell_type": "code",
   "execution_count": 0,
   "metadata": {
    "application/vnd.databricks.v1+cell": {
     "cellMetadata": {
      "byteLimit": 2048000,
      "rowLimit": 10000
     },
     "inputWidgets": {},
     "nuid": "704ac0ae-5640-42ff-b0ad-5109995cdca3",
     "showTitle": false,
     "tableResultSettingsMap": {},
     "title": ""
    }
   },
   "outputs": [
    {
     "output_type": "display_data",
     "data": {
      "text/html": [
       "<style scoped>\n",
       "  .table-result-container {\n",
       "    max-height: 300px;\n",
       "    overflow: auto;\n",
       "  }\n",
       "  table, th, td {\n",
       "    border: 1px solid black;\n",
       "    border-collapse: collapse;\n",
       "  }\n",
       "  th, td {\n",
       "    padding: 5px;\n",
       "  }\n",
       "  th {\n",
       "    text-align: left;\n",
       "  }\n",
       "</style><div class='table-result-container'><table class='table-result'><thead style='background-color: white'><tr><th>department</th><th>avg_work_hours</th><th>avg_productivity_score</th><th>late_logins_count</th><th>absentees_count</th><th>total_tasks_completed</th></tr></thead><tbody><tr><td>HR</td><td>5.33</td><td>0.04</td><td>0</td><td>1</td><td>2</td></tr><tr><td>IT</td><td>4.25</td><td>0.05</td><td>0</td><td>4</td><td>6</td></tr><tr><td>Finance</td><td>4.80</td><td>0.03</td><td>0</td><td>2</td><td>1</td></tr><tr><td>Marketing</td><td>7.96</td><td>0.06</td><td>0</td><td>0</td><td>2</td></tr></tbody></table></div>"
      ]
     },
     "metadata": {
      "application/vnd.databricks.v1+output": {
       "addedWidgets": {},
       "aggData": [],
       "aggError": "",
       "aggOverflow": false,
       "aggSchema": [],
       "aggSeriesLimitReached": false,
       "aggType": "",
       "arguments": {},
       "columnCustomDisplayInfos": {},
       "data": [
        [
         "HR",
         "5.33",
         "0.04",
         0,
         1,
         2
        ],
        [
         "IT",
         "4.25",
         "0.05",
         0,
         4,
         6
        ],
        [
         "Finance",
         "4.80",
         "0.03",
         0,
         2,
         1
        ],
        [
         "Marketing",
         "7.96",
         "0.06",
         0,
         0,
         2
        ]
       ],
       "datasetInfos": [],
       "dbfsResultPath": null,
       "isJsonSchema": true,
       "metadata": {},
       "overflow": false,
       "plotOptions": {
        "customPlotOptions": {},
        "displayType": "table",
        "pivotAggregation": null,
        "pivotColumns": null,
        "xColumns": null,
        "yColumns": null
       },
       "removedWidgets": [],
       "schema": [
        {
         "metadata": "{}",
         "name": "department",
         "type": "\"string\""
        },
        {
         "metadata": "{}",
         "name": "avg_work_hours",
         "type": "\"decimal(5,2)\""
        },
        {
         "metadata": "{}",
         "name": "avg_productivity_score",
         "type": "\"decimal(5,2)\""
        },
        {
         "metadata": "{}",
         "name": "late_logins_count",
         "type": "\"long\""
        },
        {
         "metadata": "{}",
         "name": "absentees_count",
         "type": "\"long\""
        },
        {
         "metadata": "{}",
         "name": "total_tasks_completed",
         "type": "\"long\""
        }
       ],
       "type": "table"
      }
     },
     "output_type": "display_data"
    }
   ],
   "source": [
    "from pyspark.sql.functions import avg, sum, col\n",
    "department_summary = combined_df.groupBy(\"department\").agg(\n",
    "    avg(\"work_hours\").alias(\"avg_work_hours\"),\n",
    "    avg(\"productivity_score\").alias(\"avg_productivity_score\"),\n",
    "    sum(\"late_login_flag\").alias(\"late_logins_count\"),\n",
    "    sum(\"absentee_flag\").alias(\"absentees_count\"),\n",
    "    sum(\"tasks_completed\").alias(\"total_tasks_completed\")\n",
    ").select(\n",
    "    col(\"department\"),\n",
    "    col(\"avg_work_hours\").cast(\"decimal(5,2)\"),\n",
    "    col(\"avg_productivity_score\").cast(\"decimal(5,2)\"),\n",
    "    col(\"late_logins_count\"),\n",
    "    col(\"absentees_count\"),\n",
    "    col(\"total_tasks_completed\")\n",
    ")\n",
    "display(department_summary)\n",
    "#department_summary.show()\n",
    "#department_summary.write.format(\"delta\") \\\n",
    " #   .mode(\"overwrite\") \\\n",
    "  #  .saveAsTable(\"department_summary\")"
   ]
  },
  {
   "cell_type": "code",
   "execution_count": 0,
   "metadata": {
    "application/vnd.databricks.v1+cell": {
     "cellMetadata": {
      "byteLimit": 2048000,
      "rowLimit": 10000
     },
     "inputWidgets": {},
     "nuid": "f884f575-2874-4bad-8512-249f570e41e4",
     "showTitle": false,
     "tableResultSettingsMap": {},
     "title": ""
    }
   },
   "outputs": [
    {
     "output_type": "display_data",
     "data": {
      "image/png": "[encoded data removed]",
      "text/plain": [
       "<Figure size 800x600 with 1 Axes>"
      ]
     },
     "metadata": {},
     "output_type": "display_data"
    }
   ],
   "source": [
    "import matplotlib.pyplot as plt\n",
    "df = department_summary.toPandas()\n",
    "plt.figure(figsize=(8,6))\n",
    "plt.bar(df['department'], df['avg_work_hours'], width=0.4, label='Avg Work Hours')\n",
    "plt.bar(df['department'], df['avg_productivity_score'], width=0.4, label='Avg Productivity', align='edge')\n",
    "plt.xlabel('Department')\n",
    "plt.ylabel('Values')\n",
    "plt.title('Department KPIs: Work Hours & Productivity')\n",
    "plt.xticks(rotation=45)\n",
    "plt.legend()\n",
    "plt.show()\n",
    "\n"
   ]
  }
 ],
 "metadata": {
  "application/vnd.databricks.v1+notebook": {
   "computePreferences": null,
   "dashboards": [],
   "environmentMetadata": {
    "base_environment": "",
    "environment_version": "2"
   },
   "inputWidgetPreferences": null,
   "language": "python",
   "notebookMetadata": {
    "pythonIndentUnit": 4
   },
   "notebookName": "EMPLOYEE ATTENDANCE - AZURE",
   "widgets": {}
  },
  "language_info": {
   "name": "python"
  }
 },
 "nbformat": 4,
 "nbformat_minor": 0
}