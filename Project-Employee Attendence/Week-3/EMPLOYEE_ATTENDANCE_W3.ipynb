{
  "nbformat": 4,
  "nbformat_minor": 0,
  "metadata": {
    "colab": {
      "provenance": []
    },
    "kernelspec": {
      "name": "python3",
      "display_name": "Python 3"
    },
    "language_info": {
      "name": "python"
    }
  },
  "cells": [
    {
      "cell_type": "code",
      "execution_count": 2,
      "metadata": {
        "colab": {
          "base_uri": "https://localhost:8080/",
          "height": 142
        },
        "id": "9LWMDc1licWs",
        "outputId": "d9ae8040-efe4-4d82-9c35-1e6b35b92c13"
      },
      "outputs": [
        {
          "output_type": "display_data",
          "data": {
            "text/plain": [
              "<IPython.core.display.HTML object>"
            ],
            "text/html": [
              "\n",
              "     <input type=\"file\" id=\"files-7d023a6e-5d4b-44ee-8cc5-50420b6870b3\" name=\"files[]\" multiple disabled\n",
              "        style=\"border:none\" />\n",
              "     <output id=\"result-7d023a6e-5d4b-44ee-8cc5-50420b6870b3\">\n",
              "      Upload widget is only available when the cell has been executed in the\n",
              "      current browser session. Please rerun this cell to enable.\n",
              "      </output>\n",
              "      <script>// Copyright 2017 Google LLC\n",
              "//\n",
              "// Licensed under the Apache License, Version 2.0 (the \"License\");\n",
              "// you may not use this file except in compliance with the License.\n",
              "// You may obtain a copy of the License at\n",
              "//\n",
              "//      http://www.apache.org/licenses/LICENSE-2.0\n",
              "//\n",
              "// Unless required by applicable law or agreed to in writing, software\n",
              "// distributed under the License is distributed on an \"AS IS\" BASIS,\n",
              "// WITHOUT WARRANTIES OR CONDITIONS OF ANY KIND, either express or implied.\n",
              "// See the License for the specific language governing permissions and\n",
              "// limitations under the License.\n",
              "\n",
              "/**\n",
              " * @fileoverview Helpers for google.colab Python module.\n",
              " */\n",
              "(function(scope) {\n",
              "function span(text, styleAttributes = {}) {\n",
              "  const element = document.createElement('span');\n",
              "  element.textContent = text;\n",
              "  for (const key of Object.keys(styleAttributes)) {\n",
              "    element.style[key] = styleAttributes[key];\n",
              "  }\n",
              "  return element;\n",
              "}\n",
              "\n",
              "// Max number of bytes which will be uploaded at a time.\n",
              "const MAX_PAYLOAD_SIZE = 100 * 1024;\n",
              "\n",
              "function _uploadFiles(inputId, outputId) {\n",
              "  const steps = uploadFilesStep(inputId, outputId);\n",
              "  const outputElement = document.getElementById(outputId);\n",
              "  // Cache steps on the outputElement to make it available for the next call\n",
              "  // to uploadFilesContinue from Python.\n",
              "  outputElement.steps = steps;\n",
              "\n",
              "  return _uploadFilesContinue(outputId);\n",
              "}\n",
              "\n",
              "// This is roughly an async generator (not supported in the browser yet),\n",
              "// where there are multiple asynchronous steps and the Python side is going\n",
              "// to poll for completion of each step.\n",
              "// This uses a Promise to block the python side on completion of each step,\n",
              "// then passes the result of the previous step as the input to the next step.\n",
              "function _uploadFilesContinue(outputId) {\n",
              "  const outputElement = document.getElementById(outputId);\n",
              "  const steps = outputElement.steps;\n",
              "\n",
              "  const next = steps.next(outputElement.lastPromiseValue);\n",
              "  return Promise.resolve(next.value.promise).then((value) => {\n",
              "    // Cache the last promise value to make it available to the next\n",
              "    // step of the generator.\n",
              "    outputElement.lastPromiseValue = value;\n",
              "    return next.value.response;\n",
              "  });\n",
              "}\n",
              "\n",
              "/**\n",
              " * Generator function which is called between each async step of the upload\n",
              " * process.\n",
              " * @param {string} inputId Element ID of the input file picker element.\n",
              " * @param {string} outputId Element ID of the output display.\n",
              " * @return {!Iterable<!Object>} Iterable of next steps.\n",
              " */\n",
              "function* uploadFilesStep(inputId, outputId) {\n",
              "  const inputElement = document.getElementById(inputId);\n",
              "  inputElement.disabled = false;\n",
              "\n",
              "  const outputElement = document.getElementById(outputId);\n",
              "  outputElement.innerHTML = '';\n",
              "\n",
              "  const pickedPromise = new Promise((resolve) => {\n",
              "    inputElement.addEventListener('change', (e) => {\n",
              "      resolve(e.target.files);\n",
              "    });\n",
              "  });\n",
              "\n",
              "  const cancel = document.createElement('button');\n",
              "  inputElement.parentElement.appendChild(cancel);\n",
              "  cancel.textContent = 'Cancel upload';\n",
              "  const cancelPromise = new Promise((resolve) => {\n",
              "    cancel.onclick = () => {\n",
              "      resolve(null);\n",
              "    };\n",
              "  });\n",
              "\n",
              "  // Wait for the user to pick the files.\n",
              "  const files = yield {\n",
              "    promise: Promise.race([pickedPromise, cancelPromise]),\n",
              "    response: {\n",
              "      action: 'starting',\n",
              "    }\n",
              "  };\n",
              "\n",
              "  cancel.remove();\n",
              "\n",
              "  // Disable the input element since further picks are not allowed.\n",
              "  inputElement.disabled = true;\n",
              "\n",
              "  if (!files) {\n",
              "    return {\n",
              "      response: {\n",
              "        action: 'complete',\n",
              "      }\n",
              "    };\n",
              "  }\n",
              "\n",
              "  for (const file of files) {\n",
              "    const li = document.createElement('li');\n",
              "    li.append(span(file.name, {fontWeight: 'bold'}));\n",
              "    li.append(span(\n",
              "        `(${file.type || 'n/a'}) - ${file.size} bytes, ` +\n",
              "        `last modified: ${\n",
              "            file.lastModifiedDate ? file.lastModifiedDate.toLocaleDateString() :\n",
              "                                    'n/a'} - `));\n",
              "    const percent = span('0% done');\n",
              "    li.appendChild(percent);\n",
              "\n",
              "    outputElement.appendChild(li);\n",
              "\n",
              "    const fileDataPromise = new Promise((resolve) => {\n",
              "      const reader = new FileReader();\n",
              "      reader.onload = (e) => {\n",
              "        resolve(e.target.result);\n",
              "      };\n",
              "      reader.readAsArrayBuffer(file);\n",
              "    });\n",
              "    // Wait for the data to be ready.\n",
              "    let fileData = yield {\n",
              "      promise: fileDataPromise,\n",
              "      response: {\n",
              "        action: 'continue',\n",
              "      }\n",
              "    };\n",
              "\n",
              "    // Use a chunked sending to avoid message size limits. See b/62115660.\n",
              "    let position = 0;\n",
              "    do {\n",
              "      const length = Math.min(fileData.byteLength - position, MAX_PAYLOAD_SIZE);\n",
              "      const chunk = new Uint8Array(fileData, position, length);\n",
              "      position += length;\n",
              "\n",
              "      const base64 = btoa(String.fromCharCode.apply(null, chunk));\n",
              "      yield {\n",
              "        response: {\n",
              "          action: 'append',\n",
              "          file: file.name,\n",
              "          data: base64,\n",
              "        },\n",
              "      };\n",
              "\n",
              "      let percentDone = fileData.byteLength === 0 ?\n",
              "          100 :\n",
              "          Math.round((position / fileData.byteLength) * 100);\n",
              "      percent.textContent = `${percentDone}% done`;\n",
              "\n",
              "    } while (position < fileData.byteLength);\n",
              "  }\n",
              "\n",
              "  // All done.\n",
              "  yield {\n",
              "    response: {\n",
              "      action: 'complete',\n",
              "    }\n",
              "  };\n",
              "}\n",
              "\n",
              "scope.google = scope.google || {};\n",
              "scope.google.colab = scope.google.colab || {};\n",
              "scope.google.colab._files = {\n",
              "  _uploadFiles,\n",
              "  _uploadFilesContinue,\n",
              "};\n",
              "})(self);\n",
              "</script> "
            ]
          },
          "metadata": {}
        },
        {
          "output_type": "stream",
          "name": "stdout",
          "text": [
            "Saving cleaned_attendance.csv to cleaned_attendance.csv\n",
            "Saving cleaned_employee.csv to cleaned_employee.csv\n",
            "Saving cleaned_task.csv to cleaned_task.csv\n"
          ]
        }
      ],
      "source": [
        "from google.colab import files\n",
        "uploaded = files.upload()"
      ]
    },
    {
      "cell_type": "code",
      "source": [
        "from pyspark.sql import SparkSession\n",
        "from pyspark.sql.functions import col, when, avg, hour, to_timestamp\n",
        "\n",
        "spark = SparkSession.builder.appName(\"EmployeeAttendance\").getOrCreate()\n",
        "\n",
        "attendance_df = spark.read.csv(\"cleaned_attendance.csv\", header=True, inferSchema=True)\n",
        "task_df = spark.read.csv(\"cleaned_task.csv\", header=True, inferSchema=True)\n",
        "employee_df = spark.read.csv(\"cleaned_employee.csv\", header=True, inferSchema=True)\n",
        "attendance_df.show()\n",
        "task_df.show()\n",
        "employee_df.show()"
      ],
      "metadata": {
        "colab": {
          "base_uri": "https://localhost:8080/"
        },
        "id": "PSnY4sq6infW",
        "outputId": "c9efdf53-5796-46a5-bf1f-75c6a19601f3"
      },
      "execution_count": 3,
      "outputs": [
        {
          "output_type": "stream",
          "name": "stdout",
          "text": [
            "+-------------+-----------+---------------+-------------------+-------------------+\n",
            "|attendance_id|employee_id|attendance_date|           clock_in|          clock_out|\n",
            "+-------------+-----------+---------------+-------------------+-------------------+\n",
            "|         1001|        101|     2023-07-01|2025-08-01 09:00:00|2025-08-01 17:00:00|\n",
            "|         1002|        102|     2023-07-01|2025-08-01 09:15:00|2025-08-01 17:15:00|\n",
            "|         1003|        103|     2024-01-15|2025-08-01 08:45:00|2025-08-01 16:45:00|\n",
            "|         1004|        104|     2024-01-15|2025-08-01 09:10:00|2025-08-01 17:00:00|\n",
            "|         1005|        105|     2025-03-10|2025-08-01 09:00:00|2025-08-01 18:00:00|\n",
            "|         1006|        106|     2025-03-10|2025-08-01 09:30:00|2025-08-01 17:30:00|\n",
            "|         1007|        107|     2023-12-05|2025-08-01 08:50:00|2025-08-01 16:50:00|\n",
            "|         2001|        101|     2024-06-01|2025-08-01 09:00:00|2025-08-01 17:00:00|\n",
            "|         2002|        102|     2024-06-02|2025-08-01 09:00:00|2025-08-01 17:00:00|\n",
            "|         2003|        103|     2024-06-03|2025-08-01 09:00:00|2025-08-01 17:00:00|\n",
            "|         2004|        104|     2024-06-04|2025-08-01 09:15:00|2025-08-01 17:20:00|\n",
            "|         2005|        105|     2024-06-05|2025-08-01 09:00:00|2025-08-01 18:00:00|\n",
            "+-------------+-----------+---------------+-------------------+-------------------+\n",
            "\n",
            "+-------+-----------+--------------------+----------+-----------+\n",
            "|task_id|employee_id|    task_description| task_date|     status|\n",
            "+-------+-----------+--------------------+----------+-----------+\n",
            "|   5001|        102|Fix server downti...|2024-01-16|  Completed|\n",
            "|   5002|        103|Prepare financial...|2024-01-16|In Progress|\n",
            "|   5003|        104|Design marketing ...|2024-01-17|  Completed|\n",
            "|   5004|        105|Setup new worksta...|2025-03-11|    Pending|\n",
            "|   5005|        101|Conduct employee ...|2023-07-02|  Completed|\n",
            "|   5006|        106|   Screen candidates|2025-03-12|In Progress|\n",
            "|   5007|        107| Update payroll data|2023-12-06|  Completed|\n",
            "|   6001|        102|No description pr...|2024-06-01|  Completed|\n",
            "|   6002|        103| Prepare audit files|2024-06-02|    Pending|\n",
            "|   6003|        104|No description pr...|2024-06-03|    Pending|\n",
            "|   6004|        105|Install antivirus...|2024-06-04|  Completed|\n",
            "+-------+-----------+--------------------+----------+-----------+\n",
            "\n",
            "+---+-----------+----------+---------+----------+-----------+\n",
            "|_c0|employee_id|first_name|last_name|department|designation|\n",
            "+---+-----------+----------+---------+----------+-----------+\n",
            "|  0|        101|      John|      Doe|        HR|    Manager|\n",
            "|  1|        102|      Jane|    Smith|        IT|  Developer|\n",
            "|  2|        103|     Alice|    Brown|   Finance|    Analyst|\n",
            "|  3|        104|       Bob|  Johnson| Marketing|  Executive|\n",
            "|  4|        105|   Charlie|    Davis|        IT|    Support|\n",
            "|  5|        106|       Eve|   Miller|        HR|  Recruiter|\n",
            "|  6|        107|     Frank|   Wilson|   Finance| Accountant|\n",
            "+---+-----------+----------+---------+----------+-----------+\n",
            "\n"
          ]
        }
      ]
    },
    {
      "cell_type": "code",
      "source": [
        "from pyspark.sql.functions import hour\n",
        "late_logins = attendance_df.filter(hour(\"clock_in\") >8)\n",
        "late_logins.select(\"employee_id\", \"attendance_date\", \"clock_in\").show()"
      ],
      "metadata": {
        "colab": {
          "base_uri": "https://localhost:8080/"
        },
        "id": "rjX9fk9Qip-s",
        "outputId": "cd9803af-f234-4299-dfae-7c5a814d954b"
      },
      "execution_count": 4,
      "outputs": [
        {
          "output_type": "stream",
          "name": "stdout",
          "text": [
            "+-----------+---------------+-------------------+\n",
            "|employee_id|attendance_date|           clock_in|\n",
            "+-----------+---------------+-------------------+\n",
            "|        101|     2023-07-01|2025-08-01 09:00:00|\n",
            "|        102|     2023-07-01|2025-08-01 09:15:00|\n",
            "|        104|     2024-01-15|2025-08-01 09:10:00|\n",
            "|        105|     2025-03-10|2025-08-01 09:00:00|\n",
            "|        106|     2025-03-10|2025-08-01 09:30:00|\n",
            "|        101|     2024-06-01|2025-08-01 09:00:00|\n",
            "|        102|     2024-06-02|2025-08-01 09:00:00|\n",
            "|        103|     2024-06-03|2025-08-01 09:00:00|\n",
            "|        104|     2024-06-04|2025-08-01 09:15:00|\n",
            "|        105|     2024-06-05|2025-08-01 09:00:00|\n",
            "+-----------+---------------+-------------------+\n",
            "\n"
          ]
        }
      ]
    },
    {
      "cell_type": "code",
      "source": [
        "absentees = attendance_df.filter((attendance_df[\"clock_in\"].isNull()) | (attendance_df[\"clock_out\"].isNull()))\n",
        "absentees.select(\"employee_id\", \"attendance_date\").show()"
      ],
      "metadata": {
        "colab": {
          "base_uri": "https://localhost:8080/"
        },
        "id": "IilbaJKxitPu",
        "outputId": "31e18905-3d13-47ef-f98f-64b0c049d3b3"
      },
      "execution_count": 5,
      "outputs": [
        {
          "output_type": "stream",
          "name": "stdout",
          "text": [
            "+-----------+---------------+\n",
            "|employee_id|attendance_date|\n",
            "+-----------+---------------+\n",
            "+-----------+---------------+\n",
            "\n"
          ]
        }
      ]
    },
    {
      "cell_type": "code",
      "source": [
        "from pyspark.sql.functions import (col, when)\n",
        "attendance_df = attendance_df.withColumn(\"work_hours\", (col(\"clock_out\").cast(\"long\") - col(\"clock_in\").cast(\"long\")) / 3600)\n",
        "\n",
        "task_df = task_df.withColumn(\"tasks_completed\", when(col(\"status\") == \"Completed\", 1).otherwise(0))\n",
        "\n",
        "combined_df = attendance_df.join(task_df, on=\"employee_id\", how=\"left\").join(employee_df, on=\"employee_id\", how=\"left\")\n",
        "\n",
        "combined_df = combined_df.fillna({\"tasks_completed\": 0, \"work_hours\": 0})"
      ],
      "metadata": {
        "id": "ZIoGACACi0PA"
      },
      "execution_count": 6,
      "outputs": []
    },
    {
      "cell_type": "code",
      "source": [
        "from pyspark.sql.functions import when\n",
        "combined_df = combined_df.withColumn(\n",
        "    \"productivity_score\", when(col(\"work_hours\") > 0, col(\"tasks_completed\") / col(\"work_hours\")).otherwise(0)\n",
        ").withColumn(\n",
        "    \"break_time\",when(col(\"work_hours\") > 6, 1).otherwise(0)\n",
        ")\n"
      ],
      "metadata": {
        "id": "cbm1LmwCi1Jc"
      },
      "execution_count": 7,
      "outputs": []
    },
    {
      "cell_type": "code",
      "source": [
        "from pyspark.sql.functions import avg\n",
        "department_summary = combined_df.groupBy(\"department\").agg(\n",
        "    avg(\"work_hours\").alias(\"avg_work_hours\"),\n",
        "    avg(\"productivity_score\").alias(\"avg_productivity_score\")\n",
        ")\n",
        "\n",
        "department_summary = department_summary.select(\n",
        "    col(\"department\"),\n",
        "    col(\"avg_work_hours\").cast(\"decimal(5,2)\").alias(\"avg_work_hours\"),\n",
        "    col(\"avg_productivity_score\").cast(\"decimal(5,2)\").alias(\"avg_productivity_score\")\n",
        ")\n",
        "\n",
        "department_summary.show()"
      ],
      "metadata": {
        "colab": {
          "base_uri": "https://localhost:8080/"
        },
        "id": "li2Nn_HLi47I",
        "outputId": "6b657449-0798-48c2-9098-b065b700d0fb"
      },
      "execution_count": 8,
      "outputs": [
        {
          "output_type": "stream",
          "name": "stdout",
          "text": [
            "+----------+--------------+----------------------+\n",
            "|department|avg_work_hours|avg_productivity_score|\n",
            "+----------+--------------+----------------------+\n",
            "|        HR|          8.00|                  0.08|\n",
            "|   Finance|          8.00|                  0.03|\n",
            "| Marketing|          7.96|                  0.06|\n",
            "|        IT|          8.50|                  0.09|\n",
            "+----------+--------------+----------------------+\n",
            "\n"
          ]
        }
      ]
    },
    {
      "cell_type": "code",
      "source": [
        "from google.colab import files\n",
        "department_summary_pd = department_summary.toPandas()\n",
        "department_summary_pd.to_csv(\"Department_summary.csv\", index=False)\n",
        "files.download(\"Department_summary.csv\")"
      ],
      "metadata": {
        "id": "RiF1hC4Ii-E2"
      },
      "execution_count": null,
      "outputs": []
    },
    {
      "cell_type": "code",
      "source": [
        "late_logins_pd = late_logins.select(\"employee_id\", \"attendance_date\", \"clock_in\").toPandas()\n",
        "late_logins_pd.to_csv(\"Attendance_Issue.csv\", index=False)\n",
        "files.download(\"Attendance_Issue.csv\")"
      ],
      "metadata": {
        "id": "57r2FWnvjAj_"
      },
      "execution_count": null,
      "outputs": []
    }
  ]
}