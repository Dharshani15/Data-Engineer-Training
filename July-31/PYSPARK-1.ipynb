{
  "nbformat": 4,
  "nbformat_minor": 0,
  "metadata": {
    "colab": {
      "provenance": []
    },
    "kernelspec": {
      "name": "python3",
      "display_name": "Python 3"
    },
    "language_info": {
      "name": "python"
    }
  },
  "cells": [
    {
      "cell_type": "markdown",
      "source": [
        "Step 1: Sample Dataset (create CSV)"
      ],
      "metadata": {
        "id": "-tBWI57J8lWY"
      }
    },
    {
      "cell_type": "code",
      "execution_count": null,
      "metadata": {
        "id": "idBOtQER0pnb"
      },
      "outputs": [],
      "source": [
        "from google.colab import files\n",
        "uploaded = files.upload()"
      ]
    },
    {
      "cell_type": "markdown",
      "source": [
        "PART 1: Pandas DataFrame Operations\n",
        "1. Load the CSV using pandas ."
      ],
      "metadata": {
        "id": "rWO0eGHt8wrJ"
      }
    },
    {
      "cell_type": "code",
      "source": [
        "import pandas as pd\n",
        "import numpy as np\n",
        "superstore_df = pd.read_csv('superstore.csv')"
      ],
      "metadata": {
        "id": "2Jv1_5LD014f"
      },
      "execution_count": 2,
      "outputs": []
    },
    {
      "cell_type": "markdown",
      "source": [
        "2. Print schema, head, shape, dtypes."
      ],
      "metadata": {
        "id": "82JhmNtE8ywY"
      }
    },
    {
      "cell_type": "code",
      "source": [
        "print(\"\\nSchema:\")\n",
        "print(superstore_df.info())\n",
        "print(\"\\n Head:\")\n",
        "print(superstore_df.head())\n",
        "print(\"\\n Shape:\", superstore_df.shape)\n",
        "print(\"\\n Data Types:\")\n",
        "print(superstore_df.dtypes)"
      ],
      "metadata": {
        "id": "3YGn5oB108iX"
      },
      "execution_count": null,
      "outputs": []
    },
    {
      "cell_type": "markdown",
      "source": [
        "3. Select Customer , Product , Profit columns."
      ],
      "metadata": {
        "id": "BHcTRlTr82Zv"
      }
    },
    {
      "cell_type": "code",
      "source": [
        "print(\"\\n Selected Columns:\")\n",
        "print(superstore_df[['Customer', 'Product', 'Profit']])"
      ],
      "metadata": {
        "id": "zpyG1FCx1GXH"
      },
      "execution_count": null,
      "outputs": []
    },
    {
      "cell_type": "markdown",
      "source": [
        "4. Filter orders where Profit > 2000 and Discount = 0"
      ],
      "metadata": {
        "id": "hCT-x0cM848G"
      }
    },
    {
      "cell_type": "code",
      "source": [
        "filtered = superstore_df[(superstore_df['Profit'] > 2000) & (superstore_df['Discount'] == 0)]\n",
        "print(\" Filtered Orders :\")\n",
        "print(filtered)\n"
      ],
      "metadata": {
        "id": "Pt7MjfqK1M6p"
      },
      "execution_count": null,
      "outputs": []
    },
    {
      "cell_type": "markdown",
      "source": [
        "5. Sort by Profit descending."
      ],
      "metadata": {
        "id": "kPod2jBi88YE"
      }
    },
    {
      "cell_type": "code",
      "source": [
        "sorted_df = superstore_df.sort_values(by='Profit', ascending=False)\n",
        "print(\"\\n Sorted by Profit:\")\n",
        "print(sorted_df[['OrderID', 'Profit']])"
      ],
      "metadata": {
        "id": "LG3kMudB1qqC"
      },
      "execution_count": null,
      "outputs": []
    },
    {
      "cell_type": "markdown",
      "source": [
        "6. GroupBy Category → Total Profit, Avg Discount."
      ],
      "metadata": {
        "id": "V-uWgru68_W7"
      }
    },
    {
      "cell_type": "code",
      "source": [
        "grouped = superstore_df.groupby('Category').agg({\n",
        "    'Profit': 'sum',\n",
        "    'Discount': 'mean'\n",
        "}).rename(columns={'Profit': 'Total Profit', 'Discount': 'Avg Discount'}).reset_index()\n",
        "print(\"\\n Grouped by Category:\")\n",
        "print(grouped)"
      ],
      "metadata": {
        "id": "4Sn-mHUy1-Dm"
      },
      "execution_count": null,
      "outputs": []
    },
    {
      "cell_type": "markdown",
      "source": [
        "7. Add a column TotalPrice = Quantity * UnitPrice ."
      ],
      "metadata": {
        "id": "PGEyPU8o9B8Q"
      }
    },
    {
      "cell_type": "code",
      "source": [
        "superstore_df['TotalPrice'] = superstore_df['Quantity'] * superstore_df['UnitPrice']\n",
        "print(\"\\n TotalPrice Column Added:\")\n",
        "print(superstore_df[['OrderID', 'TotalPrice']])"
      ],
      "metadata": {
        "id": "UzlLT8tm2Lps"
      },
      "execution_count": null,
      "outputs": []
    },
    {
      "cell_type": "markdown",
      "source": [
        "8. Drop the SubCategory column."
      ],
      "metadata": {
        "id": "t5EhPXlJ9GHH"
      }
    },
    {
      "cell_type": "code",
      "source": [
        "superstore_df.drop(columns=['SubCategory'], inplace=True)\n",
        "print(\"\\n Columns after dropping SubCategory:\")\n",
        "print(superstore_df.columns)"
      ],
      "metadata": {
        "id": "uoW9pOJI2Yky"
      },
      "execution_count": null,
      "outputs": []
    },
    {
      "cell_type": "markdown",
      "source": [
        "9. Fill nulls in Discount with 0.10."
      ],
      "metadata": {
        "id": "rfGCwiLc9I1h"
      }
    },
    {
      "cell_type": "code",
      "source": [
        "superstore_df['Discount'] = superstore_df['Discount'].fillna(0.10)\n",
        "print(superstore_df)\n",
        "\n"
      ],
      "metadata": {
        "id": "GyWrFpfC2ocr"
      },
      "execution_count": null,
      "outputs": []
    },
    {
      "cell_type": "markdown",
      "source": [
        "10. Apply a function to categorize orders:"
      ],
      "metadata": {
        "id": "dZQdgOEm9L1H"
      }
    },
    {
      "cell_type": "code",
      "source": [
        "def classify(row):\n",
        "    if row['Profit'] > 4000:\n",
        "        return 'High'\n",
        "    elif row['Profit'] > 0:\n",
        "        return 'Medium'\n",
        "    else:\n",
        "        return 'Low'\n",
        "superstore_df['OrderCategory'] = superstore_df.apply(classify, axis=1)\n",
        "print(\"\\n Orders Categorized:\")\n",
        "print(superstore_df[['OrderID', 'Profit', 'OrderCategory']])"
      ],
      "metadata": {
        "id": "ZAEa01PC3E2I"
      },
      "execution_count": null,
      "outputs": []
    },
    {
      "cell_type": "markdown",
      "source": [
        "PART 2: PySpark DataFrame Operations\n"
      ],
      "metadata": {
        "id": "OgCZV2eE9RmU"
      }
    },
    {
      "cell_type": "code",
      "source": [
        "from pyspark.sql import SparkSession\n",
        "spark = SparkSession.builder.appName(\"Superstore Analysis\").getOrCreate()\n",
        "spark"
      ],
      "metadata": {
        "id": "dzSIj-bc3Y3g"
      },
      "execution_count": null,
      "outputs": []
    },
    {
      "cell_type": "markdown",
      "source": [
        "1. Load the same CSV using PySpark."
      ],
      "metadata": {
        "id": "rPSl0CAX9UvO"
      }
    },
    {
      "cell_type": "code",
      "source": [
        "df = spark.read.csv(\"superstore.csv\", header=True, inferSchema=True)"
      ],
      "metadata": {
        "id": "IE5jRqri4O-7"
      },
      "execution_count": 24,
      "outputs": []
    },
    {
      "cell_type": "markdown",
      "source": [
        "2. Show schema and first 5 rows."
      ],
      "metadata": {
        "id": "DXZJz9JL9YqI"
      }
    },
    {
      "cell_type": "code",
      "source": [
        "df.printSchema()\n",
        "df.show(5)"
      ],
      "metadata": {
        "id": "gLml54av4YWM"
      },
      "execution_count": null,
      "outputs": []
    },
    {
      "cell_type": "markdown",
      "source": [
        "3. Select columns, Rename Customer → Client ."
      ],
      "metadata": {
        "id": "TFi-ODtB9b3p"
      }
    },
    {
      "cell_type": "code",
      "source": [
        "from pyspark.sql.functions import col, when, year, month\n",
        "df_selected = df.select(\n",
        "    col(\"Customer\").alias(\"Client\"),\n",
        "    \"Product\", \"Profit\"\n",
        ")\n",
        "df_selected.show()"
      ],
      "metadata": {
        "id": "dAQPLNu94cMs"
      },
      "execution_count": null,
      "outputs": []
    },
    {
      "cell_type": "markdown",
      "source": [
        "4. Filter Segment = 'Consumer' and Profit < 1000 ."
      ],
      "metadata": {
        "id": "ZzFUELLZ9emJ"
      }
    },
    {
      "cell_type": "code",
      "source": [
        "df_filtered = df.filter((col(\"Segment\") == \"Consumer\") & (col(\"Profit\") < 1000))\n",
        "df_filtered.show()"
      ],
      "metadata": {
        "id": "wJIM_5s04rsk"
      },
      "execution_count": null,
      "outputs": []
    },
    {
      "cell_type": "markdown",
      "source": [
        "5. GroupBy Region and show average profit."
      ],
      "metadata": {
        "id": "njHqR4_29gNo"
      }
    },
    {
      "cell_type": "code",
      "source": [
        "df_grouped = df.groupBy(\"Region\").avg(\"Profit\")\n",
        "df_grouped.show()"
      ],
      "metadata": {
        "id": "ku_NuOPg5CHb"
      },
      "execution_count": null,
      "outputs": []
    },
    {
      "cell_type": "markdown",
      "source": [
        "6. Use withColumn to create TotalPrice = Quantity * UnitPrice ."
      ],
      "metadata": {
        "id": "tXl5bYDn9jgs"
      }
    },
    {
      "cell_type": "code",
      "source": [
        "df = df.withColumn(\"TotalPrice\", col(\"Quantity\") * col(\"UnitPrice\"))\n",
        "df.show()"
      ],
      "metadata": {
        "id": "w1UD-8X35ZN5"
      },
      "execution_count": null,
      "outputs": []
    },
    {
      "cell_type": "markdown",
      "source": [
        "7. Use when().otherwise() to classify Profit as:\n",
        "    'Profit' > 2000 → 'High',\n",
        "    'Profit' <= 0 → 'Loss',\n",
        "    else 'Medium'."
      ],
      "metadata": {
        "id": "wZBr5Ggu9mTb"
      }
    },
    {
      "cell_type": "code",
      "source": [
        "df = df.withColumn(\"ProfitLevel\", when(col(\"Profit\") > 2000, \"High\").when(col(\"Profit\") <= 0, \"Loss\").otherwise(\"Medium\"))\n",
        "df.show()"
      ],
      "metadata": {
        "id": "aD2nkrdJ5gGy"
      },
      "execution_count": null,
      "outputs": []
    },
    {
      "cell_type": "markdown",
      "source": [
        "8. Use drop() to remove SubCategory ."
      ],
      "metadata": {
        "id": "cErjjWEO9xzW"
      }
    },
    {
      "cell_type": "code",
      "source": [
        "df = df.drop(\"SubCategory\")\n",
        "df.printSchema()"
      ],
      "metadata": {
        "id": "zWP7q3Yn5_E2"
      },
      "execution_count": null,
      "outputs": []
    },
    {
      "cell_type": "markdown",
      "source": [
        "9. Handle nulls in Discount using fillna(0.10) ."
      ],
      "metadata": {
        "id": "gnvlKQgo90db"
      }
    },
    {
      "cell_type": "code",
      "source": [
        "df = df.fillna({'Discount': 0.10})\n",
        "df.show()\n"
      ],
      "metadata": {
        "id": "e_n3uFY46Gqw"
      },
      "execution_count": null,
      "outputs": []
    },
    {
      "cell_type": "markdown",
      "source": [
        "10. Convert OrderDate to date type and extract year , month ."
      ],
      "metadata": {
        "id": "Kfj3Gol0930p"
      }
    },
    {
      "cell_type": "code",
      "source": [
        "from pyspark.sql.functions import to_date\n",
        "df = df.withColumn(\"OrderDate\", to_date(\"OrderDate\", \"yyyy-MM-dd\"))\n",
        "df = df.withColumn(\"Year\", year(\"OrderDate\"))\n",
        "df = df.withColumn(\"Month\", month(\"OrderDate\"))\n",
        "df.select(\"OrderID\", \"OrderDate\", \"Year\", \"Month\").show()"
      ],
      "metadata": {
        "id": "vcYO9bOF6SJ9"
      },
      "execution_count": null,
      "outputs": []
    },
    {
      "cell_type": "markdown",
      "source": [
        "PART 3: Dask DataFrame Operations (Pandas Alternative)\n",
        "1. Install Dask:"
      ],
      "metadata": {
        "id": "wrXt3d3y984S"
      }
    },
    {
      "cell_type": "code",
      "source": [
        "!pip install dask"
      ],
      "metadata": {
        "id": "whNRZNyb6sJ6"
      },
      "execution_count": null,
      "outputs": []
    },
    {
      "cell_type": "markdown",
      "source": [
        "2. Load the same superstore.csv :"
      ],
      "metadata": {
        "id": "8cfjxSE79-iW"
      }
    },
    {
      "cell_type": "code",
      "source": [
        "import dask.dataframe as dd\n",
        "df = dd.read_csv('superstore.csv')"
      ],
      "metadata": {
        "id": "hQs4m2vk6wSc"
      },
      "execution_count": 38,
      "outputs": []
    },
    {
      "cell_type": "markdown",
      "source": [
        "1. Compute average discount by category."
      ],
      "metadata": {
        "id": "Id7shwCC-EQH"
      }
    },
    {
      "cell_type": "code",
      "source": [
        "avg_discount = df.groupby('Category')['Discount'].mean().compute()\n",
        "print(avg_discount)"
      ],
      "metadata": {
        "id": "KAJl4Pk57Nry"
      },
      "execution_count": null,
      "outputs": []
    },
    {
      "cell_type": "markdown",
      "source": [
        "2. Filter orders with more than 1 quantity and high profit."
      ],
      "metadata": {
        "id": "bmjZtMc9-H_d"
      }
    },
    {
      "cell_type": "code",
      "source": [
        "filtered_df = df[(df['Quantity'] > 1) & (df['Profit'] > 2000)]\n",
        "filtered_df_result = filtered_df.compute()\n",
        "print(filtered_df_result)"
      ],
      "metadata": {
        "id": "IjbVaAJM7X4t"
      },
      "execution_count": null,
      "outputs": []
    },
    {
      "cell_type": "markdown",
      "source": [
        "3. Save filtered data to new CSV."
      ],
      "metadata": {
        "id": "fYyP1trF-Li2"
      }
    },
    {
      "cell_type": "code",
      "source": [
        "filtered_df.to_csv('filtered_superstore_*.csv', index=False, single_file=True)\n",
        "print(\" Filtered data saved as 'filtered_superstore_*.csv'\")\n"
      ],
      "metadata": {
        "id": "5e4Gofi37h7o"
      },
      "execution_count": null,
      "outputs": []
    },
    {
      "cell_type": "markdown",
      "source": [
        "PART 4: JSON Handling (Complex Nested)\n",
        "1. Create a nested JSON file:"
      ],
      "metadata": {
        "id": "MSmCi69W-RGz"
      }
    },
    {
      "cell_type": "code",
      "source": [
        "nested_json = '''\n",
        "[\n",
        "  {\n",
        "    \"OrderID\": \"CA-1001\",\n",
        "    \"Customer\": {\"Name\": \"Ravi\", \"Segment\": \"Consumer\"},\n",
        "    \"Details\": {\"Region\": \"South\", \"Profit\": 5000}\n",
        "  },\n",
        "  {\n",
        "    \"OrderID\": \"CA-1002\",\n",
        "    \"Customer\": {\"Name\": \"Priya\", \"Segment\": \"Corporate\"},\n",
        "    \"Details\": {\"Region\": \"North\", \"Profit\": 1800}\n",
        "  }\n",
        "]\n",
        "'''\n",
        "with open(\"orders.json\", \"w\") as f:\n",
        "    f.write(nested_json)\n"
      ],
      "metadata": {
        "id": "a-EvFuq87_0w"
      },
      "execution_count": 42,
      "outputs": []
    },
    {
      "cell_type": "markdown",
      "source": [
        "2. Load it using PySpark:"
      ],
      "metadata": {
        "id": "mJTun9Qx-UXZ"
      }
    },
    {
      "cell_type": "code",
      "source": [
        "df_json = spark.read.json(\"orders.json\", multiLine=True)\n",
        "df_json.printSchema()\n",
        "df_json.select(\"OrderID\", \"Customer.Name\", \"Details.Profit\").show()\n"
      ],
      "metadata": {
        "id": "VuMQ_LMn8Gy5"
      },
      "execution_count": null,
      "outputs": []
    }
  ]
}