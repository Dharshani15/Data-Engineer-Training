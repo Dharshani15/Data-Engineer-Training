{
  "nbformat": 4,
  "nbformat_minor": 0,
  "metadata": {
    "colab": {
      "provenance": []
    },
    "kernelspec": {
      "name": "python3",
      "display_name": "Python 3"
    },
    "language_info": {
      "name": "python"
    }
  },
  "cells": [
    {
      "cell_type": "code",
      "execution_count": 1,
      "metadata": {
        "colab": {
          "base_uri": "https://localhost:8080/"
        },
        "id": "xzKVhbrJC_1n",
        "outputId": "832fc2d6-4ef4-4818-fed9-c47683cfb118"
      },
      "outputs": [
        {
          "output_type": "stream",
          "name": "stdout",
          "text": [
            "Ravi's second mark: 72\n"
          ]
        }
      ],
      "source": [
        "students = [\n",
        "    [\"Ravi\", [85, 72, 90]],\n",
        "    [\"Sneha\", [95, 88, 92]],\n",
        "    [\"Kabir\", [65, 70, 60]],\n",
        "    [\"Anita\", [75, 80, 78]]\n",
        "]\n",
        "print(\"Ravi's second mark:\", students[0][1][1])\n"
      ]
    },
    {
      "cell_type": "code",
      "source": [
        "for student in students:\n",
        "    name = student[0]\n",
        "    marks = student[1]\n",
        "    average = sum(marks) / len(marks)\n",
        "    print(f\"{name}'s average: {average:.2f}\")\n"
      ],
      "metadata": {
        "colab": {
          "base_uri": "https://localhost:8080/"
        },
        "id": "UJJKcFG2DP5o",
        "outputId": "5fd968a6-3e90-40ac-eb4b-72a2c9fb9fad"
      },
      "execution_count": 2,
      "outputs": [
        {
          "output_type": "stream",
          "name": "stdout",
          "text": [
            "Ravi's average: 82.33\n",
            "Sneha's average: 91.67\n",
            "Kabir's average: 65.00\n",
            "Anita's average: 77.67\n"
          ]
        }
      ]
    },
    {
      "cell_type": "code",
      "source": [
        "for student in students:\n",
        "    name, marks = student\n",
        "    if all(mark > 80 for mark in marks):\n",
        "        print(\"Students who scored above 80 in all subjects:\",name)\n"
      ],
      "metadata": {
        "colab": {
          "base_uri": "https://localhost:8080/"
        },
        "id": "xF6AqS7nDTU3",
        "outputId": "c5d63adc-ad1c-42ca-e8bb-50f713bc1a61"
      },
      "execution_count": 4,
      "outputs": [
        {
          "output_type": "stream",
          "name": "stdout",
          "text": [
            "Students who scored above 80 in all subjects: Sneha\n"
          ]
        }
      ]
    },
    {
      "cell_type": "code",
      "source": [
        "averages = []\n",
        "for student in students:\n",
        "    name, marks = student\n",
        "    avg = sum(marks) / len(marks)\n",
        "    averages.append([name, avg])\n",
        "\n",
        "print( \"Average=\",averages)\n"
      ],
      "metadata": {
        "colab": {
          "base_uri": "https://localhost:8080/"
        },
        "id": "L4EC6znbDfOi",
        "outputId": "759d29d4-3785-4d2b-fb02-df842913c83d"
      },
      "execution_count": 7,
      "outputs": [
        {
          "output_type": "stream",
          "name": "stdout",
          "text": [
            "Average= [['Ravi', 82.33333333333333], ['Sneha', 91.66666666666667], ['Kabir', 65.0], ['Anita', 77.66666666666667]]\n"
          ]
        }
      ]
    },
    {
      "cell_type": "code",
      "source": [
        "data = {\n",
        "    \"products\": [\"Mobile\", \"Laptop\", \"Tablet\", \"Camera\"],\n",
        "    \"prices\": [12000, 55000, 18000, 25000],\n",
        "    \"ratings\": [4.5, 4.7, 4.0, 4.2]\n",
        "}\n"
      ],
      "metadata": {
        "id": "Oto3z1xODwyr"
      },
      "execution_count": 8,
      "outputs": []
    },
    {
      "cell_type": "code",
      "source": [
        "product_list = []\n",
        "for i in range(len(data[\"products\"])):\n",
        "    product = {\n",
        "        'name': data[\"products\"][i],\n",
        "        'price': data[\"prices\"][i],\n",
        "        'rating': data[\"ratings\"][i]\n",
        "    }\n",
        "    product_list.append(product)\n",
        "\n",
        "print(\"List of product dictionaries:\")\n",
        "for p in product_list:\n",
        "    print(p)\n"
      ],
      "metadata": {
        "colab": {
          "base_uri": "https://localhost:8080/"
        },
        "id": "euKZuWa_D9MD",
        "outputId": "e626e45c-185d-47cf-c070-ad26ef897fef"
      },
      "execution_count": 9,
      "outputs": [
        {
          "output_type": "stream",
          "name": "stdout",
          "text": [
            "List of product dictionaries:\n",
            "{'name': 'Mobile', 'price': 12000, 'rating': 4.5}\n",
            "{'name': 'Laptop', 'price': 55000, 'rating': 4.7}\n",
            "{'name': 'Tablet', 'price': 18000, 'rating': 4.0}\n",
            "{'name': 'Camera', 'price': 25000, 'rating': 4.2}\n"
          ]
        }
      ]
    },
    {
      "cell_type": "code",
      "source": [
        "for product in product_list:\n",
        "    if product['price'] > 20000 and product['rating'] >= 4.5:\n",
        "        print(\"\\nFiltered products\",product)\n"
      ],
      "metadata": {
        "colab": {
          "base_uri": "https://localhost:8080/"
        },
        "id": "SwZJnx4jEBM3",
        "outputId": "20c0d00c-787d-4bc2-a917-9f9836aeda49"
      },
      "execution_count": 10,
      "outputs": [
        {
          "output_type": "stream",
          "name": "stdout",
          "text": [
            "\n",
            "Filtered products {'name': 'Laptop', 'price': 55000, 'rating': 4.7}\n"
          ]
        }
      ]
    },
    {
      "cell_type": "code",
      "source": [
        "def get_rating(product):\n",
        "    return product['rating']\n",
        "sorted_products = sorted(product_list, key=get_rating, reverse=True)\n",
        "print(\"\\nProducts sorted by rating (descending):\")\n",
        "for p in sorted_products:\n",
        "    print(p)\n",
        "\n"
      ],
      "metadata": {
        "colab": {
          "base_uri": "https://localhost:8080/"
        },
        "id": "q-UhOvWrEJ0y",
        "outputId": "b17e3691-b668-493d-f777-5e310c1add4a"
      },
      "execution_count": 12,
      "outputs": [
        {
          "output_type": "stream",
          "name": "stdout",
          "text": [
            "\n",
            "Products sorted by rating (descending):\n",
            "{'name': 'Laptop', 'price': 55000, 'rating': 4.7}\n",
            "{'name': 'Mobile', 'price': 12000, 'rating': 4.5}\n",
            "{'name': 'Camera', 'price': 25000, 'rating': 4.2}\n",
            "{'name': 'Tablet', 'price': 18000, 'rating': 4.0}\n"
          ]
        }
      ]
    },
    {
      "cell_type": "code",
      "source": [
        "text = \"ai is the future and ai will change everything in the ai world\"\n"
      ],
      "metadata": {
        "id": "HHow5G7BHV5S"
      },
      "execution_count": 13,
      "outputs": []
    },
    {
      "cell_type": "code",
      "source": [
        "words = text.split()\n",
        "freq = {}\n",
        "\n",
        "for word in words:\n",
        "    if word in freq:\n",
        "        freq[word] += 1\n",
        "    else:\n",
        "        freq[word] = 1\n",
        "\n",
        "print(\"Word Frequencies:\")\n",
        "print(freq)\n"
      ],
      "metadata": {
        "colab": {
          "base_uri": "https://localhost:8080/"
        },
        "id": "ULpyWHhhHi2c",
        "outputId": "0029da02-15c8-4d63-d430-6320ee7a70e0"
      },
      "execution_count": 14,
      "outputs": [
        {
          "output_type": "stream",
          "name": "stdout",
          "text": [
            "Word Frequencies:\n",
            "{'ai': 3, 'is': 1, 'the': 2, 'future': 1, 'and': 1, 'will': 1, 'change': 1, 'everything': 1, 'in': 1, 'world': 1}\n"
          ]
        }
      ]
    },
    {
      "cell_type": "code",
      "source": [
        "print(\"\\nWords that appear more than once:\")\n",
        "for word, count in freq.items():\n",
        "    if count > 1:\n",
        "        print(f\"{word}: {count}\")\n"
      ],
      "metadata": {
        "colab": {
          "base_uri": "https://localhost:8080/"
        },
        "id": "2R6PcjL3Hkv9",
        "outputId": "fd2338b8-c732-42c5-c997-5492b6b4dc5b"
      },
      "execution_count": 15,
      "outputs": [
        {
          "output_type": "stream",
          "name": "stdout",
          "text": [
            "\n",
            "Words that appear more than once:\n",
            "ai: 3\n",
            "the: 2\n"
          ]
        }
      ]
    },
    {
      "cell_type": "code",
      "source": [
        "unique_words = sorted(set(words))\n",
        "print(\"\\nSorted Unique Words:\")\n",
        "print(unique_words)"
      ],
      "metadata": {
        "colab": {
          "base_uri": "https://localhost:8080/"
        },
        "id": "l4ZOYOOgHpac",
        "outputId": "95a84247-6978-43a5-ff02-461342eb4843"
      },
      "execution_count": 16,
      "outputs": [
        {
          "output_type": "stream",
          "name": "stdout",
          "text": [
            "\n",
            "Sorted Unique Words:\n",
            "['ai', 'and', 'change', 'everything', 'future', 'in', 'is', 'the', 'will', 'world']\n"
          ]
        }
      ]
    },
    {
      "cell_type": "code",
      "source": [
        "set1 = set(words)\n",
        "set2 = {\"ai\", \"ml\", \"data\", \"future\"}\n",
        "common = set1.intersection(set2)\n",
        "print(\"\\nCommon words between set1 and set2:\",common)\n",
        "\n"
      ],
      "metadata": {
        "colab": {
          "base_uri": "https://localhost:8080/"
        },
        "id": "tkEEkrHCHtNn",
        "outputId": "37e7ea6f-7e43-4c1c-be25-cc47e8194930"
      },
      "execution_count": 17,
      "outputs": [
        {
          "output_type": "stream",
          "name": "stdout",
          "text": [
            "\n",
            "Common words between set1 and set2: {'ai', 'future'}\n"
          ]
        }
      ]
    },
    {
      "cell_type": "code",
      "source": [
        "sales = {\n",
        "    'Amit': 70000,\n",
        "    'Sneha': 45000,\n",
        "    'Ravi': 30000,\n",
        "    'Anita': 90000,\n",
        "    'Kabir': 20000\n",
        "}\n"
      ],
      "metadata": {
        "id": "AJ_bVernH6To"
      },
      "execution_count": 18,
      "outputs": []
    },
    {
      "cell_type": "code",
      "source": [
        "bonus_sales = {name: amount * 1.10 for name, amount in sales.items()}\n",
        "print(\"Sales after 10% bonus:\")\n",
        "print(bonus_sales)\n"
      ],
      "metadata": {
        "colab": {
          "base_uri": "https://localhost:8080/"
        },
        "id": "pxPYr_7JH9c7",
        "outputId": "502e55a4-9ecf-4ab1-9fa6-cbff6928043e"
      },
      "execution_count": 19,
      "outputs": [
        {
          "output_type": "stream",
          "name": "stdout",
          "text": [
            "Sales after 10% bonus:\n",
            "{'Amit': 77000.0, 'Sneha': 49500.00000000001, 'Ravi': 33000.0, 'Anita': 99000.00000000001, 'Kabir': 22000.0}\n"
          ]
        }
      ]
    },
    {
      "cell_type": "code",
      "source": [
        "high_sales = {name: amount for name, amount in sales.items() if amount > 50000}\n",
        "print(\"\\nSales > 50,000:\")\n",
        "print(high_sales)\n"
      ],
      "metadata": {
        "colab": {
          "base_uri": "https://localhost:8080/"
        },
        "id": "jfc9DrBkH_oB",
        "outputId": "fe07d2fa-6784-4321-f908-10cdfa0fd16d"
      },
      "execution_count": 20,
      "outputs": [
        {
          "output_type": "stream",
          "name": "stdout",
          "text": [
            "\n",
            "Sales > 50,000:\n",
            "{'Amit': 70000, 'Anita': 90000}\n"
          ]
        }
      ]
    },
    {
      "cell_type": "code",
      "source": [
        "labels = {}\n",
        "for name, amount in sales.items():\n",
        "    if amount >= 75000:\n",
        "        labels[name] = 'High'\n",
        "    elif amount >= 40000:\n",
        "        labels[name] = 'Medium'\n",
        "    else:\n",
        "        labels[name] = 'Low'\n",
        "\n",
        "print(\"\\nSales Category Labels:\")\n",
        "print(labels)\n"
      ],
      "metadata": {
        "colab": {
          "base_uri": "https://localhost:8080/"
        },
        "id": "Z5WtOasJIFkg",
        "outputId": "b765dd56-88c2-4417-c708-4b93400bf39e"
      },
      "execution_count": 21,
      "outputs": [
        {
          "output_type": "stream",
          "name": "stdout",
          "text": [
            "\n",
            "Sales Category Labels:\n",
            "{'Amit': 'Medium', 'Sneha': 'Medium', 'Ravi': 'Low', 'Anita': 'High', 'Kabir': 'Low'}\n"
          ]
        }
      ]
    },
    {
      "cell_type": "code",
      "source": [
        "names = (\"Ravi\", \"Sneha\", \"Kabir\")\n",
        "marks = (88, 92, 76)\n"
      ],
      "metadata": {
        "id": "BwYpJtN4IMFX"
      },
      "execution_count": 22,
      "outputs": []
    },
    {
      "cell_type": "code",
      "source": [
        "student_marks = dict(zip(names, marks))\n",
        "print(\"Dictionary of student marks:\")\n",
        "print(student_marks)\n"
      ],
      "metadata": {
        "colab": {
          "base_uri": "https://localhost:8080/"
        },
        "id": "skb-BCnrIQbf",
        "outputId": "13c9e77b-5354-48c5-b925-134ec9683fff"
      },
      "execution_count": 23,
      "outputs": [
        {
          "output_type": "stream",
          "name": "stdout",
          "text": [
            "Dictionary of student marks:\n",
            "{'Ravi': 88, 'Sneha': 92, 'Kabir': 76}\n"
          ]
        }
      ]
    },
    {
      "cell_type": "code",
      "source": [
        "print(\"\\nMinimum mark:\", min(marks))\n",
        "print(\"Maximum mark:\", max(marks))\n"
      ],
      "metadata": {
        "colab": {
          "base_uri": "https://localhost:8080/"
        },
        "id": "cCl4UTBNISEL",
        "outputId": "fc9daae0-661d-46d4-ed02-825a160c72f1"
      },
      "execution_count": 24,
      "outputs": [
        {
          "output_type": "stream",
          "name": "stdout",
          "text": [
            "\n",
            "Minimum mark: 76\n",
            "Maximum mark: 92\n"
          ]
        }
      ]
    },
    {
      "cell_type": "code",
      "source": [
        "mark_set = set(marks)\n",
        "mark_set.add(85)\n",
        "print(\"\\nUpdated Set of Marks:\",mark_set)\n",
        "\n"
      ],
      "metadata": {
        "colab": {
          "base_uri": "https://localhost:8080/"
        },
        "id": "2qFHHo17IUq1",
        "outputId": "372a7f94-547c-42bf-d7d7-989a21c34641"
      },
      "execution_count": 25,
      "outputs": [
        {
          "output_type": "stream",
          "name": "stdout",
          "text": [
            "\n",
            "Updated Set of Marks: {88, 92, 85, 76}\n"
          ]
        }
      ]
    },
    {
      "cell_type": "code",
      "source": [
        "extra_marks = {92, 80, 70, 85}\n",
        "merged_set = mark_set.union(extra_marks)\n",
        "print(\"\\nMerged Set with Unique Elements:\",merged_set)"
      ],
      "metadata": {
        "colab": {
          "base_uri": "https://localhost:8080/"
        },
        "id": "kka6w9aBIcTQ",
        "outputId": "02ff6b71-0297-493a-86fa-f327ee4ba8c6"
      },
      "execution_count": 26,
      "outputs": [
        {
          "output_type": "stream",
          "name": "stdout",
          "text": [
            "\n",
            "Merged Set with Unique Elements: {70, 76, 80, 85, 88, 92}\n"
          ]
        }
      ]
    },
    {
      "cell_type": "code",
      "source": [
        "employees = {\n",
        "    \"E101\": {\"name\": \"Ravi\", \"dept\": \"Sales\", \"salary\": 50000},\n",
        "    \"E102\": {\"name\": \"Sneha\", \"dept\": \"Engineering\", \"salary\": 80000},\n",
        "    \"E103\": {\"name\": \"Kabir\", \"dept\": \"HR\", \"salary\": 45000}\n",
        "}"
      ],
      "metadata": {
        "id": "FB6WuQMgIllN"
      },
      "execution_count": 27,
      "outputs": []
    },
    {
      "cell_type": "code",
      "source": [
        "employees[\"E104\"] = {\"name\": \"Anita\", \"dept\": \"Engineering\", \"salary\": 90000}\n",
        "print(\"After adding E104:\")\n",
        "for emp_id, info in employees.items():\n",
        "    print(emp_id, \":\", info)\n"
      ],
      "metadata": {
        "colab": {
          "base_uri": "https://localhost:8080/"
        },
        "id": "cfPcZL4aIncb",
        "outputId": "12611ac3-0350-4703-90d9-bea17770dc19"
      },
      "execution_count": 28,
      "outputs": [
        {
          "output_type": "stream",
          "name": "stdout",
          "text": [
            "After adding E104:\n",
            "E101 : {'name': 'Ravi', 'dept': 'Sales', 'salary': 50000}\n",
            "E102 : {'name': 'Sneha', 'dept': 'Engineering', 'salary': 80000}\n",
            "E103 : {'name': 'Kabir', 'dept': 'HR', 'salary': 45000}\n",
            "E104 : {'name': 'Anita', 'dept': 'Engineering', 'salary': 90000}\n"
          ]
        }
      ]
    },
    {
      "cell_type": "code",
      "source": [
        "for emp in employees.values():\n",
        "    if emp[\"dept\"] == \"Engineering\":\n",
        "        emp[\"salary\"] *= 1.10\n",
        "\n",
        "print(\"\\nAfter 10% raise for Engineering:\")\n",
        "for emp_id, info in employees.items():\n",
        "    print(emp_id, \":\", info)\n"
      ],
      "metadata": {
        "colab": {
          "base_uri": "https://localhost:8080/"
        },
        "id": "uh0PNSecItmP",
        "outputId": "23cbdf15-d2d9-449e-f657-081db16f7f9e"
      },
      "execution_count": 29,
      "outputs": [
        {
          "output_type": "stream",
          "name": "stdout",
          "text": [
            "\n",
            "After 10% raise for Engineering:\n",
            "E101 : {'name': 'Ravi', 'dept': 'Sales', 'salary': 50000}\n",
            "E102 : {'name': 'Sneha', 'dept': 'Engineering', 'salary': 88000.0}\n",
            "E103 : {'name': 'Kabir', 'dept': 'HR', 'salary': 45000}\n",
            "E104 : {'name': 'Anita', 'dept': 'Engineering', 'salary': 99000.00000000001}\n"
          ]
        }
      ]
    },
    {
      "cell_type": "code",
      "source": [
        "dept_salaries = {}\n",
        "for emp in employees.values():\n",
        "    dept = emp[\"dept\"]\n",
        "    salary = emp[\"salary\"]\n",
        "    if dept in dept_salaries:\n",
        "        dept_salaries[dept].append(salary)\n",
        "    else:\n",
        "        dept_salaries[dept] = [salary]\n",
        "dept_avg = {}\n",
        "for dept, salaries in dept_salaries.items():\n",
        "    dept_avg[dept] = sum(salaries) / len(salaries)\n",
        "max_dept = None\n",
        "max_avg = 0\n",
        "for dept, avg in dept_avg.items():\n",
        "    if avg > max_avg:\n",
        "        max_avg = avg\n",
        "        max_dept = dept\n",
        "print(\"Department with highest average salary:\", max_dept)\n",
        "print(\"Average Salary:\", max_avg)\n"
      ],
      "metadata": {
        "colab": {
          "base_uri": "https://localhost:8080/"
        },
        "id": "k2NPihwDJDyJ",
        "outputId": "93501100-6ae7-4b18-fa17-4f715439c1a2"
      },
      "execution_count": 32,
      "outputs": [
        {
          "output_type": "stream",
          "name": "stdout",
          "text": [
            "Department with highest average salary: Engineering\n",
            "Average Salary: 93500.0\n"
          ]
        }
      ]
    }
  ]
}