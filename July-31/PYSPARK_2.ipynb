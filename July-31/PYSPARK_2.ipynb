{
  "nbformat": 4,
  "nbformat_minor": 0,
  "metadata": {
    "colab": {
      "provenance": []
    },
    "kernelspec": {
      "name": "python3",
      "display_name": "Python 3"
    },
    "language_info": {
      "name": "python"
    }
  },
  "cells": [
    {
      "cell_type": "code",
      "execution_count": 1,
      "metadata": {
        "colab": {
          "base_uri": "https://localhost:8080/",
          "height": 73
        },
        "id": "aoot-fGM8xuy",
        "outputId": "e0a58778-53b9-4c81-8588-8e2b6a27dece"
      },
      "outputs": [
        {
          "output_type": "display_data",
          "data": {
            "text/plain": [
              "<IPython.core.display.HTML object>"
            ],
            "text/html": [
              "\n",
              "     <input type=\"file\" id=\"files-b730f5ef-23e3-4750-a442-fd912c81bc14\" name=\"files[]\" multiple disabled\n",
              "        style=\"border:none\" />\n",
              "     <output id=\"result-b730f5ef-23e3-4750-a442-fd912c81bc14\">\n",
              "      Upload widget is only available when the cell has been executed in the\n",
              "      current browser session. Please rerun this cell to enable.\n",
              "      </output>\n",
              "      <script>// Copyright 2017 Google LLC\n",
              "//\n",
              "// Licensed under the Apache License, Version 2.0 (the \"License\");\n",
              "// you may not use this file except in compliance with the License.\n",
              "// You may obtain a copy of the License at\n",
              "//\n",
              "//      http://www.apache.org/licenses/LICENSE-2.0\n",
              "//\n",
              "// Unless required by applicable law or agreed to in writing, software\n",
              "// distributed under the License is distributed on an \"AS IS\" BASIS,\n",
              "// WITHOUT WARRANTIES OR CONDITIONS OF ANY KIND, either express or implied.\n",
              "// See the License for the specific language governing permissions and\n",
              "// limitations under the License.\n",
              "\n",
              "/**\n",
              " * @fileoverview Helpers for google.colab Python module.\n",
              " */\n",
              "(function(scope) {\n",
              "function span(text, styleAttributes = {}) {\n",
              "  const element = document.createElement('span');\n",
              "  element.textContent = text;\n",
              "  for (const key of Object.keys(styleAttributes)) {\n",
              "    element.style[key] = styleAttributes[key];\n",
              "  }\n",
              "  return element;\n",
              "}\n",
              "\n",
              "// Max number of bytes which will be uploaded at a time.\n",
              "const MAX_PAYLOAD_SIZE = 100 * 1024;\n",
              "\n",
              "function _uploadFiles(inputId, outputId) {\n",
              "  const steps = uploadFilesStep(inputId, outputId);\n",
              "  const outputElement = document.getElementById(outputId);\n",
              "  // Cache steps on the outputElement to make it available for the next call\n",
              "  // to uploadFilesContinue from Python.\n",
              "  outputElement.steps = steps;\n",
              "\n",
              "  return _uploadFilesContinue(outputId);\n",
              "}\n",
              "\n",
              "// This is roughly an async generator (not supported in the browser yet),\n",
              "// where there are multiple asynchronous steps and the Python side is going\n",
              "// to poll for completion of each step.\n",
              "// This uses a Promise to block the python side on completion of each step,\n",
              "// then passes the result of the previous step as the input to the next step.\n",
              "function _uploadFilesContinue(outputId) {\n",
              "  const outputElement = document.getElementById(outputId);\n",
              "  const steps = outputElement.steps;\n",
              "\n",
              "  const next = steps.next(outputElement.lastPromiseValue);\n",
              "  return Promise.resolve(next.value.promise).then((value) => {\n",
              "    // Cache the last promise value to make it available to the next\n",
              "    // step of the generator.\n",
              "    outputElement.lastPromiseValue = value;\n",
              "    return next.value.response;\n",
              "  });\n",
              "}\n",
              "\n",
              "/**\n",
              " * Generator function which is called between each async step of the upload\n",
              " * process.\n",
              " * @param {string} inputId Element ID of the input file picker element.\n",
              " * @param {string} outputId Element ID of the output display.\n",
              " * @return {!Iterable<!Object>} Iterable of next steps.\n",
              " */\n",
              "function* uploadFilesStep(inputId, outputId) {\n",
              "  const inputElement = document.getElementById(inputId);\n",
              "  inputElement.disabled = false;\n",
              "\n",
              "  const outputElement = document.getElementById(outputId);\n",
              "  outputElement.innerHTML = '';\n",
              "\n",
              "  const pickedPromise = new Promise((resolve) => {\n",
              "    inputElement.addEventListener('change', (e) => {\n",
              "      resolve(e.target.files);\n",
              "    });\n",
              "  });\n",
              "\n",
              "  const cancel = document.createElement('button');\n",
              "  inputElement.parentElement.appendChild(cancel);\n",
              "  cancel.textContent = 'Cancel upload';\n",
              "  const cancelPromise = new Promise((resolve) => {\n",
              "    cancel.onclick = () => {\n",
              "      resolve(null);\n",
              "    };\n",
              "  });\n",
              "\n",
              "  // Wait for the user to pick the files.\n",
              "  const files = yield {\n",
              "    promise: Promise.race([pickedPromise, cancelPromise]),\n",
              "    response: {\n",
              "      action: 'starting',\n",
              "    }\n",
              "  };\n",
              "\n",
              "  cancel.remove();\n",
              "\n",
              "  // Disable the input element since further picks are not allowed.\n",
              "  inputElement.disabled = true;\n",
              "\n",
              "  if (!files) {\n",
              "    return {\n",
              "      response: {\n",
              "        action: 'complete',\n",
              "      }\n",
              "    };\n",
              "  }\n",
              "\n",
              "  for (const file of files) {\n",
              "    const li = document.createElement('li');\n",
              "    li.append(span(file.name, {fontWeight: 'bold'}));\n",
              "    li.append(span(\n",
              "        `(${file.type || 'n/a'}) - ${file.size} bytes, ` +\n",
              "        `last modified: ${\n",
              "            file.lastModifiedDate ? file.lastModifiedDate.toLocaleDateString() :\n",
              "                                    'n/a'} - `));\n",
              "    const percent = span('0% done');\n",
              "    li.appendChild(percent);\n",
              "\n",
              "    outputElement.appendChild(li);\n",
              "\n",
              "    const fileDataPromise = new Promise((resolve) => {\n",
              "      const reader = new FileReader();\n",
              "      reader.onload = (e) => {\n",
              "        resolve(e.target.result);\n",
              "      };\n",
              "      reader.readAsArrayBuffer(file);\n",
              "    });\n",
              "    // Wait for the data to be ready.\n",
              "    let fileData = yield {\n",
              "      promise: fileDataPromise,\n",
              "      response: {\n",
              "        action: 'continue',\n",
              "      }\n",
              "    };\n",
              "\n",
              "    // Use a chunked sending to avoid message size limits. See b/62115660.\n",
              "    let position = 0;\n",
              "    do {\n",
              "      const length = Math.min(fileData.byteLength - position, MAX_PAYLOAD_SIZE);\n",
              "      const chunk = new Uint8Array(fileData, position, length);\n",
              "      position += length;\n",
              "\n",
              "      const base64 = btoa(String.fromCharCode.apply(null, chunk));\n",
              "      yield {\n",
              "        response: {\n",
              "          action: 'append',\n",
              "          file: file.name,\n",
              "          data: base64,\n",
              "        },\n",
              "      };\n",
              "\n",
              "      let percentDone = fileData.byteLength === 0 ?\n",
              "          100 :\n",
              "          Math.round((position / fileData.byteLength) * 100);\n",
              "      percent.textContent = `${percentDone}% done`;\n",
              "\n",
              "    } while (position < fileData.byteLength);\n",
              "  }\n",
              "\n",
              "  // All done.\n",
              "  yield {\n",
              "    response: {\n",
              "      action: 'complete',\n",
              "    }\n",
              "  };\n",
              "}\n",
              "\n",
              "scope.google = scope.google || {};\n",
              "scope.google.colab = scope.google.colab || {};\n",
              "scope.google.colab._files = {\n",
              "  _uploadFiles,\n",
              "  _uploadFilesContinue,\n",
              "};\n",
              "})(self);\n",
              "</script> "
            ]
          },
          "metadata": {}
        },
        {
          "output_type": "stream",
          "name": "stdout",
          "text": [
            "Saving movies.csv to movies.csv\n"
          ]
        }
      ],
      "source": [
        "from google.colab import files\n",
        "uploaded = files.upload()"
      ]
    },
    {
      "cell_type": "code",
      "source": [
        "import pandas as pd\n",
        "import numpy as np\n",
        "df = pd.read_csv('movies.csv')"
      ],
      "metadata": {
        "id": "zO8i4afZ89pS"
      },
      "execution_count": null,
      "outputs": []
    },
    {
      "cell_type": "code",
      "source": [
        "df[\"ReleaseDate\"]=pd.to_datetime(df[\"ReleaseDate\"])\n",
        "print(df.dtypes[\"ReleaseDate\"])\n",
        "print(df[[\"Title\",\"ReleaseDate\"]].head())"
      ],
      "metadata": {
        "id": "NyIoAkNu9N_B"
      },
      "execution_count": null,
      "outputs": []
    },
    {
      "cell_type": "code",
      "source": [
        "df[\"Profit\"]=df[\"Revenue\"]-df[\"Budget\"]\n",
        "print(df[[\"Title\", \"Revenue\", \"Budget\", \"Profit\"]])"
      ],
      "metadata": {
        "id": "l1cergbP9Wcg"
      },
      "execution_count": null,
      "outputs": []
    },
    {
      "cell_type": "code",
      "source": [
        "release_year=df[\"ReleaseDate\"].dt.year\n",
        "def get_era(year):\n",
        "    if year < 2000:\n",
        "        return \"Classic\"\n",
        "    elif year <= 2010:\n",
        "        return \"Mid\"\n",
        "    else:\n",
        "        return \"Modern\"\n",
        "df[\"Era\"]=release_year.apply(get_era)\n",
        "print(df[[\"Title\", \"ReleaseDate\", \"Era\"]])"
      ],
      "metadata": {
        "id": "X9OOUjVO9YXz"
      },
      "execution_count": null,
      "outputs": []
    },
    {
      "cell_type": "code",
      "source": [
        "avg_revenue=df[\"Revenue\"].mean()\n",
        "df[\"Revenue\"]=df[\"Revenue\"].fillna(avg_revenue)\n",
        "df[\"Profit\"]=df[\"Revenue\"]-df[\"Budget\"]\n",
        "print(df[df[\"Title\"]==\"The Notebook\"][[\"Title\", \"Revenue\", \"Budget\", \"Profit\"]])"
      ],
      "metadata": {
        "id": "pvLa1VZL9ddi"
      },
      "execution_count": null,
      "outputs": []
    },
    {
      "cell_type": "code",
      "source": [
        "df_sorted=df.sort_values(by=\"Rating\",ascending=False)\n",
        "print(df_sorted[[\"Title\",\"Rating\"]])"
      ],
      "metadata": {
        "id": "q6Ll5n859iKQ"
      },
      "execution_count": null,
      "outputs": []
    },
    {
      "cell_type": "code",
      "source": [
        "genre_stats=df.groupby(\"Genre\").agg({\n",
        "    \"Rating\":\"mean\",\n",
        "    \"Revenue\":\"sum\"\n",
        "})\n",
        "genre_stats=genre_stats.rename(columns={\n",
        "    \"Rating\":\"AverageRating\",\n",
        "    \"Revenue\":\"Total Revenue\"\n",
        "\n",
        "})\n",
        "print(genre_stats)"
      ],
      "metadata": {
        "id": "ALz2Zs-Y9oEv"
      },
      "execution_count": null,
      "outputs": []
    },
    {
      "cell_type": "code",
      "source": [
        "top_movies=df[(df[\"Rating\"]>=8.5) & (df[\"Profit\"]> 500_00_000)]\n",
        "print(top_movies[[\"Title\", \"Rating\", \"Profit\"]])\n",
        ""
      ],
      "metadata": {
        "id": "Z0ikErLf9qZa"
      },
      "execution_count": null,
      "outputs": []
    },
    {
      "cell_type": "code",
      "source": [
        "import matplotlib.pyplot as plt\n",
        "plt.figure(figsize=(6, 6))\n",
        "plt.bar(df[\"Title\"], df[\"Profit\"], color=\"skyblue\")\n",
        "plt.title(\"Movie Profit vs Title\")\n",
        "plt.xlabel(\"Movie Title\")\n",
        "plt.ylabel(\"Profit\")\n",
        "plt.xticks(rotation=45, ha='right')\n",
        "plt.tight_layout()\n",
        "plt.show()\n",
        ""
      ],
      "metadata": {
        "id": "FcTCUuhd9u6a"
      },
      "execution_count": null,
      "outputs": []
    },
    {
      "cell_type": "code",
      "source": [
        "from pyspark.sql import SparkSession\n",
        "spark = SparkSession.builder.appName(\"MovieAnalysis\").getOrCreate()\n",
        "df_spark = spark.read.option(\"header\", True).option(\"inferSchema\", True).csv(\"movies.csv\")\n",
        "df_spark.show(5)"
      ],
      "metadata": {
        "id": "58KEa_ML-Ccc"
      },
      "execution_count": null,
      "outputs": []
    },
    {
      "cell_type": "code",
      "source": [
        "from pyspark.sql.functions import col\n",
        "df_spark=df_spark.withColumn(\"Profit\",col(\"Revenue\")-col(\"Budget\"))\n",
        "df_spark.select(\"Title\", \"Revenue\", \"Budget\", \"Profit\").show()"
      ],
      "metadata": {
        "id": "peXxUmB4-MoF"
      },
      "execution_count": null,
      "outputs": []
    },
    {
      "cell_type": "code",
      "source": [
        "sci_fi_hits = df_spark.filter(\n",
        "    (col(\"Genre\") == \"Sci-Fi\") & (col(\"Profit\") > 500_000_000)\n",
        ")\n",
        "sci_fi_hits.select(\"Title\", \"Genre\", \"Profit\").show()"
      ],
      "metadata": {
        "id": "yKWwGzf7-SNE"
      },
      "execution_count": null,
      "outputs": []
    },
    {
      "cell_type": "code",
      "source": [
        "genre_grouped=df_spark.groupBy(\"Genre\").agg({\n",
        "    \"Rating\":\"avg\",\n",
        "    \"Profit\":\"sum\"\n",
        "})\n",
        "genre_grouped=genre_grouped.withColumnRenamed(\"avg(Rating)\",\"AverageRating\")\\\n",
        "       .withColumnRenamed(\"sum(Profit)\",\"TotalProfit\")\n",
        "genre_grouped.show()"
      ],
      "metadata": {
        "id": "_INdUYn__CvU"
      },
      "execution_count": null,
      "outputs": []
    },
    {
      "cell_type": "code",
      "source": [
        "from pyspark.sql.functions import when\n",
        "df_spark = df_spark.withColumn(\n",
        "    \"RatingCategory\",\n",
        "    when(col(\"Rating\") == 9.0, \"Blockbuster\")\n",
        "    .when((col(\"Rating\") >= 8.0) & (col(\"Rating\") < 9.0), \"Hit\")\n",
        "    .otherwise(\"Average\")\n",
        ")\n",
        "df_spark.select(\"Title\", \"Rating\", \"RatingCategory\").show()"
      ],
      "metadata": {
        "id": "Sz2mnpDK_I-6"
      },
      "execution_count": null,
      "outputs": []
    },
    {
      "cell_type": "code",
      "source": [
        "df_spark=df_spark.drop(\"Budjet\")\n",
        "print(df_spark.columns)"
      ],
      "metadata": {
        "id": "tyFI13bs_NEb"
      },
      "execution_count": null,
      "outputs": []
    },
    {
      "cell_type": "code",
      "source": [
        "avg_revenue = df_spark.selectExpr(\"avg(Revenue)\").first()[0]\n",
        "df_spark = df_spark.na.fill({\"Revenue\": avg_revenue})\n",
        "df_spark = df_spark.withColumn(\"Profit\", col(\"Revenue\") - col(\"Budget\"))\n",
        "\n",
        "df_spark.select(\"Title\", \"Revenue\", \"Profit\").show()"
      ],
      "metadata": {
        "id": "pMU7-3oE_QSj"
      },
      "execution_count": null,
      "outputs": []
    },
    {
      "cell_type": "code",
      "source": [
        "from pyspark.sql.functions import to_date, year, month\n",
        "df_spark = df_spark.withColumn(\"ReleaseDate\", to_date(col(\"ReleaseDate\"), \"yyyy-MM-dd\"))\n",
        "df_spark = df_spark.withColumn(\"ReleaseYear\", year(col(\"ReleaseDate\")))\n",
        "df_spark = df_spark.withColumn(\"ReleaseMonth\", month(col(\"ReleaseDate\")))\n",
        "df_spark.select(\"Title\", \"ReleaseDate\", \"ReleaseYear\", \"ReleaseMonth\").show()"
      ],
      "metadata": {
        "id": "34ipTmcp_ZXT"
      },
      "execution_count": null,
      "outputs": []
    },
    {
      "cell_type": "code",
      "source": [
        "from pyspark.sql.window import Window\n",
        "from pyspark.sql.functions import rank\n",
        "genre_window=Window.partitionBy(\"Genre\").orderBy(col(\"Profit\").desc())\n",
        "df_spark=df_spark.withColumn(\"GenreProfitRank\",rank().over(genre_window))\n",
        "df_spark.select(\"Title\", \"Genre\", \"Profit\", \"GenreProfitRank\").show()"
      ],
      "metadata": {
        "id": "to_8oA_n_dNv"
      },
      "execution_count": null,
      "outputs": []
    },
    {
      "cell_type": "code",
      "source": [
        "import json\n",
        "bonus_movies = [\n",
        "    {\"MovieID\": 8, \"Title\": \"Barbie\", \"Genre\": \"Drama\", \"Rating\": 7.5, \"Revenue\": 1456000000, \"Budget\": 145000000},\n",
        "    {\"MovieID\": 9, \"Title\": \"Oppenheimer\", \"Genre\": \"Drama\", \"Rating\": 8.6, \"Revenue\": 950000000, \"Budget\": 100000000}\n",
        "]\n",
        "with open(\"movies_bonus.json\", \"w\") as f:\n",
        "    json.dump(bonus_movies, f, indent=4)"
      ],
      "metadata": {
        "id": "MU0Le-VC_if7"
      },
      "execution_count": 26,
      "outputs": []
    },
    {
      "cell_type": "code",
      "source": [
        "df_bonus = spark.read.option(\"multiline\", True).json(\"movies_bonus.json\")\n",
        "df_bonus.show()"
      ],
      "metadata": {
        "id": "rsG6kpB7_nyQ"
      },
      "execution_count": null,
      "outputs": []
    },
    {
      "cell_type": "code",
      "source": [
        "columns_to_keep = [\"MovieID\", \"Title\", \"Genre\", \"Rating\", \"Revenue\", \"Budget\"]\n",
        "df_main_clean=df_spark.select(*columns_to_keep)\n",
        "df_bonus_clean=df_spark.select(*columns_to_keep)\n",
        "df_merged=df_main_clean.union(df_bonus_clean)\n",
        "df_merged.show()"
      ],
      "metadata": {
        "id": "D7wmOyJf_sJv"
      },
      "execution_count": null,
      "outputs": []
    },
    {
      "cell_type": "code",
      "source": [
        "df_merged.orderBy(col(\"Revenue\").desc()).select(\"Title\",\"Revenue\").show(5)"
      ],
      "metadata": {
        "id": "F3nP6XWt_zU2"
      },
      "execution_count": null,
      "outputs": []
    },
    {
      "cell_type": "code",
      "source": [
        "df_merged.write.mode(\"overwrite\").option(\"header\", True).csv(\"final_movies_output\")\n"
      ],
      "metadata": {
        "id": "KNLrqlpv_4An"
      },
      "execution_count": 30,
      "outputs": []
    },
    {
      "cell_type": "code",
      "source": [
        "from pyspark.sql.functions import col\n",
        "\n",
        "df_spark = df_spark.withColumn(\"ReturnOnInvestment\", col(\"Profit\") / col(\"Budget\"))\n",
        "df_spark.select(\"Title\", \"Profit\", \"Budget\", \"ReturnOnInvestment\").show()"
      ],
      "metadata": {
        "id": "WNkodvhvATX1"
      },
      "execution_count": null,
      "outputs": []
    },
    {
      "cell_type": "code",
      "source": [
        "top_roi_spark = df_spark.filter(\n",
        "    (col(\"Budget\") >= 50000000)\n",
        ").orderBy(col(\"ReturnOnInvestment\").desc())\n",
        "\n",
        "top_roi_spark.select(\"Title\", \"Genre\", \"Budget\", \"Profit\", \"ReturnOnInvestment\").show(5)\n"
      ],
      "metadata": {
        "id": "8CjmDdhhBWpb"
      },
      "execution_count": null,
      "outputs": []
    },
    {
      "cell_type": "code",
      "source": [
        "df_pandas = df_spark.select(\"Title\", \"Genre\", \"Budget\", \"Profit\", \"ReturnOnInvestment\").toPandas()\n"
      ],
      "metadata": {
        "id": "Jd9poGlJBZ0K"
      },
      "execution_count": 33,
      "outputs": []
    },
    {
      "cell_type": "code",
      "source": [
        "import pandas as pd\n",
        "import matplotlib.pyplot as plt\n",
        "df_filtered = df[df[\"Budget\"] >= 50000000]\n",
        "genre_roi = df_filtered.groupby(\"Genre\")[\"ROI\"].mean().sort_values(ascending=False)\n",
        "plt.figure(figsize=(8, 5))\n",
        "genre_roi.plot(kind=\"bar\", color=\"mediumseagreen\")\n",
        "plt.title(\"Average ROI by Genre \")\n",
        "plt.xlabel(\"Genre\")\n",
        "plt.ylabel(\"ROI\")\n",
        "plt.xticks(rotation=45)\n",
        "plt.tight_layout()\n",
        "plt.show()\n"
      ],
      "metadata": {
        "id": "5mE2VSwRBfFC"
      },
      "execution_count": null,
      "outputs": []
    }
  ]
}