{
  "nbformat": 4,
  "nbformat_minor": 0,
  "metadata": {
    "colab": {
      "provenance": []
    },
    "kernelspec": {
      "name": "python3",
      "display_name": "Python 3"
    },
    "language_info": {
      "name": "python"
    }
  },
  "cells": [
    {
      "cell_type": "code",
      "execution_count": 1,
      "metadata": {
        "colab": {
          "base_uri": "https://localhost:8080/"
        },
        "id": "gIO9-WrnKeIr",
        "outputId": "058d2c75-0b9f-4052-a6a9-afb3a5ddfe25"
      },
      "outputs": [
        {
          "output_type": "stream",
          "name": "stdout",
          "text": [
            "+-----+------+----------+---------+---------+\n",
            "|EmpID|  Name|Department|UnitsSold|UnitPrice|\n",
            "+-----+------+----------+---------+---------+\n",
            "| E101|  Anit|     Sales|       10|     1200|\n",
            "| E162| Sneha| Marketing|        8|     1500|\n",
            "| E103|  Ravi|     Sales|       12|     1300|\n",
            "| E104|Anjali|        HR|        7|     1100|\n",
            "| E105|   Raj|     Sales|        5|     1000|\n",
            "+-----+------+----------+---------+---------+\n",
            "\n"
          ]
        }
      ],
      "source": [
        "from pyspark.sql import SparkSession\n",
        "spark = SparkSession.builder.appName(\"EmployeeSalesAnalysis\").getOrCreate()\n",
        "data = [\n",
        "    (\"E101\", \"Anit\", \"Sales\", 10, 1200),\n",
        "    (\"E162\", \"Sneha\", \"Marketing\", 8, 1500),\n",
        "    (\"E103\", \"Ravi\", \"Sales\", 12, 1300),\n",
        "    (\"E104\", \"Anjali\", \"HR\", 7, 1100),\n",
        "    (\"E105\", \"Raj\", \"Sales\", 5, 1000)\n",
        "]\n",
        "\n",
        "columns = [\"EmpID\", \"Name\", \"Department\", \"UnitsSold\", \"UnitPrice\"]\n",
        "\n",
        "df = spark.createDataFrame(data, columns)\n",
        "\n",
        "df.show()\n"
      ]
    },
    {
      "cell_type": "code",
      "source": [
        "total_employees = df.count()\n",
        "print(f\"Total number of employees: {total_employees}\")\n"
      ],
      "metadata": {
        "colab": {
          "base_uri": "https://localhost:8080/"
        },
        "id": "Hb6wC9O9LQfJ",
        "outputId": "e6f8af3d-d020-4ce1-97f5-42c9c9c064dc"
      },
      "execution_count": 2,
      "outputs": [
        {
          "output_type": "stream",
          "name": "stdout",
          "text": [
            "Total number of employees: 5\n"
          ]
        }
      ]
    },
    {
      "cell_type": "code",
      "source": [
        "from pyspark.sql.functions import col\n",
        "df = df.withColumn(\"TotalSales\", col(\"UnitsSold\") * col(\"UnitPrice\"))\n",
        "df.show()\n"
      ],
      "metadata": {
        "colab": {
          "base_uri": "https://localhost:8080/"
        },
        "id": "eND9JWmLLSDX",
        "outputId": "6a2a4748-8885-4a75-f7c0-b855a0c754f8"
      },
      "execution_count": 3,
      "outputs": [
        {
          "output_type": "stream",
          "name": "stdout",
          "text": [
            "+-----+------+----------+---------+---------+----------+\n",
            "|EmpID|  Name|Department|UnitsSold|UnitPrice|TotalSales|\n",
            "+-----+------+----------+---------+---------+----------+\n",
            "| E101|  Anit|     Sales|       10|     1200|     12000|\n",
            "| E162| Sneha| Marketing|        8|     1500|     12000|\n",
            "| E103|  Ravi|     Sales|       12|     1300|     15600|\n",
            "| E104|Anjali|        HR|        7|     1100|      7700|\n",
            "| E105|   Raj|     Sales|        5|     1000|      5000|\n",
            "+-----+------+----------+---------+---------+----------+\n",
            "\n"
          ]
        }
      ]
    },
    {
      "cell_type": "code",
      "source": [
        "df.filter((col(\"Department\") == \"Sales\") & (col(\"TotalSales\") > 12000)).show()\n"
      ],
      "metadata": {
        "colab": {
          "base_uri": "https://localhost:8080/"
        },
        "id": "Vf5RjmXSLVT-",
        "outputId": "4cbec003-be9b-4781-b6ab-a1f91265867e"
      },
      "execution_count": 4,
      "outputs": [
        {
          "output_type": "stream",
          "name": "stdout",
          "text": [
            "+-----+----+----------+---------+---------+----------+\n",
            "|EmpID|Name|Department|UnitsSold|UnitPrice|TotalSales|\n",
            "+-----+----+----------+---------+---------+----------+\n",
            "| E103|Ravi|     Sales|       12|     1300|     15600|\n",
            "+-----+----+----------+---------+---------+----------+\n",
            "\n"
          ]
        }
      ]
    },
    {
      "cell_type": "code",
      "source": [
        "from pyspark.sql.functions import desc\n",
        "\n",
        "df.orderBy(desc(\"TotalSales\")).limit(1).show()\n"
      ],
      "metadata": {
        "colab": {
          "base_uri": "https://localhost:8080/"
        },
        "id": "OCiwrmHPLXUZ",
        "outputId": "9d4bb285-3c45-4d4b-a154-c455120a0562"
      },
      "execution_count": 5,
      "outputs": [
        {
          "output_type": "stream",
          "name": "stdout",
          "text": [
            "+-----+----+----------+---------+---------+----------+\n",
            "|EmpID|Name|Department|UnitsSold|UnitPrice|TotalSales|\n",
            "+-----+----+----------+---------+---------+----------+\n",
            "| E103|Ravi|     Sales|       12|     1300|     15600|\n",
            "+-----+----+----------+---------+---------+----------+\n",
            "\n"
          ]
        }
      ]
    },
    {
      "cell_type": "code",
      "source": [
        "df.orderBy(col(\"TotalSales\").desc()).show()\n"
      ],
      "metadata": {
        "colab": {
          "base_uri": "https://localhost:8080/"
        },
        "id": "xH7aGFQMLa26",
        "outputId": "5567752e-9c1f-40e4-b038-e3771935433e"
      },
      "execution_count": 6,
      "outputs": [
        {
          "output_type": "stream",
          "name": "stdout",
          "text": [
            "+-----+------+----------+---------+---------+----------+\n",
            "|EmpID|  Name|Department|UnitsSold|UnitPrice|TotalSales|\n",
            "+-----+------+----------+---------+---------+----------+\n",
            "| E103|  Ravi|     Sales|       12|     1300|     15600|\n",
            "| E101|  Anit|     Sales|       10|     1200|     12000|\n",
            "| E162| Sneha| Marketing|        8|     1500|     12000|\n",
            "| E104|Anjali|        HR|        7|     1100|      7700|\n",
            "| E105|   Raj|     Sales|        5|     1000|      5000|\n",
            "+-----+------+----------+---------+---------+----------+\n",
            "\n"
          ]
        }
      ]
    }
  ]
}