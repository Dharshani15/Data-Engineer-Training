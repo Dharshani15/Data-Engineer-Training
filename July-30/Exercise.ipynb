{
  "nbformat": 4,
  "nbformat_minor": 0,
  "metadata": {
    "colab": {
      "provenance": []
    },
    "kernelspec": {
      "name": "python3",
      "display_name": "Python 3"
    },
    "language_info": {
      "name": "python"
    }
  },
  "cells": [
    {
      "cell_type": "markdown",
      "source": [
        "1. Create a CSV of Sales Data"
      ],
      "metadata": {
        "id": "AAaK7ME-h30L"
      }
    },
    {
      "cell_type": "code",
      "execution_count": null,
      "metadata": {
        "id": "F8VRfrMSguBX"
      },
      "outputs": [],
      "source": [
        "import pandas as pd\n",
        "from google.colab import files\n",
        "df = pd.read_csv(\"sales_data.csv\")\n",
        "print(df)"
      ]
    },
    {
      "cell_type": "markdown",
      "source": [
        "2. Total Sales Per Store\n"
      ],
      "metadata": {
        "id": "LKGAIEe0iAIG"
      }
    },
    {
      "cell_type": "code",
      "source": [
        "store_totals = df.groupby('Store')['Sales'].sum()\n",
        "print(\"Total sales per store:\")\n",
        "print(store_totals)\n",
        "top_store = store_totals.idxmax()\n",
        "top_sales = store_totals.max()\n",
        "print(f\"\\nStore with higher total sales: {top_store} (₹{top_sales})\")"
      ],
      "metadata": {
        "id": "rCmCJucQiLxD"
      },
      "execution_count": null,
      "outputs": []
    },
    {
      "cell_type": "markdown",
      "source": [
        "3. Monthly Sales Trend"
      ],
      "metadata": {
        "id": "-9v4unpFi2gK"
      }
    },
    {
      "cell_type": "code",
      "source": [
        "monthly_sales = df.groupby('Month')['Sales'].sum()\n",
        "print(\"Monthly Sales Trend:\")\n",
        "print(monthly_sales)"
      ],
      "metadata": {
        "id": "1YHxiblIi6EZ"
      },
      "execution_count": null,
      "outputs": []
    },
    {
      "cell_type": "markdown",
      "source": [
        "4. Chart: Monthly Sales by Store\n"
      ],
      "metadata": {
        "id": "DQfbb_4YjMlR"
      }
    },
    {
      "cell_type": "code",
      "source": [
        "import matplotlib.pyplot as plt\n",
        "pivot_df = df.pivot(index='Month', columns='Store', values='Sales').reset_index()\n",
        "pivot_df.plot(x='Month', y=['Store A', 'Store B'], marker='o')\n",
        "plt.title(\"Monthly Sales by Store\")\n",
        "plt.xlabel(\"Month\")\n",
        "plt.ylabel(\"Sales\")\n",
        "plt.grid(True)\n",
        "plt.tight_layout()\n",
        "plt.show()"
      ],
      "metadata": {
        "id": "0mZk0cuIjQnO"
      },
      "execution_count": null,
      "outputs": []
    },
    {
      "cell_type": "markdown",
      "source": [
        "5. Bonus :\n",
        "\n",
        "   Create a bar chart showing total sales per store.\n",
        "\n",
        "   Add data labels on top of each bar.\n",
        "   \n",
        "   Save this chart as an image ( sales_chart.png )."
      ],
      "metadata": {
        "id": "dd9-NvFOkm6D"
      }
    },
    {
      "cell_type": "code",
      "source": [
        "plt.bar(totals.index, totals.values, color='skyblue')\n",
        "plt.title(\"Total Sales per Store\")\n",
        "plt.xlabel(\"Store\")\n",
        "plt.ylabel(\"Sales\")\n",
        "plt.savefig(\"sales_chart.png\")\n",
        "plt.show()\n"
      ],
      "metadata": {
        "id": "GTKK3fjkk5N3"
      },
      "execution_count": null,
      "outputs": []
    }
  ]
}