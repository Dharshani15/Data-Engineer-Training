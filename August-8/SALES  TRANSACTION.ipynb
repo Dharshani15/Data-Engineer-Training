{
 "cells": [
  {
   "cell_type": "code",
   "execution_count": 0,
   "metadata": {
    "application/vnd.databricks.v1+cell": {
     "cellMetadata": {
      "byteLimit": 2048000,
      "rowLimit": 10000
     },
     "inputWidgets": {},
     "nuid": "8135ad77-b76f-4286-838c-36fb709415c5",
     "showTitle": false,
     "tableResultSettingsMap": {},
     "title": ""
    }
   },
   "outputs": [
    {
     "output_type": "stream",
     "name": "stdout",
     "output_type": "stream",
     "text": [
      "Wrote 603 bytes.\n"
     ]
    },
    {
     "output_type": "execute_result",
     "data": {
      "text/plain": [
       "True"
      ]
     },
     "execution_count": 2,
     "metadata": {},
     "output_type": "execute_result"
    }
   ],
   "source": [
    "csv_data = \"\"\"transaction_id,customer_name,region,product,category,quantity,unit_price,date\n",
    "1,Rajesh,North,Laptop,Electronics,1,55000,2024-01-12\n",
    "2,Sneha,West,Refrigerator,Electronics,1,32000,2024-02-05\n",
    "3,Anil,South,Shampoo,Personal Care,5,150,2024-01-17\n",
    "4,Divya,North,Mobile,Electronics,2,20000,2024-03-22\n",
    "5,Vikram,East,Washing Machine,Electronics,1,28000,2024-02-28\n",
    "6,Preeti,West,Sneakers,Fashion,2,4000,2024-01-31\n",
    "7,Aman,South,TV,Electronics,1,45000,2024-02-15\n",
    "8,Isha,North,Notebook,Stationery,10,60,2024-01-10\n",
    "9,Kunal,East,Pencil,Stationery,20,10,2024-03-05\n",
    "10,Tanvi,West,Face Cream,Personal Care,3,200,2024-03-19\n",
    "\"\"\"\n",
    "\n",
    "dbutils.fs.put(\"dbfs:/tmp/sales_transactions.csv\", csv_data, overwrite=True)\n"
   ]
  },
  {
   "cell_type": "code",
   "execution_count": 0,
   "metadata": {
    "application/vnd.databricks.v1+cell": {
     "cellMetadata": {
      "byteLimit": 2048000,
      "rowLimit": 10000
     },
     "inputWidgets": {},
     "nuid": "cd70d1c3-156b-4c3d-b1a1-789628a36628",
     "showTitle": false,
     "tableResultSettingsMap": {},
     "title": ""
    }
   },
   "outputs": [
    {
     "output_type": "stream",
     "name": "stdout",
     "output_type": "stream",
     "text": [
      "+--------------+-------------+------+---------------+-------------+--------+----------+----------+\n|transaction_id|customer_name|region|        product|     category|quantity|unit_price|      date|\n+--------------+-------------+------+---------------+-------------+--------+----------+----------+\n|             1|       Rajesh| North|         Laptop|  Electronics|       1|     55000|2024-01-12|\n|             2|        Sneha|  West|   Refrigerator|  Electronics|       1|     32000|2024-02-05|\n|             3|         Anil| South|        Shampoo|Personal Care|       5|       150|2024-01-17|\n|             4|        Divya| North|         Mobile|  Electronics|       2|     20000|2024-03-22|\n|             5|       Vikram|  East|Washing Machine|  Electronics|       1|     28000|2024-02-28|\n|             6|       Preeti|  West|       Sneakers|      Fashion|       2|      4000|2024-01-31|\n|             7|         Aman| South|             TV|  Electronics|       1|     45000|2024-02-15|\n|             8|         Isha| North|       Notebook|   Stationery|      10|        60|2024-01-10|\n|             9|        Kunal|  East|         Pencil|   Stationery|      20|        10|2024-03-05|\n|            10|        Tanvi|  West|     Face Cream|Personal Care|       3|       200|2024-03-19|\n+--------------+-------------+------+---------------+-------------+--------+----------+----------+\n\nroot\n |-- transaction_id: integer (nullable = true)\n |-- customer_name: string (nullable = true)\n |-- region: string (nullable = true)\n |-- product: string (nullable = true)\n |-- category: string (nullable = true)\n |-- quantity: integer (nullable = true)\n |-- unit_price: integer (nullable = true)\n |-- date: date (nullable = true)\n\n"
     ]
    }
   ],
   "source": [
    "df = (spark.read\n",
    "      .option(\"header\", True)\n",
    "      .option(\"inferSchema\", True)\n",
    "      .csv(\"dbfs:/tmp/sales_transactions.csv\"))\n",
    "\n",
    "df.show()\n",
    "df.printSchema()\n"
   ]
  },
  {
   "cell_type": "code",
   "execution_count": 0,
   "metadata": {
    "application/vnd.databricks.v1+cell": {
     "cellMetadata": {
      "byteLimit": 2048000,
      "rowLimit": 10000
     },
     "inputWidgets": {},
     "nuid": "bf4140bd-859a-4417-a5d2-f1ca2a4d6510",
     "showTitle": false,
     "tableResultSettingsMap": {},
     "title": ""
    }
   },
   "outputs": [],
   "source": [
    "\n",
    "df.write.mode(\"overwrite\").parquet(\"/tmp/sales_transactions_parquet\")\n",
    "\n",
    "df.write.format(\"delta\").mode(\"overwrite\").save(\"/tmp/sales_transactions_delta\")\n"
   ]
  },
  {
   "cell_type": "code",
   "execution_count": 0,
   "metadata": {
    "application/vnd.databricks.v1+cell": {
     "cellMetadata": {
      "byteLimit": 2048000,
      "rowLimit": 10000
     },
     "inputWidgets": {},
     "nuid": "3673995c-cafb-40dc-b1cb-4c2547a1830b",
     "showTitle": false,
     "tableResultSettingsMap": {},
     "title": ""
    }
   },
   "outputs": [
    {
     "output_type": "execute_result",
     "data": {
      "text/plain": [
       "DataFrame[num_affected_rows: bigint, num_inserted_rows: bigint]"
      ]
     },
     "execution_count": 11,
     "metadata": {},
     "output_type": "execute_result"
    }
   ],
   "source": [
    "\n",
    "spark.sql(\"DROP TABLE IF EXISTS sales_transactions\")\n",
    "spark.sql(\"\"\"CREATE TABLE sales_transactions\n",
    "USING DELTA\n",
    "AS\n",
    "SELECT * FROM parquet.`/tmp/sales_transactions_parquet`\n",
    "\"\"\")\n",
    "\n"
   ]
  },
  {
   "cell_type": "code",
   "execution_count": 0,
   "metadata": {
    "application/vnd.databricks.v1+cell": {
     "cellMetadata": {
      "byteLimit": 2048000,
      "rowLimit": 10000
     },
     "inputWidgets": {},
     "nuid": "b6786bd3-8d2d-4f35-aa92-05a5ca8f896b",
     "showTitle": false,
     "tableResultSettingsMap": {},
     "title": ""
    }
   },
   "outputs": [
    {
     "output_type": "stream",
     "name": "stdout",
     "output_type": "stream",
     "text": [
      "+--------------+-------------+------+---------------+-------------+--------+----------+----------+------------+-----+--------------+-------------+\n|transaction_id|customer_name|region|product        |category     |quantity|unit_price|date      |total_amount|month|formatted_date|is_high_value|\n+--------------+-------------+------+---------------+-------------+--------+----------+----------+------------+-----+--------------+-------------+\n|1             |Rajesh       |North |Laptop         |Electronics  |1       |55000     |2024-01-12|55000       |1    |12-Jan-2024   |true         |\n|2             |Sneha        |West  |Refrigerator   |Electronics  |1       |32000     |2024-02-05|32000       |2    |05-Feb-2024   |true         |\n|3             |Anil         |South |Shampoo        |Personal Care|5       |150       |2024-01-17|750         |1    |17-Jan-2024   |false        |\n|4             |Divya        |North |Mobile         |Electronics  |2       |20000     |2024-03-22|40000       |3    |22-Mar-2024   |true         |\n|5             |Vikram       |East  |Washing Machine|Electronics  |1       |28000     |2024-02-28|28000       |2    |28-Feb-2024   |false        |\n|6             |Preeti       |West  |Sneakers       |Fashion      |2       |4000      |2024-01-31|8000        |1    |31-Jan-2024   |false        |\n|7             |Aman         |South |TV             |Electronics  |1       |45000     |2024-02-15|45000       |2    |15-Feb-2024   |true         |\n|8             |Isha         |North |Notebook       |Stationery   |10      |60        |2024-01-10|600         |1    |10-Jan-2024   |false        |\n|9             |Kunal        |East  |Pencil         |Stationery   |20      |10        |2024-03-05|200         |3    |05-Mar-2024   |false        |\n|10            |Tanvi        |West  |Face Cream     |Personal Care|3       |200       |2024-03-19|600         |3    |19-Mar-2024   |false        |\n+--------------+-------------+------+---------------+-------------+--------+----------+----------+------------+-----+--------------+-------------+\n\n"
     ]
    }
   ],
   "source": [
    "from pyspark.sql.functions import expr, month, date_format, when,col\n",
    "df_transformed = df.withColumn(\"total_amount\", col(\"quantity\") * col(\"unit_price\")) \\\n",
    "    .withColumn(\"month\", month(col(\"date\"))) \\\n",
    "    .withColumn(\"formatted_date\", date_format(col(\"date\"), \"dd-MMM-yyyy\")) \\\n",
    "    .withColumn(\"is_high_value\", when(col(\"total_amount\") > 30000, True).otherwise(False))\n",
    "\n",
    "df_transformed.show(truncate=False)\n"
   ]
  },
  {
   "cell_type": "code",
   "execution_count": 0,
   "metadata": {
    "application/vnd.databricks.v1+cell": {
     "cellMetadata": {
      "byteLimit": 2048000,
      "rowLimit": 10000
     },
     "inputWidgets": {},
     "nuid": "7c61c8bc-3d29-41bd-b705-6172f0763583",
     "showTitle": false,
     "tableResultSettingsMap": {},
     "title": ""
    }
   },
   "outputs": [
    {
     "output_type": "stream",
     "name": "stdout",
     "output_type": "stream",
     "text": [
      "+------+-----+\n|region|count|\n+------+-----+\n| South|    2|\n|  East|    2|\n|  West|    3|\n| North|    3|\n+------+-----+\n\n"
     ]
    }
   ],
   "source": [
    "df_transformed.groupBy(\"region\").count().show()\n",
    "\n"
   ]
  },
  {
   "cell_type": "code",
   "execution_count": 0,
   "metadata": {
    "application/vnd.databricks.v1+cell": {
     "cellMetadata": {
      "byteLimit": 2048000,
      "rowLimit": 10000
     },
     "inputWidgets": {},
     "nuid": "56ac8d54-3c7d-45db-aea1-cda259c3cc34",
     "showTitle": false,
     "tableResultSettingsMap": {},
     "title": ""
    }
   },
   "outputs": [
    {
     "output_type": "stream",
     "name": "stdout",
     "output_type": "stream",
     "text": [
      "+-------------+------------------+\n|     category|total_sales_amount|\n+-------------+------------------+\n|  Electronics|            200000|\n|      Fashion|              8000|\n|Personal Care|              1350|\n+-------------+------------------+\n\n"
     ]
    }
   ],
   "source": [
    " df_transformed.groupBy(\"category\") \\\n",
    "    .sum(\"total_amount\") \\\n",
    "    .withColumnRenamed(\"sum(total_amount)\", \"total_sales_amount\") \\\n",
    "    .orderBy(col(\"total_sales_amount\").desc()) \\\n",
    "    .limit(3).show()\n",
    "\n",
    "\n"
   ]
  },
  {
   "cell_type": "code",
   "execution_count": 0,
   "metadata": {
    "application/vnd.databricks.v1+cell": {
     "cellMetadata": {
      "byteLimit": 2048000,
      "rowLimit": 10000
     },
     "inputWidgets": {},
     "nuid": "94f77ac9-7b3d-4a49-bc84-33971a733088",
     "showTitle": false,
     "tableResultSettingsMap": {},
     "title": ""
    }
   },
   "outputs": [
    {
     "output_type": "stream",
     "name": "stdout",
     "output_type": "stream",
     "text": [
      "+-----+---------------+\n|month|monthly_revenue|\n+-----+---------------+\n|    1|          64350|\n|    2|         105000|\n|    3|          40800|\n+-----+---------------+\n\n"
     ]
    }
   ],
   "source": [
    "df_transformed.groupBy(\"month\") \\\n",
    "    .sum(\"total_amount\") \\\n",
    "    .withColumnRenamed(\"sum(total_amount)\", \"monthly_revenue\") \\\n",
    "    .orderBy(\"month\").show()\n",
    "\n",
    "\n"
   ]
  },
  {
   "cell_type": "code",
   "execution_count": 0,
   "metadata": {
    "application/vnd.databricks.v1+cell": {
     "cellMetadata": {
      "byteLimit": 2048000,
      "rowLimit": 10000
     },
     "inputWidgets": {},
     "nuid": "f3dcc4b2-8f59-4c1f-b94f-702f8c300352",
     "showTitle": false,
     "tableResultSettingsMap": {},
     "title": ""
    }
   },
   "outputs": [
    {
     "output_type": "stream",
     "name": "stdout",
     "output_type": "stream",
     "text": [
      "+--------------+-------------+------+-------+-----------+--------+----------+----------+------------+-----+--------------+-------------+\n|transaction_id|customer_name|region|product|   category|quantity|unit_price|      date|total_amount|month|formatted_date|is_high_value|\n+--------------+-------------+------+-------+-----------+--------+----------+----------+------------+-----+--------------+-------------+\n|             1|       Rajesh| North| Laptop|Electronics|       1|     55000|2024-01-12|       55000|    1|   12-Jan-2024|         true|\n+--------------+-------------+------+-------+-----------+--------+----------+----------+------------+-----+--------------+-------------+\n\n"
     ]
    }
   ],
   "source": [
    "max_amount = df_transformed.agg({\"total_amount\": \"max\"}).collect()[0][0]\n",
    "\n",
    "df_transformed.filter(col(\"total_amount\") == max_amount).show()\n",
    "\n"
   ]
  },
  {
   "cell_type": "code",
   "execution_count": 0,
   "metadata": {
    "application/vnd.databricks.v1+cell": {
     "cellMetadata": {
      "byteLimit": 2048000,
      "rowLimit": 10000
     },
     "inputWidgets": {},
     "nuid": "eba8bf2a-4f3e-4904-a625-e30ca7884d72",
     "showTitle": false,
     "tableResultSettingsMap": {},
     "title": ""
    }
   },
   "outputs": [
    {
     "output_type": "stream",
     "name": "stdout",
     "output_type": "stream",
     "text": [
      "+--------------+\n|Q1_total_sales|\n+--------------+\n|        210150|\n+--------------+\n\n"
     ]
    }
   ],
   "source": [
    "total_q1_sales = df_transformed.filter(col(\"month\").between(1,3)) \\\n",
    "    .agg(expr(\"sum(total_amount)\").alias(\"Q1_total_sales\"))\n",
    "\n",
    "total_q1_sales.show()\n"
   ]
  },
  {
   "cell_type": "code",
   "execution_count": 0,
   "metadata": {
    "application/vnd.databricks.v1+cell": {
     "cellMetadata": {
      "byteLimit": 2048000,
      "rowLimit": 10000
     },
     "inputWidgets": {},
     "nuid": "5384a895-3ed5-492d-b272-fdc4bf22272f",
     "showTitle": false,
     "tableResultSettingsMap": {},
     "title": ""
    }
   },
   "outputs": [
    {
     "output_type": "execute_result",
     "data": {
      "text/plain": [
       "DataFrame[num_affected_rows: bigint]"
      ]
     },
     "execution_count": 21,
     "metadata": {},
     "output_type": "execute_result"
    }
   ],
   "source": [
    "from delta.tables import DeltaTable\n",
    "delta_table = DeltaTable.forPath(spark, \"/tmp/sales_transactions_delta\")\n",
    "delta_table.update(\n",
    "    condition = col(\"category\") == \"Stationery\",\n",
    "    set = { \"unit_price\": expr(\"unit_price * 1.10\") }\n",
    ")\n"
   ]
  },
  {
   "cell_type": "code",
   "execution_count": 0,
   "metadata": {
    "application/vnd.databricks.v1+cell": {
     "cellMetadata": {
      "byteLimit": 2048000,
      "rowLimit": 10000
     },
     "inputWidgets": {},
     "nuid": "60331aa2-b04d-43da-bc6e-e1463b7793e2",
     "showTitle": false,
     "tableResultSettingsMap": {},
     "title": ""
    }
   },
   "outputs": [
    {
     "output_type": "execute_result",
     "data": {
      "text/plain": [
       "DataFrame[num_affected_rows: bigint]"
      ]
     },
     "execution_count": 22,
     "metadata": {},
     "output_type": "execute_result"
    }
   ],
   "source": [
    "delta_table.delete(condition = col(\"quantity\") < 3)\n"
   ]
  },
  {
   "cell_type": "code",
   "execution_count": 0,
   "metadata": {
    "application/vnd.databricks.v1+cell": {
     "cellMetadata": {
      "byteLimit": 2048000,
      "rowLimit": 10000
     },
     "inputWidgets": {},
     "nuid": "ebffdd21-4177-47d7-9f5f-e74b235245cb",
     "showTitle": false,
     "tableResultSettingsMap": {},
     "title": ""
    }
   },
   "outputs": [
    {
     "output_type": "stream",
     "name": "stdout",
     "output_type": "stream",
     "text": [
      "+--------------+-------------+------+----------+-------------+--------+----------+----------+\n|transaction_id|customer_name|region|product   |category     |quantity|unit_price|date      |\n+--------------+-------------+------+----------+-------------+--------+----------+----------+\n|3             |Anil         |South |Shampoo   |Personal Care|5       |150       |2024-01-17|\n|8             |Isha         |North |Notebook  |Stationery   |10      |66        |2024-01-10|\n|9             |Kunal        |East  |Pencil    |Stationery   |20      |11        |2024-03-05|\n|10            |Tanvi        |West  |Face Cream|Personal Care|3       |200       |2024-03-19|\n|11            |Rhea         |South |Smartwatch|Electronics  |1       |22000     |2025-08-08|\n+--------------+-------------+------+----------+-------------+--------+----------+----------+\n\n"
     ]
    }
   ],
   "source": [
    "from pyspark.sql.functions import to_date\n",
    "from datetime import date\n",
    "from delta.tables import DeltaTable\n",
    "new_transaction = [(11, \"Rhea\", \"South\", \"Smartwatch\", \"Electronics\", 1, 22000, date.today())]\n",
    "new_df = spark.createDataFrame(new_transaction, schema=df.schema)\n",
    "new_df = new_df.withColumn(\"date\", to_date(\"date\"))\n",
    "new_df.write.format(\"delta\").mode(\"append\").save(\"/tmp/sales_transactions_delta\")\n",
    "updated_df = spark.read.format(\"delta\").load(\"/tmp/sales_transactions_delta\")\n",
    "updated_df.orderBy(\"transaction_id\").show(truncate=False)\n"
   ]
  },
  {
   "cell_type": "code",
   "execution_count": 0,
   "metadata": {
    "application/vnd.databricks.v1+cell": {
     "cellMetadata": {
      "byteLimit": 2048000,
      "rowLimit": 10000
     },
     "inputWidgets": {},
     "nuid": "f7f72bad-491b-4528-a7b1-960f3e4f77db",
     "showTitle": false,
     "tableResultSettingsMap": {},
     "title": ""
    }
   },
   "outputs": [
    {
     "output_type": "display_data",
     "data": {
      "text/html": [
       "<style scoped>\n",
       "  .table-result-container {\n",
       "    max-height: 300px;\n",
       "    overflow: auto;\n",
       "  }\n",
       "  table, th, td {\n",
       "    border: 1px solid black;\n",
       "    border-collapse: collapse;\n",
       "  }\n",
       "  th, td {\n",
       "    padding: 5px;\n",
       "  }\n",
       "  th {\n",
       "    text-align: left;\n",
       "  }\n",
       "</style><div class='table-result-container'><table class='table-result'><thead style='background-color: white'><tr><th>transaction_id</th><th>customer_name</th><th>region</th><th>product</th><th>category</th><th>quantity</th><th>unit_price</th><th>date</th><th>month</th></tr></thead><tbody><tr><td>10</td><td>Tanvi</td><td>West</td><td>Face Cream</td><td>Personal Care</td><td>3</td><td>200</td><td>2024-03-19</td><td>3</td></tr><tr><td>11</td><td>Rhea</td><td>South</td><td>Smartwatch</td><td>Electronics</td><td>1</td><td>22000</td><td>2025-08-08</td><td>8</td></tr><tr><td>3</td><td>Anil</td><td>South</td><td>Shampoo</td><td>Personal Care</td><td>5</td><td>150</td><td>2024-01-17</td><td>1</td></tr><tr><td>8</td><td>Isha</td><td>North</td><td>Notebook</td><td>Stationery</td><td>10</td><td>66</td><td>2024-01-10</td><td>1</td></tr><tr><td>9</td><td>Kunal</td><td>East</td><td>Pencil</td><td>Stationery</td><td>20</td><td>11</td><td>2024-03-05</td><td>3</td></tr></tbody></table></div>"
      ]
     },
     "metadata": {
      "application/vnd.databricks.v1+output": {
       "addedWidgets": {},
       "aggData": [],
       "aggError": "",
       "aggOverflow": false,
       "aggSchema": [],
       "aggSeriesLimitReached": false,
       "aggType": "",
       "arguments": {},
       "columnCustomDisplayInfos": {},
       "data": [
        [
         10,
         "Tanvi",
         "West",
         "Face Cream",
         "Personal Care",
         3,
         200,
         "2024-03-19",
         3
        ],
        [
         11,
         "Rhea",
         "South",
         "Smartwatch",
         "Electronics",
         1,
         22000,
         "2025-08-08",
         8
        ],
        [
         3,
         "Anil",
         "South",
         "Shampoo",
         "Personal Care",
         5,
         150,
         "2024-01-17",
         1
        ],
        [
         8,
         "Isha",
         "North",
         "Notebook",
         "Stationery",
         10,
         66,
         "2024-01-10",
         1
        ],
        [
         9,
         "Kunal",
         "East",
         "Pencil",
         "Stationery",
         20,
         11,
         "2024-03-05",
         3
        ]
       ],
       "datasetInfos": [],
       "dbfsResultPath": null,
       "isJsonSchema": true,
       "metadata": {},
       "overflow": false,
       "plotOptions": {
        "customPlotOptions": {},
        "displayType": "table",
        "pivotAggregation": null,
        "pivotColumns": null,
        "xColumns": null,
        "yColumns": null
       },
       "removedWidgets": [],
       "schema": [
        {
         "metadata": "{}",
         "name": "transaction_id",
         "type": "\"integer\""
        },
        {
         "metadata": "{}",
         "name": "customer_name",
         "type": "\"string\""
        },
        {
         "metadata": "{}",
         "name": "region",
         "type": "\"string\""
        },
        {
         "metadata": "{}",
         "name": "product",
         "type": "\"string\""
        },
        {
         "metadata": "{}",
         "name": "category",
         "type": "\"string\""
        },
        {
         "metadata": "{}",
         "name": "quantity",
         "type": "\"integer\""
        },
        {
         "metadata": "{}",
         "name": "unit_price",
         "type": "\"integer\""
        },
        {
         "metadata": "{\"__detected_date_formats\":\"yyyy-M-d\"}",
         "name": "date",
         "type": "\"date\""
        },
        {
         "metadata": "{}",
         "name": "month",
         "type": "\"integer\""
        }
       ],
       "type": "table"
      }
     },
     "output_type": "display_data"
    }
   ],
   "source": [
    "from pyspark.sql.functions import month, col\n",
    "delta_path = \"/tmp/sales_transactions_delta\"\n",
    "delta_partitioned_region = \"/tmp/delta_sales_partitioned_region\"\n",
    "delta_partitioned_month = \"/tmp/delta_sales_partitioned_month\"\n",
    "df = spark.read.format(\"delta\").load(delta_path).withColumn(\"month\", month(col(\"date\")))\n",
    "\n",
    "df.write.format(\"delta\") \\\n",
    "    .mode(\"overwrite\") \\\n",
    "    .partitionBy(\"region\") \\\n",
    "    .save(delta_partitioned_region)\n",
    "display(spark.read.format(\"delta\").load(delta_partitioned_region))"
   ]
  },
  {
   "cell_type": "code",
   "execution_count": 0,
   "metadata": {
    "application/vnd.databricks.v1+cell": {
     "cellMetadata": {
      "byteLimit": 2048000,
      "rowLimit": 10000
     },
     "inputWidgets": {},
     "nuid": "8b483f44-c999-4fdb-97a0-98e55f613ae0",
     "showTitle": false,
     "tableResultSettingsMap": {},
     "title": ""
    }
   },
   "outputs": [
    {
     "output_type": "display_data",
     "data": {
      "text/html": [
       "<style scoped>\n",
       "  .table-result-container {\n",
       "    max-height: 300px;\n",
       "    overflow: auto;\n",
       "  }\n",
       "  table, th, td {\n",
       "    border: 1px solid black;\n",
       "    border-collapse: collapse;\n",
       "  }\n",
       "  th, td {\n",
       "    padding: 5px;\n",
       "  }\n",
       "  th {\n",
       "    text-align: left;\n",
       "  }\n",
       "</style><div class='table-result-container'><table class='table-result'><thead style='background-color: white'><tr><th>transaction_id</th><th>customer_name</th><th>region</th><th>product</th><th>category</th><th>quantity</th><th>unit_price</th><th>date</th><th>month</th></tr></thead><tbody><tr><td>10</td><td>Tanvi</td><td>West</td><td>Face Cream</td><td>Personal Care</td><td>3</td><td>200</td><td>2024-03-19</td><td>3</td></tr><tr><td>9</td><td>Kunal</td><td>East</td><td>Pencil</td><td>Stationery</td><td>20</td><td>11</td><td>2024-03-05</td><td>3</td></tr><tr><td>8</td><td>Isha</td><td>North</td><td>Notebook</td><td>Stationery</td><td>10</td><td>66</td><td>2024-01-10</td><td>1</td></tr><tr><td>3</td><td>Anil</td><td>South</td><td>Shampoo</td><td>Personal Care</td><td>5</td><td>150</td><td>2024-01-17</td><td>1</td></tr><tr><td>11</td><td>Rhea</td><td>South</td><td>Smartwatch</td><td>Electronics</td><td>1</td><td>22000</td><td>2025-08-08</td><td>8</td></tr></tbody></table></div>"
      ]
     },
     "metadata": {
      "application/vnd.databricks.v1+output": {
       "addedWidgets": {},
       "aggData": [],
       "aggError": "",
       "aggOverflow": false,
       "aggSchema": [],
       "aggSeriesLimitReached": false,
       "aggType": "",
       "arguments": {},
       "columnCustomDisplayInfos": {},
       "data": [
        [
         10,
         "Tanvi",
         "West",
         "Face Cream",
         "Personal Care",
         3,
         200,
         "2024-03-19",
         3
        ],
        [
         9,
         "Kunal",
         "East",
         "Pencil",
         "Stationery",
         20,
         11,
         "2024-03-05",
         3
        ],
        [
         8,
         "Isha",
         "North",
         "Notebook",
         "Stationery",
         10,
         66,
         "2024-01-10",
         1
        ],
        [
         3,
         "Anil",
         "South",
         "Shampoo",
         "Personal Care",
         5,
         150,
         "2024-01-17",
         1
        ],
        [
         11,
         "Rhea",
         "South",
         "Smartwatch",
         "Electronics",
         1,
         22000,
         "2025-08-08",
         8
        ]
       ],
       "datasetInfos": [],
       "dbfsResultPath": null,
       "isJsonSchema": true,
       "metadata": {},
       "overflow": false,
       "plotOptions": {
        "customPlotOptions": {},
        "displayType": "table",
        "pivotAggregation": null,
        "pivotColumns": null,
        "xColumns": null,
        "yColumns": null
       },
       "removedWidgets": [],
       "schema": [
        {
         "metadata": "{}",
         "name": "transaction_id",
         "type": "\"integer\""
        },
        {
         "metadata": "{}",
         "name": "customer_name",
         "type": "\"string\""
        },
        {
         "metadata": "{}",
         "name": "region",
         "type": "\"string\""
        },
        {
         "metadata": "{}",
         "name": "product",
         "type": "\"string\""
        },
        {
         "metadata": "{}",
         "name": "category",
         "type": "\"string\""
        },
        {
         "metadata": "{}",
         "name": "quantity",
         "type": "\"integer\""
        },
        {
         "metadata": "{}",
         "name": "unit_price",
         "type": "\"integer\""
        },
        {
         "metadata": "{\"__detected_date_formats\":\"yyyy-M-d\"}",
         "name": "date",
         "type": "\"date\""
        },
        {
         "metadata": "{}",
         "name": "month",
         "type": "\"integer\""
        }
       ],
       "type": "table"
      }
     },
     "output_type": "display_data"
    }
   ],
   "source": [
    "df.write.format(\"delta\") \\\n",
    "    .mode(\"overwrite\") \\\n",
    "    .partitionBy(\"month\") \\\n",
    "    .save(delta_partitioned_month)\n",
    "display(spark.read.format(\"delta\").load(delta_partitioned_month))"
   ]
  },
  {
   "cell_type": "code",
   "execution_count": 0,
   "metadata": {
    "application/vnd.databricks.v1+cell": {
     "cellMetadata": {
      "byteLimit": 2048000,
      "rowLimit": 10000
     },
     "inputWidgets": {},
     "nuid": "cd7f95de-57d4-41c0-9889-a769dbdadec6",
     "showTitle": false,
     "tableResultSettingsMap": {},
     "title": ""
    }
   },
   "outputs": [
    {
     "output_type": "execute_result",
     "data": {
      "text/plain": [
       "DataFrame[path: string, metrics: struct<numFilesAdded:bigint,numFilesRemoved:bigint,filesAdded:struct<min:bigint,max:bigint,avg:double,totalFiles:bigint,totalSize:bigint>,filesRemoved:struct<min:bigint,max:bigint,avg:double,totalFiles:bigint,totalSize:bigint>,partitionsOptimized:bigint,zOrderStats:struct<strategyName:string,inputCubeFiles:struct<num:bigint,size:bigint>,inputOtherFiles:struct<num:bigint,size:bigint>,inputNumCubes:bigint,mergedFiles:struct<num:bigint,size:bigint>,numOutputCubes:bigint,mergedNumCubes:bigint>,clusteringStats:struct<inputZCubeFiles:struct<numFiles:bigint,size:bigint>,inputOtherFiles:struct<numFiles:bigint,size:bigint>,inputNumZCubes:bigint,mergedFiles:struct<numFiles:bigint,size:bigint>,numOutputZCubes:bigint>,numBins:bigint,numBatches:bigint,totalConsideredFiles:bigint,totalFilesSkipped:bigint,preserveInsertionOrder:boolean,numFilesSkippedToReduceWriteAmplification:bigint,numBytesSkippedToReduceWriteAmplification:bigint,startTimeMs:bigint,endTimeMs:bigint,totalClusterParallelism:bigint,totalScheduledTasks:bigint,autoCompactParallelismStats:struct<maxClusterActiveParallelism:bigint,minClusterActiveParallelism:bigint,maxSessionActiveParallelism:bigint,minSessionActiveParallelism:bigint>,deletionVectorStats:struct<numDeletionVectorsRemoved:bigint,numDeletionVectorRowsRemoved:bigint>,recompressionCodec:string,numTableColumns:bigint,numTableColumnsWithStats:bigint,totalTaskExecutionTimeMs:bigint,skippedArchivedFiles:bigint,clusteringMetrics:struct<sizeOfTableInBytesBeforeLazyClustering:bigint,isNewMetadataCreated:boolean,isPOTriggered:boolean,isFull:boolean,approxClusteringQuality:double,approxClusteringQualityPerColumn:array<double>,approxClusteringCoverage:double,numFilesSkippedWithoutStats:bigint,numFilesClassifiedToIntermediateNodes:bigint,sizeOfFilesClassifiedToIntermediateNodesInBytes:bigint,logicalSizeOfFilesClassifiedToIntermediateNodesInBytes:bigint,numFilesClassifiedToLeafNodes:bigint,sizeOfFilesClassifiedToLeafNodesInBytes:bigint,logicalSizeOfFilesClassifiedToLeafNodesInBytes:bigint,numThreadsForClassifier:int,clusterThresholdStrategy:string,minFileSize:bigint,maxFileSize:bigint,nodeMinNumFilesToCompact:bigint,numIdealFiles:bigint,numIdealFilesWithTrimmedStringMaxValue:bigint,numAddedFilesWithSameMinMaxOnClusteringColumns:array<bigint>,numClusteringTasksPlanned:int,numClusteringTasksNotPlannedDueToPO:int,numCompactionTasksPlanned:int,numCompactionTasksPlannedUndoneDueToPO:int,numOptimizeBatchesPlanned:int,numLeafNodesExpanded:bigint,numLeafNodesClustered:bigint,numGetFilesForNodeCalls:bigint,numSamplingJobs:bigint,numLeafNodesCompacted:bigint,numLeafNodesCompactedUndoneDueToPO:bigint,numIntermediateNodesCompacted:bigint,numIntermediateNodesCompactedUndoneDueToPO:bigint,totalSizeOfDataToCompactInBytes:bigint,totalSizeOfDataToCompactInBytesUndoneDueToPO:bigint,totalLogicalSizeOfDataToCompactInBytes:bigint,totalLogicalSizeOfDataToCompactInBytesUndoneDueToPO:bigint,numIntermediateNodesClustered:bigint,numFilesSkippedAfterExpansion:bigint,totalSizeOfFilesSkippedAfterExpansionInBytes:bigint,totalLogicalSizeOfFilesSkippedAfterExpansionInBytes:bigint,totalSizeOfDataToRewriteInBytes:bigint,totalLogicalSizeOfDataToRewriteInBytes:bigint,timeMetrics:struct<classifierTimeMs:bigint,optimizerTimeMs:bigint,metadataLoadTimeMs:bigint,totalGetFilesForNodeCallsTimeMs:bigint,totalSamplingTimeMs:bigint,metadataCreationTimeMs:bigint>,maxOptimizeBatchesInParallel:bigint,currentIteration:int,maxIterations:int,clusteringStrategy:string>>]"
      ]
     },
     "execution_count": 39,
     "metadata": {},
     "output_type": "execute_result"
    }
   ],
   "source": [
    "spark.sql(f\"OPTIMIZE delta.`{delta_partitioned_region}` ZORDER BY (category)\")"
   ]
  }
 ],
 "metadata": {
  "application/vnd.databricks.v1+notebook": {
   "computePreferences": null,
   "dashboards": [],
   "environmentMetadata": {
    "base_environment": "",
    "environment_version": "2"
   },
   "inputWidgetPreferences": null,
   "language": "python",
   "notebookMetadata": {
    "pythonIndentUnit": 4
   },
   "notebookName": "SALES  TRANSACTION",
   "widgets": {}
  },
  "language_info": {
   "name": "python"
  }
 },
 "nbformat": 4,
 "nbformat_minor": 0
}