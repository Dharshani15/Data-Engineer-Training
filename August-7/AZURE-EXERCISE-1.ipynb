{
 "cells": [
  {
   "cell_type": "code",
   "execution_count": 0,
   "metadata": {
    "application/vnd.databricks.v1+cell": {
     "cellMetadata": {
      "byteLimit": 2048000,
      "rowLimit": 10000
     },
     "inputWidgets": {},
     "nuid": "b841b7f8-0685-4791-ab3b-9e940b735c97",
     "showTitle": false,
     "tableResultSettingsMap": {},
     "title": ""
    }
   },
   "outputs": [
    {
     "output_type": "stream",
     "name": "stdout",
     "output_type": "stream",
     "text": [
      "+----------+------------+-----------+-----+--------+\n|product_id|product_name|   category|price|quantity|\n+----------+------------+-----------+-----+--------+\n|       101|      Laptop|Electronics|55000|      10|\n|       102|  Smartphone|Electronics|30000|      25|\n|       103|       Chair|  Furniture| 2500|      50|\n|       104|        Book| Stationery|  400|     200|\n|       105|  Headphones|Electronics| 1500|     100|\n|       106|       Table|  Furniture| 3200|      40|\n|       107|         Pen| Stationery|   20|     500|\n|       108|     Monitor|Electronics|12000|      15|\n|       109|    Notebook| Stationery|   60|     300|\n|       110|        Sofa|  Furniture|45000|       5|\n+----------+------------+-----------+-----+--------+\n\n"
     ]
    }
   ],
   "source": [
    "data = [\n",
    "    (101, \"Laptop\", \"Electronics\", 55000, 10),\n",
    "    (102, \"Smartphone\", \"Electronics\", 30000, 25),\n",
    "    (103, \"Chair\", \"Furniture\", 2500, 50),\n",
    "    (104, \"Book\", \"Stationery\", 400, 200),\n",
    "    (105, \"Headphones\", \"Electronics\", 1500, 100),\n",
    "    (106, \"Table\", \"Furniture\", 3200, 40),\n",
    "    (107, \"Pen\", \"Stationery\", 20, 500),\n",
    "    (108, \"Monitor\", \"Electronics\", 12000, 15),\n",
    "    (109, \"Notebook\", \"Stationery\", 60, 300),\n",
    "    (110, \"Sofa\", \"Furniture\", 45000, 5)\n",
    "]\n",
    "columns = [\"product_id\", \"product_name\", \"category\", \"price\", \"quantity\"]\n",
    "df = spark.createDataFrame(data, columns)\n",
    "df.show()"
   ]
  },
  {
   "cell_type": "code",
   "execution_count": 0,
   "metadata": {
    "application/vnd.databricks.v1+cell": {
     "cellMetadata": {
      "byteLimit": 2048000,
      "rowLimit": 10000
     },
     "inputWidgets": {},
     "nuid": "02281eb4-2c45-4e55-a87e-248249e35228",
     "showTitle": false,
     "tableResultSettingsMap": {},
     "title": ""
    }
   },
   "outputs": [],
   "source": [
    "df.write.mode(\"overwrite\").option(\"header\", \"true\").csv(\"/tmp/products_csv\")\n",
    "df.write.mode(\"overwrite\").json(\"/tmp/products_json\")"
   ]
  },
  {
   "cell_type": "code",
   "execution_count": 0,
   "metadata": {
    "application/vnd.databricks.v1+cell": {
     "cellMetadata": {
      "byteLimit": 2048000,
      "rowLimit": 10000
     },
     "inputWidgets": {},
     "nuid": "45ecb2e0-9632-429c-be58-8dcf8517b35a",
     "showTitle": false,
     "tableResultSettingsMap": {},
     "title": ""
    }
   },
   "outputs": [
    {
     "output_type": "stream",
     "name": "stdout",
     "output_type": "stream",
     "text": [
      "+----------+------------+-----------+-----+--------+\n|product_id|product_name|   category|price|quantity|\n+----------+------------+-----------+-----+--------+\n|       104|        Book| Stationery|  400|     200|\n|       105|  Headphones|Electronics| 1500|     100|\n|       109|    Notebook| Stationery|   60|     300|\n|       110|        Sofa|  Furniture|45000|       5|\n|       102|  Smartphone|Electronics|30000|      25|\n|       108|     Monitor|Electronics|12000|      15|\n|       101|      Laptop|Electronics|55000|      10|\n|       103|       Chair|  Furniture| 2500|      50|\n|       106|       Table|  Furniture| 3200|      40|\n|       107|         Pen| Stationery|   20|     500|\n+----------+------------+-----------+-----+--------+\n\n+-----------+-----+----------+------------+--------+\n|   category|price|product_id|product_name|quantity|\n+-----------+-----+----------+------------+--------+\n| Stationery|  400|       104|        Book|     200|\n|Electronics| 1500|       105|  Headphones|     100|\n| Stationery|   60|       109|    Notebook|     300|\n|  Furniture|45000|       110|        Sofa|       5|\n|Electronics|30000|       102|  Smartphone|      25|\n|Electronics|12000|       108|     Monitor|      15|\n|Electronics|55000|       101|      Laptop|      10|\n|  Furniture| 2500|       103|       Chair|      50|\n|  Furniture| 3200|       106|       Table|      40|\n| Stationery|   20|       107|         Pen|     500|\n+-----------+-----+----------+------------+--------+\n\n+----------+------------+-----------+-----+--------+\n|product_id|product_name|   category|price|quantity|\n+----------+------------+-----------+-----+--------+\n|       104|        Book| Stationery|  400|     200|\n|       105|  Headphones|Electronics| 1500|     100|\n|       108|     Monitor|Electronics|12000|      15|\n|       101|      Laptop|Electronics|55000|      10|\n|       107|         Pen| Stationery|   20|     500|\n|       109|    Notebook| Stationery|   60|     300|\n|       110|        Sofa|  Furniture|45000|       5|\n|       102|  Smartphone|Electronics|30000|      25|\n|       103|       Chair|  Furniture| 2500|      50|\n|       106|       Table|  Furniture| 3200|      40|\n+----------+------------+-----------+-----+--------+\n\n"
     ]
    }
   ],
   "source": [
    "csv_df = spark.read.option(\"header\", \"true\").csv(\"/tmp/products_csv\")\n",
    "csv_df.show()\n",
    "\n",
    "json_df = spark.read.json(\"/tmp/products_json\")\n",
    "json_df.show()\n",
    "\n",
    "csv_df.write.mode(\"overwrite\").parquet(\"/tmp/products_parquet\")\n",
    "\n",
    "parquet_df = spark.read.parquet(\"/tmp/products_parquet\")\n",
    "parquet_df.show()"
   ]
  },
  {
   "cell_type": "code",
   "execution_count": 0,
   "metadata": {
    "application/vnd.databricks.v1+cell": {
     "cellMetadata": {
      "byteLimit": 2048000,
      "rowLimit": 10000
     },
     "inputWidgets": {},
     "nuid": "a1fce33c-2689-47c4-a279-0cf8119fd142",
     "showTitle": false,
     "tableResultSettingsMap": {},
     "title": ""
    }
   },
   "outputs": [
    {
     "output_type": "stream",
     "name": "stdout",
     "output_type": "stream",
     "text": [
      "+----------+------------+-----------+-----+--------+-------------+\n|product_id|product_name|   category|price|quantity|total_revenue|\n+----------+------------+-----------+-----+--------+-------------+\n|       104|        Book| Stationery|  400|     200|      80000.0|\n|       105|  Headphones|Electronics| 1500|     100|     150000.0|\n|       109|    Notebook| Stationery|   60|     300|      18000.0|\n|       110|        Sofa|  Furniture|45000|       5|     225000.0|\n|       102|  Smartphone|Electronics|30000|      25|     750000.0|\n|       108|     Monitor|Electronics|12000|      15|     180000.0|\n|       101|      Laptop|Electronics|55000|      10|     550000.0|\n|       103|       Chair|  Furniture| 2500|      50|     125000.0|\n|       106|       Table|  Furniture| 3200|      40|     128000.0|\n|       107|         Pen| Stationery|   20|     500|      10000.0|\n+----------+------------+-----------+-----+--------+-------------+\n\n"
     ]
    }
   ],
   "source": [
    "from pyspark.sql.functions import col\n",
    "df_with_revenue = csv_df.withColumn(\"total_revenue\", col(\"price\") * col(\"quantity\"))\n",
    "df_with_revenue.show()\n"
   ]
  },
  {
   "cell_type": "code",
   "execution_count": 0,
   "metadata": {
    "application/vnd.databricks.v1+cell": {
     "cellMetadata": {
      "byteLimit": 2048000,
      "rowLimit": 10000
     },
     "inputWidgets": {},
     "nuid": "57f4a881-f4fb-4a8c-90b8-cfefaf5dfd05",
     "showTitle": false,
     "tableResultSettingsMap": {},
     "title": ""
    }
   },
   "outputs": [
    {
     "output_type": "stream",
     "name": "stdout",
     "output_type": "stream",
     "text": [
      "+----------+------------+-----------+-----+--------+-------------+\n|product_id|product_name|   category|price|quantity|total_revenue|\n+----------+------------+-----------+-----+--------+-------------+\n|       102|  Smartphone|Electronics|30000|      25|     750000.0|\n|       101|      Laptop|Electronics|55000|      10|     550000.0|\n|       110|        Sofa|  Furniture|45000|       5|     225000.0|\n+----------+------------+-----------+-----+--------+-------------+\nonly showing top 3 rows\n"
     ]
    }
   ],
   "source": [
    "df_with_revenue.orderBy(col(\"total_revenue\").desc()).show(3)"
   ]
  },
  {
   "cell_type": "code",
   "execution_count": 0,
   "metadata": {
    "application/vnd.databricks.v1+cell": {
     "cellMetadata": {
      "byteLimit": 2048000,
      "rowLimit": 10000
     },
     "inputWidgets": {},
     "nuid": "d20ce5f0-c328-4b4f-aee4-f2fa28250f1f",
     "showTitle": false,
     "tableResultSettingsMap": {},
     "title": ""
    }
   },
   "outputs": [
    {
     "output_type": "stream",
     "name": "stdout",
     "output_type": "stream",
     "text": [
      "+----------+------------+---------+-----+--------+-------------+\n|product_id|product_name| category|price|quantity|total_revenue|\n+----------+------------+---------+-----+--------+-------------+\n|       110|        Sofa|Furniture|45000|       5|     225000.0|\n|       106|       Table|Furniture| 3200|      40|     128000.0|\n+----------+------------+---------+-----+--------+-------------+\n\n"
     ]
    }
   ],
   "source": [
    "furniture_df = df_with_revenue.filter((col(\"category\") == \"Furniture\") & (col(\"price\") > 3000))\n",
    "furniture_df.show()"
   ]
  },
  {
   "cell_type": "code",
   "execution_count": 0,
   "metadata": {
    "application/vnd.databricks.v1+cell": {
     "cellMetadata": {
      "byteLimit": 2048000,
      "rowLimit": 10000
     },
     "inputWidgets": {},
     "nuid": "684fbf3e-3484-489a-ae14-f55d3d829788",
     "showTitle": false,
     "tableResultSettingsMap": {},
     "title": ""
    }
   },
   "outputs": [
    {
     "output_type": "stream",
     "name": "stdout",
     "output_type": "stream",
     "text": [
      "+----------+------------+-----------+-----+--------+-------------+----------+\n|product_id|product_name|   category|price|quantity|total_revenue|price_band|\n+----------+------------+-----------+-----+--------+-------------+----------+\n|       104|        Book| Stationery|  400|     200|      80000.0|       Low|\n|       105|  Headphones|Electronics| 1500|     100|     150000.0|       Low|\n|       109|    Notebook| Stationery|   60|     300|      18000.0|       Low|\n|       110|        Sofa|  Furniture|45000|       5|     225000.0|      High|\n|       102|  Smartphone|Electronics|30000|      25|     750000.0|      High|\n|       108|     Monitor|Electronics|12000|      15|     180000.0|      High|\n|       101|      Laptop|Electronics|55000|      10|     550000.0|      High|\n|       103|       Chair|  Furniture| 2500|      50|     125000.0|       Low|\n|       106|       Table|  Furniture| 3200|      40|     128000.0|    Medium|\n|       107|         Pen| Stationery|   20|     500|      10000.0|       Low|\n+----------+------------+-----------+-----+--------+-------------+----------+\n\n"
     ]
    }
   ],
   "source": [
    "from pyspark.sql.functions import when\n",
    "df_with_band = df_with_revenue.withColumn(\n",
    "    \"price_band\",when(col(\"price\") > 10000, \"High\")\n",
    "    .when((col(\"price\") > 3000) & (col(\"price\") <= 10000), \"Medium\")\n",
    "    .otherwise(\"Low\")\n",
    ")\n",
    "df_with_band.show()\n"
   ]
  },
  {
   "cell_type": "code",
   "execution_count": 0,
   "metadata": {
    "application/vnd.databricks.v1+cell": {
     "cellMetadata": {
      "byteLimit": 2048000,
      "rowLimit": 10000
     },
     "inputWidgets": {},
     "nuid": "8e31b989-e0ac-42cd-83ff-032c3e81c700",
     "showTitle": false,
     "tableResultSettingsMap": {},
     "title": ""
    }
   },
   "outputs": [
    {
     "output_type": "stream",
     "name": "stdout",
     "output_type": "stream",
     "text": [
      "+-----------+--------------+\n|   category|total_quantity|\n+-----------+--------------+\n| Stationery|        1000.0|\n|  Furniture|          95.0|\n|Electronics|         150.0|\n+-----------+--------------+\n\n"
     ]
    }
   ],
   "source": [
    "df_with_band.withColumn(\"quantity\", col(\"quantity\").cast(\"float\")).groupBy(\"category\").sum(\"quantity\").withColumnRenamed(\"sum(quantity)\", \"total_quantity\").show()"
   ]
  },
  {
   "cell_type": "code",
   "execution_count": 0,
   "metadata": {
    "application/vnd.databricks.v1+cell": {
     "cellMetadata": {
      "byteLimit": 2048000,
      "rowLimit": 10000
     },
     "inputWidgets": {},
     "nuid": "33c69b7c-e580-49c3-aa52-9b90ada9c3c2",
     "showTitle": false,
     "tableResultSettingsMap": {},
     "title": ""
    }
   },
   "outputs": [
    {
     "output_type": "stream",
     "name": "stdout",
     "output_type": "stream",
     "text": [
      "+-----------+-------------+\n|   category|average_price|\n+-----------+-------------+\n| Stationery|        160.0|\n|  Furniture|      16900.0|\n|Electronics|      24625.0|\n+-----------+-------------+\n\n"
     ]
    }
   ],
   "source": [
    "df_with_band.withColumn(\"price\", col(\"price\").cast(\"float\")) \\\n",
    "    .groupBy(\"category\") \\\n",
    "    .avg(\"price\") \\\n",
    "    .withColumnRenamed(\"avg(price)\", \"average_price\") \\\n",
    "    .show()\n"
   ]
  },
  {
   "cell_type": "code",
   "execution_count": 0,
   "metadata": {
    "application/vnd.databricks.v1+cell": {
     "cellMetadata": {
      "byteLimit": 2048000,
      "rowLimit": 10000
     },
     "inputWidgets": {},
     "nuid": "4c9c4fb4-49ab-422e-8b54-ede5f60a0e2c",
     "showTitle": false,
     "tableResultSettingsMap": {},
     "title": ""
    }
   },
   "outputs": [
    {
     "output_type": "stream",
     "name": "stdout",
     "output_type": "stream",
     "text": [
      "+----------+-----+\n|price_band|count|\n+----------+-----+\n|       Low|    5|\n|      High|    4|\n|    Medium|    1|\n+----------+-----+\n\n"
     ]
    }
   ],
   "source": [
    "df_with_band.groupBy(\"price_band\").count().show()"
   ]
  },
  {
   "cell_type": "code",
   "execution_count": 0,
   "metadata": {
    "application/vnd.databricks.v1+cell": {
     "cellMetadata": {
      "byteLimit": 2048000,
      "rowLimit": 10000
     },
     "inputWidgets": {},
     "nuid": "a6ae6630-5c5a-4456-8041-ea5e0a481672",
     "showTitle": false,
     "tableResultSettingsMap": {},
     "title": ""
    }
   },
   "outputs": [],
   "source": [
    "electronics_df = df_with_band.filter((col(\"category\") == \"Electronics\") & (col(\"price\") > 5000))\n",
    "electronics_df.write.mode(\"overwrite\").parquet(\"/tmp/electronics_filtered_parquet\")\n"
   ]
  },
  {
   "cell_type": "code",
   "execution_count": 0,
   "metadata": {
    "application/vnd.databricks.v1+cell": {
     "cellMetadata": {
      "byteLimit": 2048000,
      "rowLimit": 10000
     },
     "inputWidgets": {},
     "nuid": "53dfe32f-6831-4179-b0a4-f2cfdad97dba",
     "showTitle": false,
     "tableResultSettingsMap": {},
     "title": ""
    }
   },
   "outputs": [],
   "source": [
    "stationery_df = df_with_band.filter(col(\"category\") == \"Stationery\")\n",
    "stationery_df.write.mode(\"overwrite\").json(\"/tmp/stationery_json\")"
   ]
  },
  {
   "cell_type": "code",
   "execution_count": 0,
   "metadata": {
    "application/vnd.databricks.v1+cell": {
     "cellMetadata": {
      "byteLimit": 2048000,
      "rowLimit": 10000
     },
     "inputWidgets": {},
     "nuid": "646c1788-a171-4ce6-97ec-be051c045a1e",
     "showTitle": false,
     "tableResultSettingsMap": {},
     "title": ""
    }
   },
   "outputs": [
    {
     "output_type": "stream",
     "name": "stdout",
     "output_type": "stream",
     "text": [
      "+-----------+----------------+\n|   category|category_revenue|\n+-----------+----------------+\n|Electronics|       1630000.0|\n+-----------+----------------+\nonly showing top 1 row\n"
     ]
    }
   ],
   "source": [
    "parquet_df = spark.read.parquet(\"dbfs:/tmp/products_parquet\")\n",
    "parquet_df = parquet_df.withColumn(\"total_revenue\", col(\"price\") * col(\"quantity\"))\n",
    "parquet_df.groupBy(\"category\") \\\n",
    "    .sum(\"total_revenue\") \\\n",
    "    .withColumnRenamed(\"sum(total_revenue)\", \"category_revenue\") \\\n",
    "    .orderBy(col(\"category_revenue\").desc()) \\\n",
    "    .show(1)\n",
    "\n"
   ]
  },
  {
   "cell_type": "code",
   "execution_count": 0,
   "metadata": {
    "application/vnd.databricks.v1+cell": {
     "cellMetadata": {
      "byteLimit": 2048000,
      "rowLimit": 10000
     },
     "inputWidgets": {},
     "nuid": "37d06571-99bf-4ffb-90a1-82dc908df0bc",
     "showTitle": false,
     "tableResultSettingsMap": {},
     "title": ""
    }
   },
   "outputs": [
    {
     "output_type": "stream",
     "name": "stdout",
     "output_type": "stream",
     "text": [
      "+----------+------------+----------+-----+--------+-------------+----------+\n|product_id|product_name|  category|price|quantity|total_revenue|price_band|\n+----------+------------+----------+-----+--------+-------------+----------+\n|       104|        Book|Stationery|  400|     200|      80000.0|       Low|\n|       109|    Notebook|Stationery|   60|     300|      18000.0|       Low|\n|       107|         Pen|Stationery|   20|     500|      10000.0|       Low|\n+----------+------------+----------+-----+--------+-------------+----------+\n\n"
     ]
    }
   ],
   "source": [
    "df_with_band.createOrReplaceTempView(\"products\")\n",
    "spark.sql(\"\"\"\n",
    "    select * from products\n",
    "    where quantity > 100 and price < 1000\n",
    "\"\"\").show()\n"
   ]
  }
 ],
 "metadata": {
  "application/vnd.databricks.v1+notebook": {
   "computePreferences": null,
   "dashboards": [],
   "environmentMetadata": {
    "base_environment": "",
    "environment_version": "2"
   },
   "inputWidgetPreferences": null,
   "language": "python",
   "notebookMetadata": {
    "pythonIndentUnit": 4
   },
   "notebookName": "AZURE-EXERCISE-1",
   "widgets": {}
  },
  "language_info": {
   "name": "python"
  }
 },
 "nbformat": 4,
 "nbformat_minor": 0
}